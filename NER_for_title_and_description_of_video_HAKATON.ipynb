{
  "nbformat": 4,
  "nbformat_minor": 0,
  "metadata": {
    "colab": {
      "provenance": [],
      "collapsed_sections": [
        "fB13OiCKMHky",
        "5dI620lm_btp",
        "RsWyICi_chDP",
        "Y5toiCqDUU-v"
      ]
    },
    "kernelspec": {
      "name": "python3",
      "display_name": "Python 3"
    },
    "language_info": {
      "name": "python"
    }
  },
  "cells": [
    {
      "cell_type": "code",
      "execution_count": 104,
      "metadata": {
        "colab": {
          "base_uri": "https://localhost:8080/"
        },
        "id": "qRCVSCGHARqV",
        "outputId": "8305014d-1b9c-40ae-cfbf-6ebad48ed530"
      },
      "outputs": [
        {
          "output_type": "stream",
          "name": "stdout",
          "text": [
            "Requirement already satisfied: natasha in /usr/local/lib/python3.10/dist-packages (1.6.0)\n",
            "Requirement already satisfied: pymorphy2 in /usr/local/lib/python3.10/dist-packages (from natasha) (0.9.1)\n",
            "Requirement already satisfied: razdel>=0.5.0 in /usr/local/lib/python3.10/dist-packages (from natasha) (0.5.0)\n",
            "Requirement already satisfied: navec>=0.9.0 in /usr/local/lib/python3.10/dist-packages (from natasha) (0.10.0)\n",
            "Requirement already satisfied: slovnet>=0.6.0 in /usr/local/lib/python3.10/dist-packages (from natasha) (0.6.0)\n",
            "Requirement already satisfied: yargy>=0.16.0 in /usr/local/lib/python3.10/dist-packages (from natasha) (0.16.0)\n",
            "Requirement already satisfied: ipymarkup>=0.8.0 in /usr/local/lib/python3.10/dist-packages (from natasha) (0.9.0)\n",
            "Requirement already satisfied: intervaltree>=3 in /usr/local/lib/python3.10/dist-packages (from ipymarkup>=0.8.0->natasha) (3.1.0)\n",
            "Requirement already satisfied: numpy in /usr/local/lib/python3.10/dist-packages (from navec>=0.9.0->natasha) (1.23.5)\n",
            "Requirement already satisfied: dawg-python>=0.7.1 in /usr/local/lib/python3.10/dist-packages (from pymorphy2->natasha) (0.7.2)\n",
            "Requirement already satisfied: pymorphy2-dicts-ru<3.0,>=2.4 in /usr/local/lib/python3.10/dist-packages (from pymorphy2->natasha) (2.4.417127.4579844)\n",
            "Requirement already satisfied: docopt>=0.6 in /usr/local/lib/python3.10/dist-packages (from pymorphy2->natasha) (0.6.2)\n",
            "Requirement already satisfied: sortedcontainers<3.0,>=2.0 in /usr/local/lib/python3.10/dist-packages (from intervaltree>=3->ipymarkup>=0.8.0->natasha) (2.4.0)\n",
            "Requirement already satisfied: Wikipedia-API in /usr/local/lib/python3.10/dist-packages (0.6.0)\n",
            "Requirement already satisfied: requests in /usr/local/lib/python3.10/dist-packages (from Wikipedia-API) (2.31.0)\n",
            "Requirement already satisfied: charset-normalizer<4,>=2 in /usr/local/lib/python3.10/dist-packages (from requests->Wikipedia-API) (3.3.1)\n",
            "Requirement already satisfied: idna<4,>=2.5 in /usr/local/lib/python3.10/dist-packages (from requests->Wikipedia-API) (3.4)\n",
            "Requirement already satisfied: urllib3<3,>=1.21.1 in /usr/local/lib/python3.10/dist-packages (from requests->Wikipedia-API) (2.0.7)\n",
            "Requirement already satisfied: certifi>=2017.4.17 in /usr/local/lib/python3.10/dist-packages (from requests->Wikipedia-API) (2023.7.22)\n",
            "Requirement already satisfied: wikipedia in /usr/local/lib/python3.10/dist-packages (1.4.0)\n",
            "Requirement already satisfied: beautifulsoup4 in /usr/local/lib/python3.10/dist-packages (from wikipedia) (4.11.2)\n",
            "Requirement already satisfied: requests<3.0.0,>=2.0.0 in /usr/local/lib/python3.10/dist-packages (from wikipedia) (2.31.0)\n",
            "Requirement already satisfied: charset-normalizer<4,>=2 in /usr/local/lib/python3.10/dist-packages (from requests<3.0.0,>=2.0.0->wikipedia) (3.3.1)\n",
            "Requirement already satisfied: idna<4,>=2.5 in /usr/local/lib/python3.10/dist-packages (from requests<3.0.0,>=2.0.0->wikipedia) (3.4)\n",
            "Requirement already satisfied: urllib3<3,>=1.21.1 in /usr/local/lib/python3.10/dist-packages (from requests<3.0.0,>=2.0.0->wikipedia) (2.0.7)\n",
            "Requirement already satisfied: certifi>=2017.4.17 in /usr/local/lib/python3.10/dist-packages (from requests<3.0.0,>=2.0.0->wikipedia) (2023.7.22)\n",
            "Requirement already satisfied: soupsieve>1.2 in /usr/local/lib/python3.10/dist-packages (from beautifulsoup4->wikipedia) (2.5)\n",
            "2023-10-29 04:27:15.189380: E tensorflow/compiler/xla/stream_executor/cuda/cuda_dnn.cc:9342] Unable to register cuDNN factory: Attempting to register factory for plugin cuDNN when one has already been registered\n",
            "2023-10-29 04:27:15.189450: E tensorflow/compiler/xla/stream_executor/cuda/cuda_fft.cc:609] Unable to register cuFFT factory: Attempting to register factory for plugin cuFFT when one has already been registered\n",
            "2023-10-29 04:27:15.189491: E tensorflow/compiler/xla/stream_executor/cuda/cuda_blas.cc:1518] Unable to register cuBLAS factory: Attempting to register factory for plugin cuBLAS when one has already been registered\n",
            "2023-10-29 04:27:15.199979: I tensorflow/core/platform/cpu_feature_guard.cc:182] This TensorFlow binary is optimized to use available CPU instructions in performance-critical operations.\n",
            "To enable the following instructions: AVX2 FMA, in other operations, rebuild TensorFlow with the appropriate compiler flags.\n",
            "2023-10-29 04:27:16.576786: W tensorflow/compiler/tf2tensorrt/utils/py_utils.cc:38] TF-TRT Warning: Could not find TensorRT\n",
            "Collecting ru-core-news-sm==3.6.0\n",
            "  Downloading https://github.com/explosion/spacy-models/releases/download/ru_core_news_sm-3.6.0/ru_core_news_sm-3.6.0-py3-none-any.whl (15.3 MB)\n",
            "\u001b[2K     \u001b[90m━━━━━━━━━━━━━━━━━━━━━━━━━━━━━━━━━━━━━━━━\u001b[0m \u001b[32m15.3/15.3 MB\u001b[0m \u001b[31m46.7 MB/s\u001b[0m eta \u001b[36m0:00:00\u001b[0m\n",
            "\u001b[?25hRequirement already satisfied: spacy<3.7.0,>=3.6.0 in /usr/local/lib/python3.10/dist-packages (from ru-core-news-sm==3.6.0) (3.6.1)\n",
            "Requirement already satisfied: pymorphy3>=1.0.0 in /usr/local/lib/python3.10/dist-packages (from ru-core-news-sm==3.6.0) (1.2.1)\n",
            "Requirement already satisfied: dawg-python>=0.7.1 in /usr/local/lib/python3.10/dist-packages (from pymorphy3>=1.0.0->ru-core-news-sm==3.6.0) (0.7.2)\n",
            "Requirement already satisfied: docopt-ng>=0.6 in /usr/local/lib/python3.10/dist-packages (from pymorphy3>=1.0.0->ru-core-news-sm==3.6.0) (0.9.0)\n",
            "Requirement already satisfied: pymorphy3-dicts-ru in /usr/local/lib/python3.10/dist-packages (from pymorphy3>=1.0.0->ru-core-news-sm==3.6.0) (2.4.417150.4580142)\n",
            "Requirement already satisfied: spacy-legacy<3.1.0,>=3.0.11 in /usr/local/lib/python3.10/dist-packages (from spacy<3.7.0,>=3.6.0->ru-core-news-sm==3.6.0) (3.0.12)\n",
            "Requirement already satisfied: spacy-loggers<2.0.0,>=1.0.0 in /usr/local/lib/python3.10/dist-packages (from spacy<3.7.0,>=3.6.0->ru-core-news-sm==3.6.0) (1.0.5)\n",
            "Requirement already satisfied: murmurhash<1.1.0,>=0.28.0 in /usr/local/lib/python3.10/dist-packages (from spacy<3.7.0,>=3.6.0->ru-core-news-sm==3.6.0) (1.0.10)\n",
            "Requirement already satisfied: cymem<2.1.0,>=2.0.2 in /usr/local/lib/python3.10/dist-packages (from spacy<3.7.0,>=3.6.0->ru-core-news-sm==3.6.0) (2.0.8)\n",
            "Requirement already satisfied: preshed<3.1.0,>=3.0.2 in /usr/local/lib/python3.10/dist-packages (from spacy<3.7.0,>=3.6.0->ru-core-news-sm==3.6.0) (3.0.9)\n",
            "Requirement already satisfied: thinc<8.2.0,>=8.1.8 in /usr/local/lib/python3.10/dist-packages (from spacy<3.7.0,>=3.6.0->ru-core-news-sm==3.6.0) (8.1.12)\n",
            "Requirement already satisfied: wasabi<1.2.0,>=0.9.1 in /usr/local/lib/python3.10/dist-packages (from spacy<3.7.0,>=3.6.0->ru-core-news-sm==3.6.0) (1.1.2)\n",
            "Requirement already satisfied: srsly<3.0.0,>=2.4.3 in /usr/local/lib/python3.10/dist-packages (from spacy<3.7.0,>=3.6.0->ru-core-news-sm==3.6.0) (2.4.8)\n",
            "Requirement already satisfied: catalogue<2.1.0,>=2.0.6 in /usr/local/lib/python3.10/dist-packages (from spacy<3.7.0,>=3.6.0->ru-core-news-sm==3.6.0) (2.0.10)\n",
            "Requirement already satisfied: typer<0.10.0,>=0.3.0 in /usr/local/lib/python3.10/dist-packages (from spacy<3.7.0,>=3.6.0->ru-core-news-sm==3.6.0) (0.9.0)\n",
            "Requirement already satisfied: pathy>=0.10.0 in /usr/local/lib/python3.10/dist-packages (from spacy<3.7.0,>=3.6.0->ru-core-news-sm==3.6.0) (0.10.3)\n",
            "Requirement already satisfied: smart-open<7.0.0,>=5.2.1 in /usr/local/lib/python3.10/dist-packages (from spacy<3.7.0,>=3.6.0->ru-core-news-sm==3.6.0) (6.4.0)\n",
            "Requirement already satisfied: tqdm<5.0.0,>=4.38.0 in /usr/local/lib/python3.10/dist-packages (from spacy<3.7.0,>=3.6.0->ru-core-news-sm==3.6.0) (4.66.1)\n",
            "Requirement already satisfied: numpy>=1.15.0 in /usr/local/lib/python3.10/dist-packages (from spacy<3.7.0,>=3.6.0->ru-core-news-sm==3.6.0) (1.23.5)\n",
            "Requirement already satisfied: requests<3.0.0,>=2.13.0 in /usr/local/lib/python3.10/dist-packages (from spacy<3.7.0,>=3.6.0->ru-core-news-sm==3.6.0) (2.31.0)\n",
            "Requirement already satisfied: pydantic!=1.8,!=1.8.1,<3.0.0,>=1.7.4 in /usr/local/lib/python3.10/dist-packages (from spacy<3.7.0,>=3.6.0->ru-core-news-sm==3.6.0) (1.10.13)\n",
            "Requirement already satisfied: jinja2 in /usr/local/lib/python3.10/dist-packages (from spacy<3.7.0,>=3.6.0->ru-core-news-sm==3.6.0) (3.1.2)\n",
            "Requirement already satisfied: setuptools in /usr/local/lib/python3.10/dist-packages (from spacy<3.7.0,>=3.6.0->ru-core-news-sm==3.6.0) (67.7.2)\n",
            "Requirement already satisfied: packaging>=20.0 in /usr/local/lib/python3.10/dist-packages (from spacy<3.7.0,>=3.6.0->ru-core-news-sm==3.6.0) (23.2)\n",
            "Requirement already satisfied: langcodes<4.0.0,>=3.2.0 in /usr/local/lib/python3.10/dist-packages (from spacy<3.7.0,>=3.6.0->ru-core-news-sm==3.6.0) (3.3.0)\n",
            "Requirement already satisfied: typing-extensions>=4.2.0 in /usr/local/lib/python3.10/dist-packages (from pydantic!=1.8,!=1.8.1,<3.0.0,>=1.7.4->spacy<3.7.0,>=3.6.0->ru-core-news-sm==3.6.0) (4.5.0)\n",
            "Requirement already satisfied: charset-normalizer<4,>=2 in /usr/local/lib/python3.10/dist-packages (from requests<3.0.0,>=2.13.0->spacy<3.7.0,>=3.6.0->ru-core-news-sm==3.6.0) (3.3.1)\n",
            "Requirement already satisfied: idna<4,>=2.5 in /usr/local/lib/python3.10/dist-packages (from requests<3.0.0,>=2.13.0->spacy<3.7.0,>=3.6.0->ru-core-news-sm==3.6.0) (3.4)\n",
            "Requirement already satisfied: urllib3<3,>=1.21.1 in /usr/local/lib/python3.10/dist-packages (from requests<3.0.0,>=2.13.0->spacy<3.7.0,>=3.6.0->ru-core-news-sm==3.6.0) (2.0.7)\n",
            "Requirement already satisfied: certifi>=2017.4.17 in /usr/local/lib/python3.10/dist-packages (from requests<3.0.0,>=2.13.0->spacy<3.7.0,>=3.6.0->ru-core-news-sm==3.6.0) (2023.7.22)\n",
            "Requirement already satisfied: blis<0.8.0,>=0.7.8 in /usr/local/lib/python3.10/dist-packages (from thinc<8.2.0,>=8.1.8->spacy<3.7.0,>=3.6.0->ru-core-news-sm==3.6.0) (0.7.11)\n",
            "Requirement already satisfied: confection<1.0.0,>=0.0.1 in /usr/local/lib/python3.10/dist-packages (from thinc<8.2.0,>=8.1.8->spacy<3.7.0,>=3.6.0->ru-core-news-sm==3.6.0) (0.1.3)\n",
            "Requirement already satisfied: click<9.0.0,>=7.1.1 in /usr/local/lib/python3.10/dist-packages (from typer<0.10.0,>=0.3.0->spacy<3.7.0,>=3.6.0->ru-core-news-sm==3.6.0) (8.1.7)\n",
            "Requirement already satisfied: MarkupSafe>=2.0 in /usr/local/lib/python3.10/dist-packages (from jinja2->spacy<3.7.0,>=3.6.0->ru-core-news-sm==3.6.0) (2.1.3)\n",
            "\u001b[38;5;2m✔ Download and installation successful\u001b[0m\n",
            "You can now load the package via spacy.load('ru_core_news_sm')\n",
            "Requirement already satisfied: datefinder in /usr/local/lib/python3.10/dist-packages (0.7.3)\n",
            "Requirement already satisfied: regex>=2017.02.08 in /usr/local/lib/python3.10/dist-packages (from datefinder) (2023.6.3)\n",
            "Requirement already satisfied: python-dateutil>=2.4.2 in /usr/local/lib/python3.10/dist-packages (from datefinder) (2.8.2)\n",
            "Requirement already satisfied: pytz in /usr/local/lib/python3.10/dist-packages (from datefinder) (2023.3.post1)\n",
            "Requirement already satisfied: six>=1.5 in /usr/local/lib/python3.10/dist-packages (from python-dateutil>=2.4.2->datefinder) (1.16.0)\n",
            "Requirement already satisfied: datasets in /usr/local/lib/python3.10/dist-packages (2.14.6)\n",
            "Requirement already satisfied: numpy>=1.17 in /usr/local/lib/python3.10/dist-packages (from datasets) (1.23.5)\n",
            "Requirement already satisfied: pyarrow>=8.0.0 in /usr/local/lib/python3.10/dist-packages (from datasets) (9.0.0)\n",
            "Requirement already satisfied: dill<0.3.8,>=0.3.0 in /usr/local/lib/python3.10/dist-packages (from datasets) (0.3.7)\n",
            "Requirement already satisfied: pandas in /usr/local/lib/python3.10/dist-packages (from datasets) (1.5.3)\n",
            "Requirement already satisfied: requests>=2.19.0 in /usr/local/lib/python3.10/dist-packages (from datasets) (2.31.0)\n",
            "Requirement already satisfied: tqdm>=4.62.1 in /usr/local/lib/python3.10/dist-packages (from datasets) (4.66.1)\n",
            "Requirement already satisfied: xxhash in /usr/local/lib/python3.10/dist-packages (from datasets) (3.4.1)\n",
            "Requirement already satisfied: multiprocess in /usr/local/lib/python3.10/dist-packages (from datasets) (0.70.15)\n",
            "Requirement already satisfied: fsspec[http]<=2023.10.0,>=2023.1.0 in /usr/local/lib/python3.10/dist-packages (from datasets) (2023.6.0)\n",
            "Requirement already satisfied: aiohttp in /usr/local/lib/python3.10/dist-packages (from datasets) (3.8.6)\n",
            "Requirement already satisfied: huggingface-hub<1.0.0,>=0.14.0 in /usr/local/lib/python3.10/dist-packages (from datasets) (0.18.0)\n",
            "Requirement already satisfied: packaging in /usr/local/lib/python3.10/dist-packages (from datasets) (23.2)\n",
            "Requirement already satisfied: pyyaml>=5.1 in /usr/local/lib/python3.10/dist-packages (from datasets) (6.0.1)\n",
            "Requirement already satisfied: attrs>=17.3.0 in /usr/local/lib/python3.10/dist-packages (from aiohttp->datasets) (23.1.0)\n",
            "Requirement already satisfied: charset-normalizer<4.0,>=2.0 in /usr/local/lib/python3.10/dist-packages (from aiohttp->datasets) (3.3.1)\n",
            "Requirement already satisfied: multidict<7.0,>=4.5 in /usr/local/lib/python3.10/dist-packages (from aiohttp->datasets) (6.0.4)\n",
            "Requirement already satisfied: async-timeout<5.0,>=4.0.0a3 in /usr/local/lib/python3.10/dist-packages (from aiohttp->datasets) (4.0.3)\n",
            "Requirement already satisfied: yarl<2.0,>=1.0 in /usr/local/lib/python3.10/dist-packages (from aiohttp->datasets) (1.9.2)\n",
            "Requirement already satisfied: frozenlist>=1.1.1 in /usr/local/lib/python3.10/dist-packages (from aiohttp->datasets) (1.4.0)\n",
            "Requirement already satisfied: aiosignal>=1.1.2 in /usr/local/lib/python3.10/dist-packages (from aiohttp->datasets) (1.3.1)\n",
            "Requirement already satisfied: filelock in /usr/local/lib/python3.10/dist-packages (from huggingface-hub<1.0.0,>=0.14.0->datasets) (3.12.4)\n",
            "Requirement already satisfied: typing-extensions>=3.7.4.3 in /usr/local/lib/python3.10/dist-packages (from huggingface-hub<1.0.0,>=0.14.0->datasets) (4.5.0)\n",
            "Requirement already satisfied: idna<4,>=2.5 in /usr/local/lib/python3.10/dist-packages (from requests>=2.19.0->datasets) (3.4)\n",
            "Requirement already satisfied: urllib3<3,>=1.21.1 in /usr/local/lib/python3.10/dist-packages (from requests>=2.19.0->datasets) (2.0.7)\n",
            "Requirement already satisfied: certifi>=2017.4.17 in /usr/local/lib/python3.10/dist-packages (from requests>=2.19.0->datasets) (2023.7.22)\n",
            "Requirement already satisfied: python-dateutil>=2.8.1 in /usr/local/lib/python3.10/dist-packages (from pandas->datasets) (2.8.2)\n",
            "Requirement already satisfied: pytz>=2020.1 in /usr/local/lib/python3.10/dist-packages (from pandas->datasets) (2023.3.post1)\n",
            "Requirement already satisfied: six>=1.5 in /usr/local/lib/python3.10/dist-packages (from python-dateutil>=2.8.1->pandas->datasets) (1.16.0)\n",
            "Requirement already satisfied: seqeval in /usr/local/lib/python3.10/dist-packages (1.2.2)\n",
            "Requirement already satisfied: numpy>=1.14.0 in /usr/local/lib/python3.10/dist-packages (from seqeval) (1.23.5)\n",
            "Requirement already satisfied: scikit-learn>=0.21.3 in /usr/local/lib/python3.10/dist-packages (from seqeval) (1.2.2)\n",
            "Requirement already satisfied: scipy>=1.3.2 in /usr/local/lib/python3.10/dist-packages (from scikit-learn>=0.21.3->seqeval) (1.11.3)\n",
            "Requirement already satisfied: joblib>=1.1.1 in /usr/local/lib/python3.10/dist-packages (from scikit-learn>=0.21.3->seqeval) (1.3.2)\n",
            "Requirement already satisfied: threadpoolctl>=2.0.0 in /usr/local/lib/python3.10/dist-packages (from scikit-learn>=0.21.3->seqeval) (3.2.0)\n"
          ]
        }
      ],
      "source": [
        "!pip install natasha\n",
        "!pip install Wikipedia-API\n",
        "!pip install wikipedia\n",
        "!python -m spacy download ru_core_news_sm\n",
        "!pip install datefinder\n",
        "!pip install datasets\n",
        "!pip install seqeval"
      ]
    },
    {
      "cell_type": "code",
      "source": [
        "from natasha import (Segmenter, MorphVocab, NewsEmbedding, NewsMorphTagger, NewsSyntaxParser, NewsNERTagger, PER, NamesExtractor, DatesExtractor, MoneyExtractor, AddrExtractor, Doc)\n",
        "import wikipediaapi\n",
        "import wikipedia\n",
        "import re\n",
        "import datefinder\n",
        "from razdel import tokenize"
      ],
      "metadata": {
        "id": "DzTQhO9aBj9E"
      },
      "execution_count": 105,
      "outputs": []
    },
    {
      "cell_type": "code",
      "source": [
        "segmenter = Segmenter()\n",
        "morph_vocab = MorphVocab()\n",
        "emb = NewsEmbedding()\n",
        "morph_tagger = NewsMorphTagger(emb)\n",
        "syntax_parser = NewsSyntaxParser(emb)\n",
        "ner_tagger = NewsNERTagger(emb)\n",
        "names_extractor = NamesExtractor(morph_vocab)\n",
        "data_extractor = DatesExtractor(morph_vocab)\n",
        "money_extractor = MoneyExtractor(morph_vocab)\n",
        "address_extractor = AddrExtractor(morph_vocab)"
      ],
      "metadata": {
        "id": "mbirlCpiBmtj"
      },
      "execution_count": 106,
      "outputs": []
    },
    {
      "cell_type": "code",
      "source": [],
      "metadata": {
        "id": "UMJbpA20HE15"
      },
      "execution_count": null,
      "outputs": []
    },
    {
      "cell_type": "markdown",
      "source": [],
      "metadata": {
        "id": "CvRD2A57UzeY"
      }
    },
    {
      "cell_type": "markdown",
      "source": [
        "#1000 и 1 функция"
      ],
      "metadata": {
        "id": "FgWdpttKHFL4"
      }
    },
    {
      "cell_type": "markdown",
      "source": [
        "активные функции"
      ],
      "metadata": {
        "id": "TTEpvfe6HhZo"
      }
    },
    {
      "cell_type": "code",
      "source": [
        "#ищет локацию, организацию или имя\n",
        "def exctract_NER(title):\n",
        "  doc=Doc(title)\n",
        "  #разбивка текста на предложения\n",
        "  doc.segment(segmenter)\n",
        "  doc.tag_morph(morph_tagger)\n",
        "  doc.tag_ner(ner_tagger)\n",
        "\n",
        "  #for word in doc.tokens:\n",
        "  #  word.lemmatize(morph_vocab)\n",
        "\n",
        "\n",
        "  return [[x.text, replace_NER_name(x.type), x.__dict__['start']] for x in doc.spans]"
      ],
      "metadata": {
        "id": "mjTGZZFiTrux"
      },
      "execution_count": 107,
      "outputs": []
    },
    {
      "cell_type": "code",
      "source": [
        "def replace_NER_name(ner_type):\n",
        "  replace_dict={'LOC':'локация','PER':'персона','ORG':'организация'}\n",
        "  return replace_dict[ner_type]"
      ],
      "metadata": {
        "id": "CZxesjzcSCa3"
      },
      "execution_count": 108,
      "outputs": []
    },
    {
      "cell_type": "code",
      "source": [
        "#удаляет все ссылки из текста\n",
        "def delete_links(text):\n",
        "  pattern = r'<LINK>.*?<LINK>'\n",
        "  match_=re.findall(pattern, text)\n",
        "  #print(match_.start(),match_.end())\n",
        "  text=text[:match_.start()]+'_'*(match_.end()-match_.start())+text[match_.end():]\n",
        "  #cleaned_text = re.sub(pattern, '', text)\n",
        "  return text\n",
        "\n",
        "\"\"\"\n",
        "def delete_links2(text):\n",
        "  pattern = r'<LINK>.*?<LINK>'\n",
        "  tag_text=re.sub(pattern,'<DEL LINK>' ,text)\n",
        "  text_in_links = re.findall(pattern, text)\n",
        "  tokineze_text_in_links=[]\n",
        "  for txt in text_in_links:\n",
        "    raw_toks = list(tokenize(txt))\n",
        "    words = [tok.text for tok in raw_toks]\n",
        "    fill_words = ' _'*len(words)\n",
        "    tokineze_text_in_links.append(fill_words)\n",
        "\n",
        "  for word_fill_tokens in tokineze_text_in_links:\n",
        "    tag_text=tag_text.replace('<DEL LINK>',word_fill_tokens,1)\n",
        "\n",
        "  return tag_text\n",
        "\"\"\"\n",
        "\n",
        "def delete_tags(text):\n",
        "  cleaned_text=text.replace('<НАЗВАНИЕ:>',\"_\"*len('<НАЗВАНИЕ:>')).replace('<ОПИСАНИЕ:>',\"_\"*len('<ОПИСАНИЕ:>'))\n",
        "  return cleaned_text"
      ],
      "metadata": {
        "id": "yMR691BeamwE"
      },
      "execution_count": 109,
      "outputs": []
    },
    {
      "cell_type": "code",
      "source": [
        "def clear_text(text):\n",
        " try: text=delete_links(text)\n",
        " except: pass\n",
        " text=delete_tags(text)\n",
        "\n",
        " #cleaned_text = re.sub(r'[^-а-яА-Яa-zA-Z.,/ ]', '', re.sub(r'\\([^)]*\\)|\\{[^}]*\\}|\\[[^\\]]*\\]', '', text))\n",
        " return text"
      ],
      "metadata": {
        "id": "zuSxgiFd-qwO"
      },
      "execution_count": 110,
      "outputs": []
    },
    {
      "cell_type": "code",
      "source": [
        "def exctract_date(text):\n",
        "  pattern_with_dot = r'\\b((\\d{1,2}\\.\\d{1,2}\\.\\d{4})|(\\d{1,2} (?:сентября|октября|ноября|декабря|января|февраля|марта|апреля|мая|июня|июля|августа) \\d{4}))\\b'\n",
        "  matches = re.findall(pattern_with_dot, text)\n",
        "  list_data =[]\n",
        "  if not matches: return list_data\n",
        "  for match in matches:\n",
        "    list_data.append([match[0], 'Дата', text.find(match[0])])\n",
        "  return list_data"
      ],
      "metadata": {
        "id": "6TWvJ8mBHxpe"
      },
      "execution_count": 111,
      "outputs": []
    },
    {
      "cell_type": "code",
      "source": [
        "import re\n",
        "def find_seazon(text):\n",
        "  pattern_with_dot = r'((\\d+ сезон)|(сезон \\d+))'\n",
        "  matches = re.findall(pattern_with_dot, text)\n",
        "  list_seazon = []\n",
        "  if not matches:\n",
        "      return list_seazon\n",
        "  for match in matches:\n",
        "    list_seazon.append([match[0], 'сезон', text.find(match[0])])\n",
        "  return list_seazon"
      ],
      "metadata": {
        "id": "n7TqHYnHyTg5"
      },
      "execution_count": 112,
      "outputs": []
    },
    {
      "cell_type": "code",
      "source": [
        "def find_epizode(text):\n",
        "    pattern_with_dot = r'((серия \\d+)|(\\d+ серия)|(# ?\\d+)|(№ ?\\d+))'\n",
        "    s = text.find(\"серия\")\n",
        "    text = text[s:]\n",
        "    prob = \" \"\n",
        "    prob = prob * s\n",
        "    text = prob + text\n",
        "    matches = re.findall(pattern_with_dot, text)\n",
        "    list_epizode = []\n",
        "    if not matches:\n",
        "        return list_epizode\n",
        "    for match in matches:\n",
        "      list_epizode.append([match[0], 'серия', text.find(match[0])])\n",
        "    return list_epizode"
      ],
      "metadata": {
        "id": "Cu-nqXmoWhnI"
      },
      "execution_count": 113,
      "outputs": []
    },
    {
      "cell_type": "code",
      "source": [
        "def extract_epizode_season(text):\n",
        "  list_seazon = find_seazon(text)\n",
        "  list_epizode = find_epizode(text)\n",
        "  list_epizode_seria = []\n",
        "  for seazon in list_seazon:\n",
        "    list_epizode_seria.append(seazon)\n",
        "\n",
        "  for epizode in list_epizode:\n",
        "    list_epizode_seria.append(epizode)\n",
        "  return list_epizode_seria\n",
        "\n"
      ],
      "metadata": {
        "id": "bQWDWE6EvjlI"
      },
      "execution_count": 114,
      "outputs": []
    },
    {
      "cell_type": "code",
      "source": [
        "def split_title_discription(text):\n",
        "  idx=text.find('<ОПИСАНИЕ:>')\n",
        "  title=text[:idx]\n",
        "  discription=text[idx:]\n",
        "  return [title, discription]"
      ],
      "metadata": {
        "id": "deb9qDvUIvTC"
      },
      "execution_count": 30,
      "outputs": []
    },
    {
      "cell_type": "code",
      "source": [
        "\n",
        "sport_list=['футбол','баскетбол','теннис','волейбол','бейсбол','гандбол','хоккей','крикет','регби','американский','футбол','футзал','настольный','теннис','каратэ','бокс','бокс','борьба','пулевая','стрельба','стрельба','из','лука','гольф','велоспорт','плавание','синхронное','плавание','водное','поло','аквааэробика','дайвинг','гимнастика','акробатика','тяжелая','атлетика','парусный','спорт','виндсерфинг','кайтсерфинг','лодка','яхта','сёрфинг','скейтбординг','bmx','трюковой','спорт','танцы','балет','лыжи','альпинизм','туризм','football','basketball','tennis','volleyball','baseball','handball','hockey','cricket','rugby','american','football','futsal','table','tennis','karate','boxing','boxing','wrestling','bullet','shooting','archery','golf','cycling','swimming','synchronized','swimming','water','polo','water','aerobics','diving','gymnastics','acrobatics','weightlifting','sailing','windsurfing','kitesurfing','boat','yacht','surfing','skateboarding','bmx','stunt','sports','dancing','ballet','skiing','mountaineering','hiking']\n",
        "def exctract_sport(text):\n",
        "  exctracts=[]\n",
        "  doc=Doc(text)\n",
        "  #разбивка текста на предложения\n",
        "  doc.segment(segmenter)\n",
        "  doc.tag_morph(morph_tagger)\n",
        "\n",
        "  for word in doc.tokens:\n",
        "    word.lemmatize(morph_vocab)\n",
        "    if word.lemma in sport_list:\n",
        "      exctracts.append([word.text,'вид спорта',word.start])\n",
        "  return exctracts"
      ],
      "metadata": {
        "id": "Ouq2FakeX-q6"
      },
      "execution_count": 31,
      "outputs": []
    },
    {
      "cell_type": "code",
      "source": [
        "def pipline_afer_exctact(category,analise_dict):\n",
        "  if len(category)==0: return analise_dict\n",
        "  for exemplar in category:\n",
        "    analise_dict['NER'].append(exemplar)\n",
        "  return analise_dict"
      ],
      "metadata": {
        "id": "gXqKW1qzd75G"
      },
      "execution_count": 32,
      "outputs": []
    },
    {
      "cell_type": "code",
      "source": [
        "#основная функция обработки и анализа текста\n",
        "def full_analise(text):\n",
        "  analise_dict={}\n",
        "  title, discription=split_title_discription(text)\n",
        "  text=clear_text(text)\n",
        "\n",
        "  #выделение персоны, локации, организации\n",
        "  analise_dict['NER']=exctract_NER(text)\n",
        "\n",
        "  #выделение серии и сезона\n",
        "  ss=extract_epizode_season(text)\n",
        "  analise_dict=pipline_afer_exctact(ss,analise_dict)\n",
        "\n",
        "  #выделение даты\n",
        "  dates=exctract_date(text)\n",
        "  analise_dict=pipline_afer_exctact(dates,analise_dict)\n",
        "\n",
        "  #выделение видов спорта\n",
        "  #sports=exctract_sport(text)\n",
        "  #analise_dict=pipline_afer_exctact(sports,analise_dict)\n",
        "\n",
        "  return analise_dict\n"
      ],
      "metadata": {
        "id": "C5IagsNhJvHB"
      },
      "execution_count": 93,
      "outputs": []
    },
    {
      "cell_type": "code",
      "source": [
        "#привод нашего формата выделения NER в формат датасета\n",
        "def full_analise_dForm(text):\n",
        "  analise_dict=full_analise(text)\n",
        "  if len(analise_dict['NER'])==0: return {'label':'не найдено'}\n",
        "  normal_analise_dicts=[]\n",
        "  for ner in analise_dict['NER']:\n",
        "    normal_analise_dict={}\n",
        "    normal_analise_dict['label']=ner[1]\n",
        "    normal_analise_dict['offset']=ner[2]\n",
        "    normal_analise_dict['length']=len(ner[0])\n",
        "    normal_analise_dict['segment']=ner[0]\n",
        "    normal_analise_dicts.append(normal_analise_dict)\n",
        "  return normal_analise_dicts"
      ],
      "metadata": {
        "id": "dTH-vzvOoFBz"
      },
      "execution_count": 34,
      "outputs": []
    },
    {
      "cell_type": "code",
      "source": [
        "title=\"\"\"14 октября 2023 года Юрьев Никита пошел в яндекс, находится он в России, город Москва, там представили нам новый сезон и серию человека паука\"\"\"\n",
        "discription=\"Присутствует спойлеры и ненормативная лексика. В этой нарезке вы увидите: Как использовать паучье чутье в Spider-Man, косплей на человека-паука, мнение об игре и другие забавные моменты.\"\n",
        "text=f\"<НАЗВАНИЕ:> {title} <ОПИСАНИЕ:> {discription}\""
      ],
      "metadata": {
        "id": "ecyh0qY6GgvH"
      },
      "execution_count": 64,
      "outputs": []
    },
    {
      "cell_type": "code",
      "source": [
        "#Наш формат выделения NER\n",
        "full_analise(text)['NER']"
      ],
      "metadata": {
        "colab": {
          "base_uri": "https://localhost:8080/"
        },
        "id": "0gUTKWdsdLa3",
        "outputId": "5d5eb4d9-33b8-4779-f484-28b93e27be8b"
      },
      "execution_count": 67,
      "outputs": [
        {
          "output_type": "execute_result",
          "data": {
            "text/plain": [
              "[['Юрьев Никита', 'персона', 33],\n",
              " ['России', 'локация', 77],\n",
              " ['Москва', 'локация', 91],\n",
              " ['Spider-Man', 'организация', 272],\n",
              " ['14 октября 2023', 'Дата', 12]]"
            ]
          },
          "metadata": {},
          "execution_count": 67
        }
      ]
    },
    {
      "cell_type": "code",
      "source": [
        "#Выделение NER в формате датасета\n",
        "full_analise_dForm(text)"
      ],
      "metadata": {
        "colab": {
          "base_uri": "https://localhost:8080/"
        },
        "id": "CHULnnTWd9ai",
        "outputId": "20f6d45c-b062-4c5e-bcb1-7c0f57f5b5de"
      },
      "execution_count": 68,
      "outputs": [
        {
          "output_type": "execute_result",
          "data": {
            "text/plain": [
              "[{'label': 'персона', 'offset': 33, 'length': 12, 'segment': 'Юрьев Никита'},\n",
              " {'label': 'локация', 'offset': 77, 'length': 6, 'segment': 'России'},\n",
              " {'label': 'локация', 'offset': 91, 'length': 6, 'segment': 'Москва'},\n",
              " {'label': 'организация',\n",
              "  'offset': 272,\n",
              "  'length': 10,\n",
              "  'segment': 'Spider-Man'},\n",
              " {'label': 'Дата', 'offset': 12, 'length': 15, 'segment': '14 октября 2023'}]"
            ]
          },
          "metadata": {},
          "execution_count": 68
        }
      ]
    },
    {
      "cell_type": "markdown",
      "source": [
        "#<h1>Загрузка датасета</h1>"
      ],
      "metadata": {
        "id": "fB13OiCKMHky"
      }
    },
    {
      "cell_type": "code",
      "execution_count": 69,
      "metadata": {
        "id": "x3H4oWBX2Duw"
      },
      "outputs": [],
      "source": [
        "import pandas as pd\n",
        "from matplotlib import pyplot as plt"
      ]
    },
    {
      "cell_type": "code",
      "source": [
        "dataframe=pd.read_csv('./ner_data_train.csv')"
      ],
      "metadata": {
        "id": "60w9J8J72GO5"
      },
      "execution_count": 115,
      "outputs": []
    },
    {
      "cell_type": "code",
      "source": [
        "dataframe"
      ],
      "metadata": {
        "colab": {
          "base_uri": "https://localhost:8080/",
          "height": 979
        },
        "id": "R5-kcsvC2TsX",
        "outputId": "f40a582b-2c69-49e1-bc49-5a0e2472609a"
      },
      "execution_count": 116,
      "outputs": [
        {
          "output_type": "execute_result",
          "data": {
            "text/plain": [
              "                                                                                                                                                                                                                                                                                                       video_info  \\\n",
              "0     <НАЗВАНИЕ:> Агент 117: Из Африки с любовью — Русский тизер=трейлер (2021) <ОПИСАНИЕ:>Лучший Telegram канал о кино <LINK> Сотрудничество <LINK> Дата выхода 26 августа 2021 Оригинальное название: OSS 117: Alerte rouge en Afrique noire Страна: Франция Режиссер: Николя Бедос Жанр: боевик, комедия В ...   \n",
              "1     <НАЗВАНИЕ:> Коленвал Инфинити Ку икс 56= 5.6 VK56 VK56DE VK56=DE Коленный Вал Infiniti QX56= 5.6 стандартный <ОПИСАНИЕ:><LINK> kolenval infiniti iks.html Коленвал Инфинити Ку икс 56​ Коленный Вал Infiniti QX56​ Модель Двигателя: VK56, VK56DE, VK56 DE Рабочий объем двигателя: 5.6 Мощность в л.с. ...   \n",
              "2     <НАЗВАНИЕ:> ВЫЗОВ ДЕМОНА = Вызвал Серого Человека [Короткометражный фильм] #серыйчеловек, #короткометражныйфильм <ОПИСАНИЕ:>ВЫЗОВ ДЕМОНА Вызвал Серого Человека [Короткометражный фильм] #серыйчеловек, #короткометражныйфильм Спасибо за просмотр. В качестве оплаты с вас лайк и подписка) Ссылки на м...   \n",
              "3     <НАЗВАНИЕ:> Довоенная немецкая кирха в Калининградской области. Посетили вместе с #Заброшки39! <ОПИСАНИЕ:>Хочешь новых эмоций, побывать в необычных местах, тогда присоединяйся к нам <AT>! Автомобильные путешествия по заброшенным старинным сооружениям. Самые необычные места Калининградской област...   \n",
              "4     <НАЗВАНИЕ:> \"Спартаку\" помогли судьи? Локомотив засудили? Стоило ли отменять гол? <ОПИСАНИЕ:>Спартак #Локомотив #обзор #обзорматча #всеголы #Локо #ЛокомотивМосква #голПруцева #ЛокомотивСпартакобзор #ЛокомотивСпартакполныйматч #Кубок #КубокРоссии #ЛокомотивСпартаксудья #отмененныйгол #ЛокомотивСп...   \n",
              "...                                                                                                                                                                                                                                                                                                           ...   \n",
              "6417  <НАЗВАНИЕ:> ЗАПРЕЩЕННЫЙ УДАР! Полный бой Вадим Немков vs Кори Андерсон / ОБЗОР BELLATOR 277 <ОПИСАНИЕ:>► Регистрируйся, получай ФРИБЕТ <LINK> ► ТЕЛЕГРАММ MMA review <LINK> ► ГРУППА VK: <LINK> ► ЯНДЕКС ДЗЕН: <LINK> ОБЗОР BELLATOR 277 Вадим Немков vs Кори Андерсон / Эй Джей Макки, Патрисио Фрейре ...   \n",
              "6418  <НАЗВАНИЕ:> Как создаются медали: оптические иллюзии глубины, высоты, объёма <ОПИСАНИЕ:>Хантыйский художник, выросший на Ямале, более 20 лет работает на Московском монетном дворе. Но Север для Эдуарда Тользина – главный источник вдохновения. Скульптор привёз в окружной дом ремёсел персональную в...   \n",
              "6419  <НАЗВАНИЕ:> Ремонт ломовоза камаз, монтаж гидроцилиндра подъема кузова. Устраняем течь в распреде автовышки <ОПИСАНИЕ:>Видео от 6 апреля 2018 г. #Ремонт ломовоза #камаз, монтаж гидроцилиндра подъема кузова. Устраняем течь в распреде автовышки У клиента на металловозе оторвался гидроцилиндр подъе...   \n",
              "6420  <НАЗВАНИЕ:> Голодные игры: Баллада о змеях и певчих птицах — Русский трейлер (2023) <ОПИСАНИЕ:>Премьера (мир) — 17 ноября 2023 ▪︎ Оригинальное название: The Hunger Games: The Ballad of Songbirds and Snakes ▪︎ Страна: США ▪︎ Режиссер: Фрэнсис Лоуренс ▪︎ Жанр: фантастика, боевик, триллер, драма, п...   \n",
              "6421                 <НАЗВАНИЕ:> Экскаватор на Дровах! Часть 15. Закончил с железом. Ставим распределители. <ОПИСАНИЕ:>Купить готовую или заказать 3D печать – <LINK> Я на Dzen dzen.ru/mihalych_style Я на youtobe <LINK>/<AT> Я в ВК <LINK> Я в Instagram <LINK> Я в Facebook <LINK> По вопросам рекламы – <AT>   \n",
              "\n",
              "                                                                                                                                                                                                                                                                                                         entities  \n",
              "0     {\"label\":\"локация\"\\,\"offset\":26\\,\"length\":6\\,\"segment\":\"Африки\"},{\"label\":\"Дата\"\\,\"offset\":155\\,\"length\":15\\,\"segment\":\"26 августа 2021\"},{\"label\":\"название проекта\"\\,\"offset\":194\\,\"length\":38\\,\"segment\":\"OSS 117: Alerte rouge en Afrique noire\"},{\"label\":\"локация\"\\,\"offset\":241\\,\"length\":7\\,\"seg...  \n",
              "1                                                                                                                                                                                                                           {\"label\":\"организация\"\\,\"offset\":196\\,\"length\":21\\,\"segment\":\"Infiniti QX56​ Модель\"}  \n",
              "2                                                                                              {\"label\":\"название проекта\"\\,\"offset\":12\\,\"length\":37\\,\"segment\":\"ВЫЗОВ ДЕМОНА = Вызвал Серого Человека\"},{\"label\":\"название проекта\"\\,\"offset\":124\\,\"length\":35\\,\"segment\":\"ВЫЗОВ ДЕМОНА Вызвал Серого Человека\"}  \n",
              "3                                                                                                                                                                                                                                    {\"label\":\"не найдено\"\\,\"offset\":162\\,\"length\":13\\,\"segment\":\"присоединяйся\"}  \n",
              "4     {\"label\":\"команда\"\\,\"offset\":13\\,\"length\":8\\,\"segment\":\"Спартаку\"},{\"label\":\"команда\"\\,\"offset\":38\\,\"length\":9\\,\"segment\":\"Локомотив\"},{\"label\":\"команда\"\\,\"offset\":93\\,\"length\":7\\,\"segment\":\"Спартак\"},{\"label\":\"команда\"\\,\"offset\":102\\,\"length\":9\\,\"segment\":\"Локомотив\"},{\"label\":\"команда\"\\,\"offse...  \n",
              "...                                                                                                                                                                                                                                                                                                           ...  \n",
              "6417  {\"label\":\"персона\"\\,\"offset\":41\\,\"length\":12\\,\"segment\":\"Вадим Немков\"},{\"label\":\"персона\"\\,\"offset\":57\\,\"length\":13\\,\"segment\":\"Кори Андерсон\"},{\"label\":\"персона\"\\,\"offset\":233\\,\"length\":12\\,\"segment\":\"Вадим Немков\"},{\"label\":\"персона\"\\,\"offset\":249\\,\"length\":13\\,\"segment\":\"Кори Андерсон\"},{\"la...  \n",
              "6418  {\"label\":\"локация\"\\,\"offset\":88\\,\"length\":10\\,\"segment\":\"Хантыйский\"},{\"label\":\"локация\"\\,\"offset\":121\\,\"length\":5\\,\"segment\":\"Ямале\"},{\"label\":\"локация\"\\,\"offset\":153\\,\"length\":10\\,\"segment\":\"Московском\"},{\"label\":\"организация\"\\,\"offset\":164\\,\"length\":14\\,\"segment\":\"монетном дворе\"},{\"label\":\"л...  \n",
              "6419                            {\"label\":\"бренд\"\\,\"offset\":28\\,\"length\":5\\,\"segment\":\"камаз\"},{\"label\":\"Дата\"\\,\"offset\":128\\,\"length\":13\\,\"segment\":\"6 апреля 2018\"},{\"label\":\"бренд\"\\,\"offset\":163\\,\"length\":5\\,\"segment\":\"камаз\"},{\"label\":\"организация\"\\,\"offset\":550\\,\"length\":13\\,\"segment\":\"РемзонаМКАД31\"}  \n",
              "6420  {\"label\":\"Дата\"\\,\"offset\":78\\,\"length\":4\\,\"segment\":\"2023\"},{\"label\":\"Дата\"\\,\"offset\":112\\,\"length\":14\\,\"segment\":\"17 ноября 2023\"},{\"label\":\"название проекта\"\\,\"offset\":153\\,\"length\":52\\,\"segment\":\"The Hunger Games: The Ballad of Songbirds and Snakes\"},{\"label\":\"локация\"\\,\"offset\":217\\,\"length\"...  \n",
              "6421                                                                                                                                                                                       {\"label\":\"название проекта\"\\,\"offset\":12\\,\"length\":50\\,\"segment\":\"Экскаватор на Дровах! Часть 15. Закончил с железом\"}  \n",
              "\n",
              "[6422 rows x 2 columns]"
            ],
            "text/html": [
              "\n",
              "  <div id=\"df-fbcf138c-7ab9-4b3e-92c3-dd10995a8c37\" class=\"colab-df-container\">\n",
              "    <div>\n",
              "<style scoped>\n",
              "    .dataframe tbody tr th:only-of-type {\n",
              "        vertical-align: middle;\n",
              "    }\n",
              "\n",
              "    .dataframe tbody tr th {\n",
              "        vertical-align: top;\n",
              "    }\n",
              "\n",
              "    .dataframe thead th {\n",
              "        text-align: right;\n",
              "    }\n",
              "</style>\n",
              "<table border=\"1\" class=\"dataframe\">\n",
              "  <thead>\n",
              "    <tr style=\"text-align: right;\">\n",
              "      <th></th>\n",
              "      <th>video_info</th>\n",
              "      <th>entities</th>\n",
              "    </tr>\n",
              "  </thead>\n",
              "  <tbody>\n",
              "    <tr>\n",
              "      <th>0</th>\n",
              "      <td>&lt;НАЗВАНИЕ:&gt; Агент 117: Из Африки с любовью — Русский тизер=трейлер (2021) &lt;ОПИСАНИЕ:&gt;Лучший Telegram канал о кино &lt;LINK&gt; Сотрудничество &lt;LINK&gt; Дата выхода 26 августа 2021 Оригинальное название: OSS 117: Alerte rouge en Afrique noire Страна: Франция Режиссер: Николя Бедос Жанр: боевик, комедия В ...</td>\n",
              "      <td>{\"label\":\"локация\"\\,\"offset\":26\\,\"length\":6\\,\"segment\":\"Африки\"},{\"label\":\"Дата\"\\,\"offset\":155\\,\"length\":15\\,\"segment\":\"26 августа 2021\"},{\"label\":\"название проекта\"\\,\"offset\":194\\,\"length\":38\\,\"segment\":\"OSS 117: Alerte rouge en Afrique noire\"},{\"label\":\"локация\"\\,\"offset\":241\\,\"length\":7\\,\"seg...</td>\n",
              "    </tr>\n",
              "    <tr>\n",
              "      <th>1</th>\n",
              "      <td>&lt;НАЗВАНИЕ:&gt; Коленвал Инфинити Ку икс 56= 5.6 VK56 VK56DE VK56=DE Коленный Вал Infiniti QX56= 5.6 стандартный &lt;ОПИСАНИЕ:&gt;&lt;LINK&gt; kolenval infiniti iks.html Коленвал Инфинити Ку икс 56​ Коленный Вал Infiniti QX56​ Модель Двигателя: VK56, VK56DE, VK56 DE Рабочий объем двигателя: 5.6 Мощность в л.с. ...</td>\n",
              "      <td>{\"label\":\"организация\"\\,\"offset\":196\\,\"length\":21\\,\"segment\":\"Infiniti QX56​ Модель\"}</td>\n",
              "    </tr>\n",
              "    <tr>\n",
              "      <th>2</th>\n",
              "      <td>&lt;НАЗВАНИЕ:&gt; ВЫЗОВ ДЕМОНА = Вызвал Серого Человека [Короткометражный фильм] #серыйчеловек, #короткометражныйфильм &lt;ОПИСАНИЕ:&gt;ВЫЗОВ ДЕМОНА Вызвал Серого Человека [Короткометражный фильм] #серыйчеловек, #короткометражныйфильм Спасибо за просмотр. В качестве оплаты с вас лайк и подписка) Ссылки на м...</td>\n",
              "      <td>{\"label\":\"название проекта\"\\,\"offset\":12\\,\"length\":37\\,\"segment\":\"ВЫЗОВ ДЕМОНА = Вызвал Серого Человека\"},{\"label\":\"название проекта\"\\,\"offset\":124\\,\"length\":35\\,\"segment\":\"ВЫЗОВ ДЕМОНА Вызвал Серого Человека\"}</td>\n",
              "    </tr>\n",
              "    <tr>\n",
              "      <th>3</th>\n",
              "      <td>&lt;НАЗВАНИЕ:&gt; Довоенная немецкая кирха в Калининградской области. Посетили вместе с #Заброшки39! &lt;ОПИСАНИЕ:&gt;Хочешь новых эмоций, побывать в необычных местах, тогда присоединяйся к нам &lt;AT&gt;! Автомобильные путешествия по заброшенным старинным сооружениям. Самые необычные места Калининградской област...</td>\n",
              "      <td>{\"label\":\"не найдено\"\\,\"offset\":162\\,\"length\":13\\,\"segment\":\"присоединяйся\"}</td>\n",
              "    </tr>\n",
              "    <tr>\n",
              "      <th>4</th>\n",
              "      <td>&lt;НАЗВАНИЕ:&gt; \"Спартаку\" помогли судьи? Локомотив засудили? Стоило ли отменять гол? &lt;ОПИСАНИЕ:&gt;Спартак #Локомотив #обзор #обзорматча #всеголы #Локо #ЛокомотивМосква #голПруцева #ЛокомотивСпартакобзор #ЛокомотивСпартакполныйматч #Кубок #КубокРоссии #ЛокомотивСпартаксудья #отмененныйгол #ЛокомотивСп...</td>\n",
              "      <td>{\"label\":\"команда\"\\,\"offset\":13\\,\"length\":8\\,\"segment\":\"Спартаку\"},{\"label\":\"команда\"\\,\"offset\":38\\,\"length\":9\\,\"segment\":\"Локомотив\"},{\"label\":\"команда\"\\,\"offset\":93\\,\"length\":7\\,\"segment\":\"Спартак\"},{\"label\":\"команда\"\\,\"offset\":102\\,\"length\":9\\,\"segment\":\"Локомотив\"},{\"label\":\"команда\"\\,\"offse...</td>\n",
              "    </tr>\n",
              "    <tr>\n",
              "      <th>...</th>\n",
              "      <td>...</td>\n",
              "      <td>...</td>\n",
              "    </tr>\n",
              "    <tr>\n",
              "      <th>6417</th>\n",
              "      <td>&lt;НАЗВАНИЕ:&gt; ЗАПРЕЩЕННЫЙ УДАР! Полный бой Вадим Немков vs Кори Андерсон / ОБЗОР BELLATOR 277 &lt;ОПИСАНИЕ:&gt;► Регистрируйся, получай ФРИБЕТ &lt;LINK&gt; ► ТЕЛЕГРАММ MMA review &lt;LINK&gt; ► ГРУППА VK: &lt;LINK&gt; ► ЯНДЕКС ДЗЕН: &lt;LINK&gt; ОБЗОР BELLATOR 277 Вадим Немков vs Кори Андерсон / Эй Джей Макки, Патрисио Фрейре ...</td>\n",
              "      <td>{\"label\":\"персона\"\\,\"offset\":41\\,\"length\":12\\,\"segment\":\"Вадим Немков\"},{\"label\":\"персона\"\\,\"offset\":57\\,\"length\":13\\,\"segment\":\"Кори Андерсон\"},{\"label\":\"персона\"\\,\"offset\":233\\,\"length\":12\\,\"segment\":\"Вадим Немков\"},{\"label\":\"персона\"\\,\"offset\":249\\,\"length\":13\\,\"segment\":\"Кори Андерсон\"},{\"la...</td>\n",
              "    </tr>\n",
              "    <tr>\n",
              "      <th>6418</th>\n",
              "      <td>&lt;НАЗВАНИЕ:&gt; Как создаются медали: оптические иллюзии глубины, высоты, объёма &lt;ОПИСАНИЕ:&gt;Хантыйский художник, выросший на Ямале, более 20 лет работает на Московском монетном дворе. Но Север для Эдуарда Тользина – главный источник вдохновения. Скульптор привёз в окружной дом ремёсел персональную в...</td>\n",
              "      <td>{\"label\":\"локация\"\\,\"offset\":88\\,\"length\":10\\,\"segment\":\"Хантыйский\"},{\"label\":\"локация\"\\,\"offset\":121\\,\"length\":5\\,\"segment\":\"Ямале\"},{\"label\":\"локация\"\\,\"offset\":153\\,\"length\":10\\,\"segment\":\"Московском\"},{\"label\":\"организация\"\\,\"offset\":164\\,\"length\":14\\,\"segment\":\"монетном дворе\"},{\"label\":\"л...</td>\n",
              "    </tr>\n",
              "    <tr>\n",
              "      <th>6419</th>\n",
              "      <td>&lt;НАЗВАНИЕ:&gt; Ремонт ломовоза камаз, монтаж гидроцилиндра подъема кузова. Устраняем течь в распреде автовышки &lt;ОПИСАНИЕ:&gt;Видео от 6 апреля 2018 г. #Ремонт ломовоза #камаз, монтаж гидроцилиндра подъема кузова. Устраняем течь в распреде автовышки У клиента на металловозе оторвался гидроцилиндр подъе...</td>\n",
              "      <td>{\"label\":\"бренд\"\\,\"offset\":28\\,\"length\":5\\,\"segment\":\"камаз\"},{\"label\":\"Дата\"\\,\"offset\":128\\,\"length\":13\\,\"segment\":\"6 апреля 2018\"},{\"label\":\"бренд\"\\,\"offset\":163\\,\"length\":5\\,\"segment\":\"камаз\"},{\"label\":\"организация\"\\,\"offset\":550\\,\"length\":13\\,\"segment\":\"РемзонаМКАД31\"}</td>\n",
              "    </tr>\n",
              "    <tr>\n",
              "      <th>6420</th>\n",
              "      <td>&lt;НАЗВАНИЕ:&gt; Голодные игры: Баллада о змеях и певчих птицах — Русский трейлер (2023) &lt;ОПИСАНИЕ:&gt;Премьера (мир) — 17 ноября 2023 ▪︎ Оригинальное название: The Hunger Games: The Ballad of Songbirds and Snakes ▪︎ Страна: США ▪︎ Режиссер: Фрэнсис Лоуренс ▪︎ Жанр: фантастика, боевик, триллер, драма, п...</td>\n",
              "      <td>{\"label\":\"Дата\"\\,\"offset\":78\\,\"length\":4\\,\"segment\":\"2023\"},{\"label\":\"Дата\"\\,\"offset\":112\\,\"length\":14\\,\"segment\":\"17 ноября 2023\"},{\"label\":\"название проекта\"\\,\"offset\":153\\,\"length\":52\\,\"segment\":\"The Hunger Games: The Ballad of Songbirds and Snakes\"},{\"label\":\"локация\"\\,\"offset\":217\\,\"length\"...</td>\n",
              "    </tr>\n",
              "    <tr>\n",
              "      <th>6421</th>\n",
              "      <td>&lt;НАЗВАНИЕ:&gt; Экскаватор на Дровах! Часть 15. Закончил с железом. Ставим распределители. &lt;ОПИСАНИЕ:&gt;Купить готовую или заказать 3D печать – &lt;LINK&gt; Я на Dzen dzen.ru/mihalych_style Я на youtobe &lt;LINK&gt;/&lt;AT&gt; Я в ВК &lt;LINK&gt; Я в Instagram &lt;LINK&gt; Я в Facebook &lt;LINK&gt; По вопросам рекламы – &lt;AT&gt;</td>\n",
              "      <td>{\"label\":\"название проекта\"\\,\"offset\":12\\,\"length\":50\\,\"segment\":\"Экскаватор на Дровах! Часть 15. Закончил с железом\"}</td>\n",
              "    </tr>\n",
              "  </tbody>\n",
              "</table>\n",
              "<p>6422 rows × 2 columns</p>\n",
              "</div>\n",
              "    <div class=\"colab-df-buttons\">\n",
              "\n",
              "  <div class=\"colab-df-container\">\n",
              "    <button class=\"colab-df-convert\" onclick=\"convertToInteractive('df-fbcf138c-7ab9-4b3e-92c3-dd10995a8c37')\"\n",
              "            title=\"Convert this dataframe to an interactive table.\"\n",
              "            style=\"display:none;\">\n",
              "\n",
              "  <svg xmlns=\"http://www.w3.org/2000/svg\" height=\"24px\" viewBox=\"0 -960 960 960\">\n",
              "    <path d=\"M120-120v-720h720v720H120Zm60-500h600v-160H180v160Zm220 220h160v-160H400v160Zm0 220h160v-160H400v160ZM180-400h160v-160H180v160Zm440 0h160v-160H620v160ZM180-180h160v-160H180v160Zm440 0h160v-160H620v160Z\"/>\n",
              "  </svg>\n",
              "    </button>\n",
              "\n",
              "  <style>\n",
              "    .colab-df-container {\n",
              "      display:flex;\n",
              "      gap: 12px;\n",
              "    }\n",
              "\n",
              "    .colab-df-convert {\n",
              "      background-color: #E8F0FE;\n",
              "      border: none;\n",
              "      border-radius: 50%;\n",
              "      cursor: pointer;\n",
              "      display: none;\n",
              "      fill: #1967D2;\n",
              "      height: 32px;\n",
              "      padding: 0 0 0 0;\n",
              "      width: 32px;\n",
              "    }\n",
              "\n",
              "    .colab-df-convert:hover {\n",
              "      background-color: #E2EBFA;\n",
              "      box-shadow: 0px 1px 2px rgba(60, 64, 67, 0.3), 0px 1px 3px 1px rgba(60, 64, 67, 0.15);\n",
              "      fill: #174EA6;\n",
              "    }\n",
              "\n",
              "    .colab-df-buttons div {\n",
              "      margin-bottom: 4px;\n",
              "    }\n",
              "\n",
              "    [theme=dark] .colab-df-convert {\n",
              "      background-color: #3B4455;\n",
              "      fill: #D2E3FC;\n",
              "    }\n",
              "\n",
              "    [theme=dark] .colab-df-convert:hover {\n",
              "      background-color: #434B5C;\n",
              "      box-shadow: 0px 1px 3px 1px rgba(0, 0, 0, 0.15);\n",
              "      filter: drop-shadow(0px 1px 2px rgba(0, 0, 0, 0.3));\n",
              "      fill: #FFFFFF;\n",
              "    }\n",
              "  </style>\n",
              "\n",
              "    <script>\n",
              "      const buttonEl =\n",
              "        document.querySelector('#df-fbcf138c-7ab9-4b3e-92c3-dd10995a8c37 button.colab-df-convert');\n",
              "      buttonEl.style.display =\n",
              "        google.colab.kernel.accessAllowed ? 'block' : 'none';\n",
              "\n",
              "      async function convertToInteractive(key) {\n",
              "        const element = document.querySelector('#df-fbcf138c-7ab9-4b3e-92c3-dd10995a8c37');\n",
              "        const dataTable =\n",
              "          await google.colab.kernel.invokeFunction('convertToInteractive',\n",
              "                                                    [key], {});\n",
              "        if (!dataTable) return;\n",
              "\n",
              "        const docLinkHtml = 'Like what you see? Visit the ' +\n",
              "          '<a target=\"_blank\" href=https://colab.research.google.com/notebooks/data_table.ipynb>data table notebook</a>'\n",
              "          + ' to learn more about interactive tables.';\n",
              "        element.innerHTML = '';\n",
              "        dataTable['output_type'] = 'display_data';\n",
              "        await google.colab.output.renderOutput(dataTable, element);\n",
              "        const docLink = document.createElement('div');\n",
              "        docLink.innerHTML = docLinkHtml;\n",
              "        element.appendChild(docLink);\n",
              "      }\n",
              "    </script>\n",
              "  </div>\n",
              "\n",
              "\n",
              "<div id=\"df-63253da4-0715-455d-a665-9844f4938eaf\">\n",
              "  <button class=\"colab-df-quickchart\" onclick=\"quickchart('df-63253da4-0715-455d-a665-9844f4938eaf')\"\n",
              "            title=\"Suggest charts.\"\n",
              "            style=\"display:none;\">\n",
              "\n",
              "<svg xmlns=\"http://www.w3.org/2000/svg\" height=\"24px\"viewBox=\"0 0 24 24\"\n",
              "     width=\"24px\">\n",
              "    <g>\n",
              "        <path d=\"M19 3H5c-1.1 0-2 .9-2 2v14c0 1.1.9 2 2 2h14c1.1 0 2-.9 2-2V5c0-1.1-.9-2-2-2zM9 17H7v-7h2v7zm4 0h-2V7h2v10zm4 0h-2v-4h2v4z\"/>\n",
              "    </g>\n",
              "</svg>\n",
              "  </button>\n",
              "\n",
              "<style>\n",
              "  .colab-df-quickchart {\n",
              "      --bg-color: #E8F0FE;\n",
              "      --fill-color: #1967D2;\n",
              "      --hover-bg-color: #E2EBFA;\n",
              "      --hover-fill-color: #174EA6;\n",
              "      --disabled-fill-color: #AAA;\n",
              "      --disabled-bg-color: #DDD;\n",
              "  }\n",
              "\n",
              "  [theme=dark] .colab-df-quickchart {\n",
              "      --bg-color: #3B4455;\n",
              "      --fill-color: #D2E3FC;\n",
              "      --hover-bg-color: #434B5C;\n",
              "      --hover-fill-color: #FFFFFF;\n",
              "      --disabled-bg-color: #3B4455;\n",
              "      --disabled-fill-color: #666;\n",
              "  }\n",
              "\n",
              "  .colab-df-quickchart {\n",
              "    background-color: var(--bg-color);\n",
              "    border: none;\n",
              "    border-radius: 50%;\n",
              "    cursor: pointer;\n",
              "    display: none;\n",
              "    fill: var(--fill-color);\n",
              "    height: 32px;\n",
              "    padding: 0;\n",
              "    width: 32px;\n",
              "  }\n",
              "\n",
              "  .colab-df-quickchart:hover {\n",
              "    background-color: var(--hover-bg-color);\n",
              "    box-shadow: 0 1px 2px rgba(60, 64, 67, 0.3), 0 1px 3px 1px rgba(60, 64, 67, 0.15);\n",
              "    fill: var(--button-hover-fill-color);\n",
              "  }\n",
              "\n",
              "  .colab-df-quickchart-complete:disabled,\n",
              "  .colab-df-quickchart-complete:disabled:hover {\n",
              "    background-color: var(--disabled-bg-color);\n",
              "    fill: var(--disabled-fill-color);\n",
              "    box-shadow: none;\n",
              "  }\n",
              "\n",
              "  .colab-df-spinner {\n",
              "    border: 2px solid var(--fill-color);\n",
              "    border-color: transparent;\n",
              "    border-bottom-color: var(--fill-color);\n",
              "    animation:\n",
              "      spin 1s steps(1) infinite;\n",
              "  }\n",
              "\n",
              "  @keyframes spin {\n",
              "    0% {\n",
              "      border-color: transparent;\n",
              "      border-bottom-color: var(--fill-color);\n",
              "      border-left-color: var(--fill-color);\n",
              "    }\n",
              "    20% {\n",
              "      border-color: transparent;\n",
              "      border-left-color: var(--fill-color);\n",
              "      border-top-color: var(--fill-color);\n",
              "    }\n",
              "    30% {\n",
              "      border-color: transparent;\n",
              "      border-left-color: var(--fill-color);\n",
              "      border-top-color: var(--fill-color);\n",
              "      border-right-color: var(--fill-color);\n",
              "    }\n",
              "    40% {\n",
              "      border-color: transparent;\n",
              "      border-right-color: var(--fill-color);\n",
              "      border-top-color: var(--fill-color);\n",
              "    }\n",
              "    60% {\n",
              "      border-color: transparent;\n",
              "      border-right-color: var(--fill-color);\n",
              "    }\n",
              "    80% {\n",
              "      border-color: transparent;\n",
              "      border-right-color: var(--fill-color);\n",
              "      border-bottom-color: var(--fill-color);\n",
              "    }\n",
              "    90% {\n",
              "      border-color: transparent;\n",
              "      border-bottom-color: var(--fill-color);\n",
              "    }\n",
              "  }\n",
              "</style>\n",
              "\n",
              "  <script>\n",
              "    async function quickchart(key) {\n",
              "      const quickchartButtonEl =\n",
              "        document.querySelector('#' + key + ' button');\n",
              "      quickchartButtonEl.disabled = true;  // To prevent multiple clicks.\n",
              "      quickchartButtonEl.classList.add('colab-df-spinner');\n",
              "      try {\n",
              "        const charts = await google.colab.kernel.invokeFunction(\n",
              "            'suggestCharts', [key], {});\n",
              "      } catch (error) {\n",
              "        console.error('Error during call to suggestCharts:', error);\n",
              "      }\n",
              "      quickchartButtonEl.classList.remove('colab-df-spinner');\n",
              "      quickchartButtonEl.classList.add('colab-df-quickchart-complete');\n",
              "    }\n",
              "    (() => {\n",
              "      let quickchartButtonEl =\n",
              "        document.querySelector('#df-63253da4-0715-455d-a665-9844f4938eaf button');\n",
              "      quickchartButtonEl.style.display =\n",
              "        google.colab.kernel.accessAllowed ? 'block' : 'none';\n",
              "    })();\n",
              "  </script>\n",
              "</div>\n",
              "    </div>\n",
              "  </div>\n"
            ]
          },
          "metadata": {},
          "execution_count": 116
        }
      ]
    },
    {
      "cell_type": "code",
      "source": [
        "dataframe['video_info'][0]"
      ],
      "metadata": {
        "colab": {
          "base_uri": "https://localhost:8080/",
          "height": 87
        },
        "id": "4Ho3rUta3HsU",
        "outputId": "851c362f-0ca1-4ad8-a0e9-497459eddf4b"
      },
      "execution_count": 117,
      "outputs": [
        {
          "output_type": "execute_result",
          "data": {
            "text/plain": [
              "'<НАЗВАНИЕ:> Агент 117: Из Африки с любовью — Русский тизер=трейлер (2021) <ОПИСАНИЕ:>Лучший Telegram канал о кино <LINK> Сотрудничество <LINK> Дата выхода 26 августа 2021 Оригинальное название: OSS 117: Alerte rouge en Afrique noire Страна: Франция Режиссер: Николя Бедос Жанр: боевик, комедия В главных ролях: Жан Дюжарден, Пьер Нинэ, Мелоди Каста, Наташа Линдинжер, Владимир Иорданов, Фату Н’Диайе, Пол Уайт Мир изменился. Он нет. Судьба заносит легендарного Агента 117 в Африку, где горячее пустыни только женщины. Вооруженный неиссякаемой уверенностью в себе и убийственной харизмой, он может справиться со всеми врагами, кроме самого себя. По вопросам авторского права, пожалуйста, свяжитесь с нами по адресу: <AT>'"
            ],
            "application/vnd.google.colaboratory.intrinsic+json": {
              "type": "string"
            }
          },
          "metadata": {},
          "execution_count": 117
        }
      ]
    },
    {
      "cell_type": "code",
      "source": [
        "dataframe['entities'][0]"
      ],
      "metadata": {
        "colab": {
          "base_uri": "https://localhost:8080/",
          "height": 122
        },
        "id": "uC-KSZ0B2752",
        "outputId": "52076533-b938-4d8b-b015-8bec814ade00"
      },
      "execution_count": 118,
      "outputs": [
        {
          "output_type": "execute_result",
          "data": {
            "text/plain": [
              "'{\"label\":\"локация\"\\\\,\"offset\":26\\\\,\"length\":6\\\\,\"segment\":\"Африки\"},{\"label\":\"Дата\"\\\\,\"offset\":155\\\\,\"length\":15\\\\,\"segment\":\"26 августа 2021\"},{\"label\":\"название проекта\"\\\\,\"offset\":194\\\\,\"length\":38\\\\,\"segment\":\"OSS 117: Alerte rouge en Afrique noire\"},{\"label\":\"локация\"\\\\,\"offset\":241\\\\,\"length\":7\\\\,\"segment\":\"Франция\"},{\"label\":\"персона\"\\\\,\"offset\":259\\\\,\"length\":12\\\\,\"segment\":\"Николя Бедос\"},{\"label\":\"персона\"\\\\,\"offset\":311\\\\,\"length\":12\\\\,\"segment\":\"Жан Дюжарден\"},{\"label\":\"персона\"\\\\,\"offset\":325\\\\,\"length\":9\\\\,\"segment\":\"Пьер Нинэ\"},{\"label\":\"персона\"\\\\,\"offset\":336\\\\,\"length\":12\\\\,\"segment\":\"Мелоди Каста\"},{\"label\":\"персона\"\\\\,\"offset\":350\\\\,\"length\":16\\\\,\"segment\":\"Наташа Линдинжер\"},{\"label\":\"персона\"\\\\,\"offset\":368\\\\,\"length\":17\\\\,\"segment\":\"Владимир Иорданов\"},{\"label\":\"персона\"\\\\,\"offset\":387\\\\,\"length\":12\\\\,\"segment\":\"Фату Н’Диайе\"},{\"label\":\"персона\"\\\\,\"offset\":401\\\\,\"length\":8\\\\,\"segment\":\"Пол Уайт\"},{\"label\":\"локация\"\\\\,\"offset\":474\\\\,\"length\":6\\\\,\"segment\":\"Африку\"}'"
            ],
            "application/vnd.google.colaboratory.intrinsic+json": {
              "type": "string"
            }
          },
          "metadata": {},
          "execution_count": 118
        }
      ]
    },
    {
      "cell_type": "code",
      "source": [
        "def cut_vidio_text(vidio_text):\n",
        "  idx=vidio_text.find('<ОПИСАНИЕ:>')\n",
        "  return vidio_text[:idx].replace('<НАЗВАНИЕ:>','')"
      ],
      "metadata": {
        "id": "6FLu32cJMtWg"
      },
      "execution_count": 119,
      "outputs": []
    },
    {
      "cell_type": "code",
      "source": [
        "def normalise_dataset(dataframe):\n",
        "  norm_dataset=[]\n",
        "  #разбивка на видео\n",
        "  for title,video in zip(dataframe['video_info'],dataframe['entities']):\n",
        "    labels=video.split('},{')\n",
        "    norm_signs=[]\n",
        "    #разбивка на каждый найденный NER элемент\n",
        "    for label_str in labels:\n",
        "      sign_dict={}\n",
        "      label=label_str.replace('{','').replace('}','').replace('\\\\','').split(',\"')\n",
        "      # разбивка на признаки нацденного NER элемента\n",
        "      for sign in label:\n",
        "        keyVal=sign.split(':')\n",
        "        if len(keyVal)!=2: break\n",
        "        sign_dict[keyVal[0].replace('\"','').replace(\"'\",'')]=keyVal[1].replace('\"','').replace(\"'\",'')\n",
        "        #print(sign_dict)\n",
        "      else:\n",
        "        norm_signs.append(sign_dict)\n",
        "    if len(norm_signs)==0: continue\n",
        "    norm_dataset.append([title,norm_signs])\n",
        "  return norm_dataset"
      ],
      "metadata": {
        "id": "R2v0kziOCVxp"
      },
      "execution_count": 120,
      "outputs": []
    },
    {
      "cell_type": "code",
      "source": [
        "def exctract_dataset_statistics(dataframe):\n",
        "  exctract_labels=[]\n",
        "  #разбивка на видео\n",
        "  for title,video in zip(dataframe['video_info'],dataframe['entities']):\n",
        "    labels=video.split('},{')\n",
        "    #разбивка на каждый найденный NER элемент\n",
        "    for label_str in labels:\n",
        "      label=label_str.replace('{','').replace('}','').replace('\\\\','').split(',\"')\n",
        "      # разбивка на признаки нацденного NER элемента\n",
        "      for sign in label:\n",
        "        keyVal=sign.split(':')\n",
        "        if len(keyVal)!=2: break\n",
        "        if keyVal[0].replace('\"','').replace(\"'\",'')=='label':\n",
        "          exctract_labels.append(keyVal[1].replace('\"','').replace(\"'\",''))\n",
        "\n",
        "  return exctract_labels"
      ],
      "metadata": {
        "id": "2pMtQAoUGz9D"
      },
      "execution_count": 121,
      "outputs": []
    },
    {
      "cell_type": "code",
      "source": [
        "df = pd.DataFrame(normalise_dataset(dataframe),columns=['video_info','entities'])"
      ],
      "metadata": {
        "id": "nUfGvdrZFe2Y"
      },
      "execution_count": 122,
      "outputs": []
    },
    {
      "cell_type": "code",
      "source": [
        "df"
      ],
      "metadata": {
        "colab": {
          "base_uri": "https://localhost:8080/",
          "height": 875
        },
        "id": "6NLIHC0v4mH3",
        "outputId": "6b740db1-468b-4ffa-906e-4ab29a1ce0b9"
      },
      "execution_count": 123,
      "outputs": [
        {
          "output_type": "execute_result",
          "data": {
            "text/plain": [
              "                                                                                                                                                                                                                                                                                                       video_info  \\\n",
              "0     <НАЗВАНИЕ:> Агент 117: Из Африки с любовью — Русский тизер=трейлер (2021) <ОПИСАНИЕ:>Лучший Telegram канал о кино <LINK> Сотрудничество <LINK> Дата выхода 26 августа 2021 Оригинальное название: OSS 117: Alerte rouge en Afrique noire Страна: Франция Режиссер: Николя Бедос Жанр: боевик, комедия В ...   \n",
              "1     <НАЗВАНИЕ:> Коленвал Инфинити Ку икс 56= 5.6 VK56 VK56DE VK56=DE Коленный Вал Infiniti QX56= 5.6 стандартный <ОПИСАНИЕ:><LINK> kolenval infiniti iks.html Коленвал Инфинити Ку икс 56​ Коленный Вал Infiniti QX56​ Модель Двигателя: VK56, VK56DE, VK56 DE Рабочий объем двигателя: 5.6 Мощность в л.с. ...   \n",
              "2     <НАЗВАНИЕ:> ВЫЗОВ ДЕМОНА = Вызвал Серого Человека [Короткометражный фильм] #серыйчеловек, #короткометражныйфильм <ОПИСАНИЕ:>ВЫЗОВ ДЕМОНА Вызвал Серого Человека [Короткометражный фильм] #серыйчеловек, #короткометражныйфильм Спасибо за просмотр. В качестве оплаты с вас лайк и подписка) Ссылки на м...   \n",
              "3     <НАЗВАНИЕ:> Довоенная немецкая кирха в Калининградской области. Посетили вместе с #Заброшки39! <ОПИСАНИЕ:>Хочешь новых эмоций, побывать в необычных местах, тогда присоединяйся к нам <AT>! Автомобильные путешествия по заброшенным старинным сооружениям. Самые необычные места Калининградской област...   \n",
              "4     <НАЗВАНИЕ:> \"Спартаку\" помогли судьи? Локомотив засудили? Стоило ли отменять гол? <ОПИСАНИЕ:>Спартак #Локомотив #обзор #обзорматча #всеголы #Локо #ЛокомотивМосква #голПруцева #ЛокомотивСпартакобзор #ЛокомотивСпартакполныйматч #Кубок #КубокРоссии #ЛокомотивСпартаксудья #отмененныйгол #ЛокомотивСп...   \n",
              "...                                                                                                                                                                                                                                                                                                           ...   \n",
              "6037  <НАЗВАНИЕ:> ЗАПРЕЩЕННЫЙ УДАР! Полный бой Вадим Немков vs Кори Андерсон / ОБЗОР BELLATOR 277 <ОПИСАНИЕ:>► Регистрируйся, получай ФРИБЕТ <LINK> ► ТЕЛЕГРАММ MMA review <LINK> ► ГРУППА VK: <LINK> ► ЯНДЕКС ДЗЕН: <LINK> ОБЗОР BELLATOR 277 Вадим Немков vs Кори Андерсон / Эй Джей Макки, Патрисио Фрейре ...   \n",
              "6038  <НАЗВАНИЕ:> Как создаются медали: оптические иллюзии глубины, высоты, объёма <ОПИСАНИЕ:>Хантыйский художник, выросший на Ямале, более 20 лет работает на Московском монетном дворе. Но Север для Эдуарда Тользина – главный источник вдохновения. Скульптор привёз в окружной дом ремёсел персональную в...   \n",
              "6039  <НАЗВАНИЕ:> Ремонт ломовоза камаз, монтаж гидроцилиндра подъема кузова. Устраняем течь в распреде автовышки <ОПИСАНИЕ:>Видео от 6 апреля 2018 г. #Ремонт ломовоза #камаз, монтаж гидроцилиндра подъема кузова. Устраняем течь в распреде автовышки У клиента на металловозе оторвался гидроцилиндр подъе...   \n",
              "6040  <НАЗВАНИЕ:> Голодные игры: Баллада о змеях и певчих птицах — Русский трейлер (2023) <ОПИСАНИЕ:>Премьера (мир) — 17 ноября 2023 ▪︎ Оригинальное название: The Hunger Games: The Ballad of Songbirds and Snakes ▪︎ Страна: США ▪︎ Режиссер: Фрэнсис Лоуренс ▪︎ Жанр: фантастика, боевик, триллер, драма, п...   \n",
              "6041                 <НАЗВАНИЕ:> Экскаватор на Дровах! Часть 15. Закончил с железом. Ставим распределители. <ОПИСАНИЕ:>Купить готовую или заказать 3D печать – <LINK> Я на Dzen dzen.ru/mihalych_style Я на youtobe <LINK>/<AT> Я в ВК <LINK> Я в Instagram <LINK> Я в Facebook <LINK> По вопросам рекламы – <AT>   \n",
              "\n",
              "                                                                                                                                                                                                                                                                                                         entities  \n",
              "0     [{'label': 'локация', 'offset': '26', 'length': '6', 'segment': 'Африки'}, {'label': 'Дата', 'offset': '155', 'length': '15', 'segment': '26 августа 2021'}, {'label': 'локация', 'offset': '241', 'length': '7', 'segment': 'Франция'}, {'label': 'персона', 'offset': '259', 'length': '12', 'segment'...  \n",
              "1                                                                                                                                                                                                                 [{'label': 'организация', 'offset': '196', 'length': '21', 'segment': 'Infiniti QX56​ Модель'}]  \n",
              "2                                                                           [{'label': 'название проекта', 'offset': '12', 'length': '37', 'segment': 'ВЫЗОВ ДЕМОНА = Вызвал Серого Человека'}, {'label': 'название проекта', 'offset': '124', 'length': '35', 'segment': 'ВЫЗОВ ДЕМОНА Вызвал Серого Человека'}]  \n",
              "3                                                                                                                                                                                                                          [{'label': 'не найдено', 'offset': '162', 'length': '13', 'segment': 'присоединяйся'}]  \n",
              "4     [{'label': 'команда', 'offset': '13', 'length': '8', 'segment': 'Спартаку'}, {'label': 'команда', 'offset': '38', 'length': '9', 'segment': 'Локомотив'}, {'label': 'команда', 'offset': '93', 'length': '7', 'segment': 'Спартак'}, {'label': 'команда', 'offset': '102', 'length': '9', 'segment': 'Ло...  \n",
              "...                                                                                                                                                                                                                                                                                                           ...  \n",
              "6037  [{'label': 'персона', 'offset': '41', 'length': '12', 'segment': 'Вадим Немков'}, {'label': 'персона', 'offset': '57', 'length': '13', 'segment': 'Кори Андерсон'}, {'label': 'персона', 'offset': '233', 'length': '12', 'segment': 'Вадим Немков'}, {'label': 'персона', 'offset': '249', 'length': '1...  \n",
              "6038  [{'label': 'локация', 'offset': '88', 'length': '10', 'segment': 'Хантыйский'}, {'label': 'локация', 'offset': '121', 'length': '5', 'segment': 'Ямале'}, {'label': 'локация', 'offset': '153', 'length': '10', 'segment': 'Московском'}, {'label': 'организация', 'offset': '164', 'length': '14', 'seg...  \n",
              "6039  [{'label': 'бренд', 'offset': '28', 'length': '5', 'segment': 'камаз'}, {'label': 'Дата', 'offset': '128', 'length': '13', 'segment': '6 апреля 2018'}, {'label': 'бренд', 'offset': '163', 'length': '5', 'segment': 'камаз'}, {'label': 'организация', 'offset': '550', 'length': '13', 'segment': 'Ре...  \n",
              "6040  [{'label': 'Дата', 'offset': '78', 'length': '4', 'segment': '2023'}, {'label': 'Дата', 'offset': '112', 'length': '14', 'segment': '17 ноября 2023'}, {'label': 'локация', 'offset': '217', 'length': '3', 'segment': 'США'}, {'label': 'персона', 'offset': '234', 'length': '15', 'segment': 'Фрэнсис...  \n",
              "6041                                                                                                                                                                             [{'label': 'название проекта', 'offset': '12', 'length': '50', 'segment': 'Экскаватор на Дровах! Часть 15. Закончил с железом'}]  \n",
              "\n",
              "[6042 rows x 2 columns]"
            ],
            "text/html": [
              "\n",
              "  <div id=\"df-606725a0-ce56-41cc-b208-38e61ba81894\" class=\"colab-df-container\">\n",
              "    <div>\n",
              "<style scoped>\n",
              "    .dataframe tbody tr th:only-of-type {\n",
              "        vertical-align: middle;\n",
              "    }\n",
              "\n",
              "    .dataframe tbody tr th {\n",
              "        vertical-align: top;\n",
              "    }\n",
              "\n",
              "    .dataframe thead th {\n",
              "        text-align: right;\n",
              "    }\n",
              "</style>\n",
              "<table border=\"1\" class=\"dataframe\">\n",
              "  <thead>\n",
              "    <tr style=\"text-align: right;\">\n",
              "      <th></th>\n",
              "      <th>video_info</th>\n",
              "      <th>entities</th>\n",
              "    </tr>\n",
              "  </thead>\n",
              "  <tbody>\n",
              "    <tr>\n",
              "      <th>0</th>\n",
              "      <td>&lt;НАЗВАНИЕ:&gt; Агент 117: Из Африки с любовью — Русский тизер=трейлер (2021) &lt;ОПИСАНИЕ:&gt;Лучший Telegram канал о кино &lt;LINK&gt; Сотрудничество &lt;LINK&gt; Дата выхода 26 августа 2021 Оригинальное название: OSS 117: Alerte rouge en Afrique noire Страна: Франция Режиссер: Николя Бедос Жанр: боевик, комедия В ...</td>\n",
              "      <td>[{'label': 'локация', 'offset': '26', 'length': '6', 'segment': 'Африки'}, {'label': 'Дата', 'offset': '155', 'length': '15', 'segment': '26 августа 2021'}, {'label': 'локация', 'offset': '241', 'length': '7', 'segment': 'Франция'}, {'label': 'персона', 'offset': '259', 'length': '12', 'segment'...</td>\n",
              "    </tr>\n",
              "    <tr>\n",
              "      <th>1</th>\n",
              "      <td>&lt;НАЗВАНИЕ:&gt; Коленвал Инфинити Ку икс 56= 5.6 VK56 VK56DE VK56=DE Коленный Вал Infiniti QX56= 5.6 стандартный &lt;ОПИСАНИЕ:&gt;&lt;LINK&gt; kolenval infiniti iks.html Коленвал Инфинити Ку икс 56​ Коленный Вал Infiniti QX56​ Модель Двигателя: VK56, VK56DE, VK56 DE Рабочий объем двигателя: 5.6 Мощность в л.с. ...</td>\n",
              "      <td>[{'label': 'организация', 'offset': '196', 'length': '21', 'segment': 'Infiniti QX56​ Модель'}]</td>\n",
              "    </tr>\n",
              "    <tr>\n",
              "      <th>2</th>\n",
              "      <td>&lt;НАЗВАНИЕ:&gt; ВЫЗОВ ДЕМОНА = Вызвал Серого Человека [Короткометражный фильм] #серыйчеловек, #короткометражныйфильм &lt;ОПИСАНИЕ:&gt;ВЫЗОВ ДЕМОНА Вызвал Серого Человека [Короткометражный фильм] #серыйчеловек, #короткометражныйфильм Спасибо за просмотр. В качестве оплаты с вас лайк и подписка) Ссылки на м...</td>\n",
              "      <td>[{'label': 'название проекта', 'offset': '12', 'length': '37', 'segment': 'ВЫЗОВ ДЕМОНА = Вызвал Серого Человека'}, {'label': 'название проекта', 'offset': '124', 'length': '35', 'segment': 'ВЫЗОВ ДЕМОНА Вызвал Серого Человека'}]</td>\n",
              "    </tr>\n",
              "    <tr>\n",
              "      <th>3</th>\n",
              "      <td>&lt;НАЗВАНИЕ:&gt; Довоенная немецкая кирха в Калининградской области. Посетили вместе с #Заброшки39! &lt;ОПИСАНИЕ:&gt;Хочешь новых эмоций, побывать в необычных местах, тогда присоединяйся к нам &lt;AT&gt;! Автомобильные путешествия по заброшенным старинным сооружениям. Самые необычные места Калининградской област...</td>\n",
              "      <td>[{'label': 'не найдено', 'offset': '162', 'length': '13', 'segment': 'присоединяйся'}]</td>\n",
              "    </tr>\n",
              "    <tr>\n",
              "      <th>4</th>\n",
              "      <td>&lt;НАЗВАНИЕ:&gt; \"Спартаку\" помогли судьи? Локомотив засудили? Стоило ли отменять гол? &lt;ОПИСАНИЕ:&gt;Спартак #Локомотив #обзор #обзорматча #всеголы #Локо #ЛокомотивМосква #голПруцева #ЛокомотивСпартакобзор #ЛокомотивСпартакполныйматч #Кубок #КубокРоссии #ЛокомотивСпартаксудья #отмененныйгол #ЛокомотивСп...</td>\n",
              "      <td>[{'label': 'команда', 'offset': '13', 'length': '8', 'segment': 'Спартаку'}, {'label': 'команда', 'offset': '38', 'length': '9', 'segment': 'Локомотив'}, {'label': 'команда', 'offset': '93', 'length': '7', 'segment': 'Спартак'}, {'label': 'команда', 'offset': '102', 'length': '9', 'segment': 'Ло...</td>\n",
              "    </tr>\n",
              "    <tr>\n",
              "      <th>...</th>\n",
              "      <td>...</td>\n",
              "      <td>...</td>\n",
              "    </tr>\n",
              "    <tr>\n",
              "      <th>6037</th>\n",
              "      <td>&lt;НАЗВАНИЕ:&gt; ЗАПРЕЩЕННЫЙ УДАР! Полный бой Вадим Немков vs Кори Андерсон / ОБЗОР BELLATOR 277 &lt;ОПИСАНИЕ:&gt;► Регистрируйся, получай ФРИБЕТ &lt;LINK&gt; ► ТЕЛЕГРАММ MMA review &lt;LINK&gt; ► ГРУППА VK: &lt;LINK&gt; ► ЯНДЕКС ДЗЕН: &lt;LINK&gt; ОБЗОР BELLATOR 277 Вадим Немков vs Кори Андерсон / Эй Джей Макки, Патрисио Фрейре ...</td>\n",
              "      <td>[{'label': 'персона', 'offset': '41', 'length': '12', 'segment': 'Вадим Немков'}, {'label': 'персона', 'offset': '57', 'length': '13', 'segment': 'Кори Андерсон'}, {'label': 'персона', 'offset': '233', 'length': '12', 'segment': 'Вадим Немков'}, {'label': 'персона', 'offset': '249', 'length': '1...</td>\n",
              "    </tr>\n",
              "    <tr>\n",
              "      <th>6038</th>\n",
              "      <td>&lt;НАЗВАНИЕ:&gt; Как создаются медали: оптические иллюзии глубины, высоты, объёма &lt;ОПИСАНИЕ:&gt;Хантыйский художник, выросший на Ямале, более 20 лет работает на Московском монетном дворе. Но Север для Эдуарда Тользина – главный источник вдохновения. Скульптор привёз в окружной дом ремёсел персональную в...</td>\n",
              "      <td>[{'label': 'локация', 'offset': '88', 'length': '10', 'segment': 'Хантыйский'}, {'label': 'локация', 'offset': '121', 'length': '5', 'segment': 'Ямале'}, {'label': 'локация', 'offset': '153', 'length': '10', 'segment': 'Московском'}, {'label': 'организация', 'offset': '164', 'length': '14', 'seg...</td>\n",
              "    </tr>\n",
              "    <tr>\n",
              "      <th>6039</th>\n",
              "      <td>&lt;НАЗВАНИЕ:&gt; Ремонт ломовоза камаз, монтаж гидроцилиндра подъема кузова. Устраняем течь в распреде автовышки &lt;ОПИСАНИЕ:&gt;Видео от 6 апреля 2018 г. #Ремонт ломовоза #камаз, монтаж гидроцилиндра подъема кузова. Устраняем течь в распреде автовышки У клиента на металловозе оторвался гидроцилиндр подъе...</td>\n",
              "      <td>[{'label': 'бренд', 'offset': '28', 'length': '5', 'segment': 'камаз'}, {'label': 'Дата', 'offset': '128', 'length': '13', 'segment': '6 апреля 2018'}, {'label': 'бренд', 'offset': '163', 'length': '5', 'segment': 'камаз'}, {'label': 'организация', 'offset': '550', 'length': '13', 'segment': 'Ре...</td>\n",
              "    </tr>\n",
              "    <tr>\n",
              "      <th>6040</th>\n",
              "      <td>&lt;НАЗВАНИЕ:&gt; Голодные игры: Баллада о змеях и певчих птицах — Русский трейлер (2023) &lt;ОПИСАНИЕ:&gt;Премьера (мир) — 17 ноября 2023 ▪︎ Оригинальное название: The Hunger Games: The Ballad of Songbirds and Snakes ▪︎ Страна: США ▪︎ Режиссер: Фрэнсис Лоуренс ▪︎ Жанр: фантастика, боевик, триллер, драма, п...</td>\n",
              "      <td>[{'label': 'Дата', 'offset': '78', 'length': '4', 'segment': '2023'}, {'label': 'Дата', 'offset': '112', 'length': '14', 'segment': '17 ноября 2023'}, {'label': 'локация', 'offset': '217', 'length': '3', 'segment': 'США'}, {'label': 'персона', 'offset': '234', 'length': '15', 'segment': 'Фрэнсис...</td>\n",
              "    </tr>\n",
              "    <tr>\n",
              "      <th>6041</th>\n",
              "      <td>&lt;НАЗВАНИЕ:&gt; Экскаватор на Дровах! Часть 15. Закончил с железом. Ставим распределители. &lt;ОПИСАНИЕ:&gt;Купить готовую или заказать 3D печать – &lt;LINK&gt; Я на Dzen dzen.ru/mihalych_style Я на youtobe &lt;LINK&gt;/&lt;AT&gt; Я в ВК &lt;LINK&gt; Я в Instagram &lt;LINK&gt; Я в Facebook &lt;LINK&gt; По вопросам рекламы – &lt;AT&gt;</td>\n",
              "      <td>[{'label': 'название проекта', 'offset': '12', 'length': '50', 'segment': 'Экскаватор на Дровах! Часть 15. Закончил с железом'}]</td>\n",
              "    </tr>\n",
              "  </tbody>\n",
              "</table>\n",
              "<p>6042 rows × 2 columns</p>\n",
              "</div>\n",
              "    <div class=\"colab-df-buttons\">\n",
              "\n",
              "  <div class=\"colab-df-container\">\n",
              "    <button class=\"colab-df-convert\" onclick=\"convertToInteractive('df-606725a0-ce56-41cc-b208-38e61ba81894')\"\n",
              "            title=\"Convert this dataframe to an interactive table.\"\n",
              "            style=\"display:none;\">\n",
              "\n",
              "  <svg xmlns=\"http://www.w3.org/2000/svg\" height=\"24px\" viewBox=\"0 -960 960 960\">\n",
              "    <path d=\"M120-120v-720h720v720H120Zm60-500h600v-160H180v160Zm220 220h160v-160H400v160Zm0 220h160v-160H400v160ZM180-400h160v-160H180v160Zm440 0h160v-160H620v160ZM180-180h160v-160H180v160Zm440 0h160v-160H620v160Z\"/>\n",
              "  </svg>\n",
              "    </button>\n",
              "\n",
              "  <style>\n",
              "    .colab-df-container {\n",
              "      display:flex;\n",
              "      gap: 12px;\n",
              "    }\n",
              "\n",
              "    .colab-df-convert {\n",
              "      background-color: #E8F0FE;\n",
              "      border: none;\n",
              "      border-radius: 50%;\n",
              "      cursor: pointer;\n",
              "      display: none;\n",
              "      fill: #1967D2;\n",
              "      height: 32px;\n",
              "      padding: 0 0 0 0;\n",
              "      width: 32px;\n",
              "    }\n",
              "\n",
              "    .colab-df-convert:hover {\n",
              "      background-color: #E2EBFA;\n",
              "      box-shadow: 0px 1px 2px rgba(60, 64, 67, 0.3), 0px 1px 3px 1px rgba(60, 64, 67, 0.15);\n",
              "      fill: #174EA6;\n",
              "    }\n",
              "\n",
              "    .colab-df-buttons div {\n",
              "      margin-bottom: 4px;\n",
              "    }\n",
              "\n",
              "    [theme=dark] .colab-df-convert {\n",
              "      background-color: #3B4455;\n",
              "      fill: #D2E3FC;\n",
              "    }\n",
              "\n",
              "    [theme=dark] .colab-df-convert:hover {\n",
              "      background-color: #434B5C;\n",
              "      box-shadow: 0px 1px 3px 1px rgba(0, 0, 0, 0.15);\n",
              "      filter: drop-shadow(0px 1px 2px rgba(0, 0, 0, 0.3));\n",
              "      fill: #FFFFFF;\n",
              "    }\n",
              "  </style>\n",
              "\n",
              "    <script>\n",
              "      const buttonEl =\n",
              "        document.querySelector('#df-606725a0-ce56-41cc-b208-38e61ba81894 button.colab-df-convert');\n",
              "      buttonEl.style.display =\n",
              "        google.colab.kernel.accessAllowed ? 'block' : 'none';\n",
              "\n",
              "      async function convertToInteractive(key) {\n",
              "        const element = document.querySelector('#df-606725a0-ce56-41cc-b208-38e61ba81894');\n",
              "        const dataTable =\n",
              "          await google.colab.kernel.invokeFunction('convertToInteractive',\n",
              "                                                    [key], {});\n",
              "        if (!dataTable) return;\n",
              "\n",
              "        const docLinkHtml = 'Like what you see? Visit the ' +\n",
              "          '<a target=\"_blank\" href=https://colab.research.google.com/notebooks/data_table.ipynb>data table notebook</a>'\n",
              "          + ' to learn more about interactive tables.';\n",
              "        element.innerHTML = '';\n",
              "        dataTable['output_type'] = 'display_data';\n",
              "        await google.colab.output.renderOutput(dataTable, element);\n",
              "        const docLink = document.createElement('div');\n",
              "        docLink.innerHTML = docLinkHtml;\n",
              "        element.appendChild(docLink);\n",
              "      }\n",
              "    </script>\n",
              "  </div>\n",
              "\n",
              "\n",
              "<div id=\"df-c234b4bb-2537-40d0-b322-dec3ddfb2243\">\n",
              "  <button class=\"colab-df-quickchart\" onclick=\"quickchart('df-c234b4bb-2537-40d0-b322-dec3ddfb2243')\"\n",
              "            title=\"Suggest charts.\"\n",
              "            style=\"display:none;\">\n",
              "\n",
              "<svg xmlns=\"http://www.w3.org/2000/svg\" height=\"24px\"viewBox=\"0 0 24 24\"\n",
              "     width=\"24px\">\n",
              "    <g>\n",
              "        <path d=\"M19 3H5c-1.1 0-2 .9-2 2v14c0 1.1.9 2 2 2h14c1.1 0 2-.9 2-2V5c0-1.1-.9-2-2-2zM9 17H7v-7h2v7zm4 0h-2V7h2v10zm4 0h-2v-4h2v4z\"/>\n",
              "    </g>\n",
              "</svg>\n",
              "  </button>\n",
              "\n",
              "<style>\n",
              "  .colab-df-quickchart {\n",
              "      --bg-color: #E8F0FE;\n",
              "      --fill-color: #1967D2;\n",
              "      --hover-bg-color: #E2EBFA;\n",
              "      --hover-fill-color: #174EA6;\n",
              "      --disabled-fill-color: #AAA;\n",
              "      --disabled-bg-color: #DDD;\n",
              "  }\n",
              "\n",
              "  [theme=dark] .colab-df-quickchart {\n",
              "      --bg-color: #3B4455;\n",
              "      --fill-color: #D2E3FC;\n",
              "      --hover-bg-color: #434B5C;\n",
              "      --hover-fill-color: #FFFFFF;\n",
              "      --disabled-bg-color: #3B4455;\n",
              "      --disabled-fill-color: #666;\n",
              "  }\n",
              "\n",
              "  .colab-df-quickchart {\n",
              "    background-color: var(--bg-color);\n",
              "    border: none;\n",
              "    border-radius: 50%;\n",
              "    cursor: pointer;\n",
              "    display: none;\n",
              "    fill: var(--fill-color);\n",
              "    height: 32px;\n",
              "    padding: 0;\n",
              "    width: 32px;\n",
              "  }\n",
              "\n",
              "  .colab-df-quickchart:hover {\n",
              "    background-color: var(--hover-bg-color);\n",
              "    box-shadow: 0 1px 2px rgba(60, 64, 67, 0.3), 0 1px 3px 1px rgba(60, 64, 67, 0.15);\n",
              "    fill: var(--button-hover-fill-color);\n",
              "  }\n",
              "\n",
              "  .colab-df-quickchart-complete:disabled,\n",
              "  .colab-df-quickchart-complete:disabled:hover {\n",
              "    background-color: var(--disabled-bg-color);\n",
              "    fill: var(--disabled-fill-color);\n",
              "    box-shadow: none;\n",
              "  }\n",
              "\n",
              "  .colab-df-spinner {\n",
              "    border: 2px solid var(--fill-color);\n",
              "    border-color: transparent;\n",
              "    border-bottom-color: var(--fill-color);\n",
              "    animation:\n",
              "      spin 1s steps(1) infinite;\n",
              "  }\n",
              "\n",
              "  @keyframes spin {\n",
              "    0% {\n",
              "      border-color: transparent;\n",
              "      border-bottom-color: var(--fill-color);\n",
              "      border-left-color: var(--fill-color);\n",
              "    }\n",
              "    20% {\n",
              "      border-color: transparent;\n",
              "      border-left-color: var(--fill-color);\n",
              "      border-top-color: var(--fill-color);\n",
              "    }\n",
              "    30% {\n",
              "      border-color: transparent;\n",
              "      border-left-color: var(--fill-color);\n",
              "      border-top-color: var(--fill-color);\n",
              "      border-right-color: var(--fill-color);\n",
              "    }\n",
              "    40% {\n",
              "      border-color: transparent;\n",
              "      border-right-color: var(--fill-color);\n",
              "      border-top-color: var(--fill-color);\n",
              "    }\n",
              "    60% {\n",
              "      border-color: transparent;\n",
              "      border-right-color: var(--fill-color);\n",
              "    }\n",
              "    80% {\n",
              "      border-color: transparent;\n",
              "      border-right-color: var(--fill-color);\n",
              "      border-bottom-color: var(--fill-color);\n",
              "    }\n",
              "    90% {\n",
              "      border-color: transparent;\n",
              "      border-bottom-color: var(--fill-color);\n",
              "    }\n",
              "  }\n",
              "</style>\n",
              "\n",
              "  <script>\n",
              "    async function quickchart(key) {\n",
              "      const quickchartButtonEl =\n",
              "        document.querySelector('#' + key + ' button');\n",
              "      quickchartButtonEl.disabled = true;  // To prevent multiple clicks.\n",
              "      quickchartButtonEl.classList.add('colab-df-spinner');\n",
              "      try {\n",
              "        const charts = await google.colab.kernel.invokeFunction(\n",
              "            'suggestCharts', [key], {});\n",
              "      } catch (error) {\n",
              "        console.error('Error during call to suggestCharts:', error);\n",
              "      }\n",
              "      quickchartButtonEl.classList.remove('colab-df-spinner');\n",
              "      quickchartButtonEl.classList.add('colab-df-quickchart-complete');\n",
              "    }\n",
              "    (() => {\n",
              "      let quickchartButtonEl =\n",
              "        document.querySelector('#df-c234b4bb-2537-40d0-b322-dec3ddfb2243 button');\n",
              "      quickchartButtonEl.style.display =\n",
              "        google.colab.kernel.accessAllowed ? 'block' : 'none';\n",
              "    })();\n",
              "  </script>\n",
              "</div>\n",
              "    </div>\n",
              "  </div>\n"
            ]
          },
          "metadata": {},
          "execution_count": 123
        }
      ]
    },
    {
      "cell_type": "code",
      "source": [
        "variable_NER=exctract_dataset_statistics(dataframe)"
      ],
      "metadata": {
        "id": "f4aUsyfqIGro"
      },
      "execution_count": 124,
      "outputs": []
    },
    {
      "cell_type": "code",
      "source": [
        "set(variable_NER)"
      ],
      "metadata": {
        "colab": {
          "base_uri": "https://localhost:8080/"
        },
        "id": "kUYJJ8o5HWgR",
        "outputId": "b36877f9-370f-4580-acec-d3d3cd3350a8"
      },
      "execution_count": 125,
      "outputs": [
        {
          "output_type": "execute_result",
          "data": {
            "text/plain": [
              "{'Дата',\n",
              " 'бренд',\n",
              " 'вид спорта',\n",
              " 'видеоигра',\n",
              " 'команда',\n",
              " 'лига',\n",
              " 'локация',\n",
              " 'модель',\n",
              " 'название проекта',\n",
              " 'не найдено',\n",
              " 'организация',\n",
              " 'персона',\n",
              " 'сезон',\n",
              " 'серия'}"
            ]
          },
          "metadata": {},
          "execution_count": 125
        }
      ]
    },
    {
      "cell_type": "code",
      "source": [
        "plt.figure(figsize=(20, 6), dpi=80)\n",
        "plt.hist(variable_NER,bins=100)"
      ],
      "metadata": {
        "colab": {
          "base_uri": "https://localhost:8080/",
          "height": 871
        },
        "id": "DFOqKBH5H29n",
        "outputId": "e0fba557-876a-4e89-dc94-eab6a09f6789"
      },
      "execution_count": 126,
      "outputs": [
        {
          "output_type": "execute_result",
          "data": {
            "text/plain": [
              "(array([ 6619.,     0.,     0.,     0.,     0.,     0.,     0.,  3376.,\n",
              "            0.,     0.,     0.,     0.,     0.,     0.,     0.,  5605.,\n",
              "            0.,     0.,     0.,     0.,     0.,     0.,     0., 10687.,\n",
              "            0.,     0.,     0.,     0.,     0.,     0.,  3142.,     0.,\n",
              "            0.,     0.,     0.,     0.,     0.,     0.,   445.,     0.,\n",
              "            0.,     0.,     0.,     0.,     0.,     0.,   713.,     0.,\n",
              "            0.,     0.,     0.,     0.,     0.,   468.,     0.,     0.,\n",
              "            0.,     0.,     0.,     0.,     0.,  1504.,     0.,     0.,\n",
              "            0.,     0.,     0.,     0.,     0.,  1028.,     0.,     0.,\n",
              "            0.,     0.,     0.,     0.,   454.,     0.,     0.,     0.,\n",
              "            0.,     0.,     0.,     0.,  1162.,     0.,     0.,     0.,\n",
              "            0.,     0.,     0.,     0.,  1364.,     0.,     0.,     0.,\n",
              "            0.,     0.,     0.,   480.]),\n",
              " array([ 0.  ,  0.13,  0.26,  0.39,  0.52,  0.65,  0.78,  0.91,  1.04,\n",
              "         1.17,  1.3 ,  1.43,  1.56,  1.69,  1.82,  1.95,  2.08,  2.21,\n",
              "         2.34,  2.47,  2.6 ,  2.73,  2.86,  2.99,  3.12,  3.25,  3.38,\n",
              "         3.51,  3.64,  3.77,  3.9 ,  4.03,  4.16,  4.29,  4.42,  4.55,\n",
              "         4.68,  4.81,  4.94,  5.07,  5.2 ,  5.33,  5.46,  5.59,  5.72,\n",
              "         5.85,  5.98,  6.11,  6.24,  6.37,  6.5 ,  6.63,  6.76,  6.89,\n",
              "         7.02,  7.15,  7.28,  7.41,  7.54,  7.67,  7.8 ,  7.93,  8.06,\n",
              "         8.19,  8.32,  8.45,  8.58,  8.71,  8.84,  8.97,  9.1 ,  9.23,\n",
              "         9.36,  9.49,  9.62,  9.75,  9.88, 10.01, 10.14, 10.27, 10.4 ,\n",
              "        10.53, 10.66, 10.79, 10.92, 11.05, 11.18, 11.31, 11.44, 11.57,\n",
              "        11.7 , 11.83, 11.96, 12.09, 12.22, 12.35, 12.48, 12.61, 12.74,\n",
              "        12.87, 13.  ]),\n",
              " <BarContainer object of 100 artists>)"
            ]
          },
          "metadata": {},
          "execution_count": 126
        },
        {
          "output_type": "display_data",
          "data": {
            "text/plain": [
              "<Figure size 1600x480 with 1 Axes>"
            ],
            "image/png": "[encoded data removed]"
          },
          "metadata": {}
        }
      ]
    },
    {
      "cell_type": "markdown",
      "source": [
        "#<h1>Приведение меток датасета к формату BIO</h1>"
      ],
      "metadata": {
        "id": "5dI620lm_btp"
      }
    },
    {
      "cell_type": "code",
      "source": [
        "# Теперь из наших данных нам нужно извлечь для каждого слова (токена) его тег (label) из разметки, чтобы потом предать в модель классификации токенов\n",
        "\n",
        "\n",
        "def extract_labels(sfift_item,true_item):\n",
        "\n",
        "    # воспользуемся удобным токенайзером из библиотеки razdel,\n",
        "    # она помимо разбиения на слова, сохраняет важные для нас числа - начало и конец слова в токенах\n",
        "\n",
        "    raw_toks = list(tokenize(true_item))\n",
        "    words = [tok.text for tok in raw_toks]\n",
        "    # присвоим для начала каждому слову тег 'О' - тег, означающий отсутствие NER-а\n",
        "    word_labels = ['O'] * len(raw_toks)\n",
        "    char2word = [None] * len(true_item)\n",
        "    # так как NER можем состаять из нескольких слов, то нам нужно сохранить эту инфорцию\n",
        "    for i, word in enumerate(raw_toks):\n",
        "        char2word[word.start:word.stop] = [i] * len(word.text)\n",
        "\n",
        "    labels = sfift_item['entities']\n",
        "    if isinstance(labels, dict):\n",
        "        labels = [labels]\n",
        "    if labels is not None:\n",
        "        for e in labels:\n",
        "            if e['label'] != 'не найдено':\n",
        "                e_words = sorted({idx for idx in char2word[int(e['offset']):int(e['offset'])+int(e['length'])] if idx is not None})\n",
        "                if e_words:\n",
        "                    word_labels[e_words[0]] = 'B-' + e['label']\n",
        "                    for idx in e_words[1:]:\n",
        "                        word_labels[idx] = 'I-' + e['label']\n",
        "                else:\n",
        "                    continue\n",
        "            else:\n",
        "                continue\n",
        "        return {'tokens': words, 'tags': word_labels}\n",
        "    else: return {'tokens': words, 'tags': word_labels}"
      ],
      "metadata": {
        "id": "3zS8wiT89ven"
      },
      "execution_count": 127,
      "outputs": []
    },
    {
      "cell_type": "code",
      "source": [
        "ner_data = [extract_labels(iitem1[1],iitem2) for iitem1, iitem2 in zip(df.iterrows(),df['video_info'].tolist())]"
      ],
      "metadata": {
        "id": "WXPvCaPN-rwl"
      },
      "execution_count": 128,
      "outputs": []
    },
    {
      "cell_type": "code",
      "source": [
        "import pandas as pd\n",
        "pd.options.display.max_colwidth = 300\n",
        "dataframe_BIO=pd.DataFrame(ner_data)\n"
      ],
      "metadata": {
        "id": "hwR-MKeM-5_M"
      },
      "execution_count": 129,
      "outputs": []
    },
    {
      "cell_type": "code",
      "source": [
        "dataframe_BIO.sample(3)"
      ],
      "metadata": {
        "colab": {
          "base_uri": "https://localhost:8080/",
          "height": 0
        },
        "id": "GzEWDhjuYE0T",
        "outputId": "83d1cf24-0875-45dd-cd4d-5c8385a1f88b"
      },
      "execution_count": 130,
      "outputs": [
        {
          "output_type": "execute_result",
          "data": {
            "text/plain": [
              "                                                                                                                                                                                                                                                                                                           tokens  \\\n",
              "5392  [<, НАЗВАНИЕ, :, >, Родители, в, законе, =, Фильм, 2023, (, Netflix, ), =, Русский, трейлер, в, рейтинге, <, ОПИСАНИЕ, :, >, #, kino, Простоватый, банковский, менеджер, собирается, жениться, на, любви, всей, своей, жизни, ,, но, всё, портит, тот, момент, ,, что, его, банк, грабят, неуловимые, ба...   \n",
              "2301  [<, НАЗВАНИЕ, :, >, Замена, масла, в, двигателе, Mitsubishi, Outlander, 3, перешли, на, отечественного, производителя, <, ОПИСАНИЕ, :, >, Синтетическое, моторное, масло, ЛУКОЙЛ, Genesis, Armortech, JP, 5, W, 30, на, Яндекс, Маркет, <, LINK, >, <, LINK, >, Дзен, <, LINK, >, VK, <, LINK, >, OK, <,...   \n",
              "2643  [<, НАЗВАНИЕ, :, >, ⚡, Меняющие, реальность, ⚡, Фильм, 2011, года, ⚡, Русский, Трейлер, <, ОПИСАНИЕ, :, >, 📢, Русский, Трейлер, к, фильму, ►, Меняющие, реальность, 🎥, Фильм, 2011, года, 🚥, Жанр, ►, фантастика, ,, триллер, ,, мелодрама, ⚡, Возрастные, ограничения, ►, 12, +, 🎭, О, чем, ►, Случайно...   \n",
              "\n",
              "                                                                                                                                                                                                                                                                                                             tags  \n",
              "5392                                                                          [O, O, O, O, O, O, O, O, O, B-Дата, O, B-организация, O, O, O, O, O, O, O, O, O, O, O, O, O, O, O, O, O, O, O, O, O, O, O, O, O, O, O, O, O, O, O, O, O, O, O, O, O, O, O, O, O, O, O, O, O, O, O, O, O, O, O, O, O, O, O, O, O, O]  \n",
              "2301  [O, O, O, O, O, O, O, O, B-бренд, B-модель, I-модель, O, O, O, O, O, O, O, O, O, O, O, B-бренд, B-модель, I-модель, I-модель, I-модель, I-модель, I-модель, O, B-бренд, I-бренд, O, O, O, O, O, O, O, O, O, O, O, O, O, O, O, O, O, O, O, O, O, O, O, O, O, O, O, O, O, O, O, O, O, O, O, O, O, O, O, O,...  \n",
              "2643  [O, O, O, O, O, B-название проекта, I-название проекта, O, O, B-Дата, O, O, O, O, O, O, O, O, O, O, O, O, O, O, B-название проекта, I-название проекта, O, O, B-Дата, I-Дата, O, O, O, O, O, O, O, O, O, O, O, O, O, O, O, O, O, O, O, B-персона, I-персона, I-персона, I-персона, B-персона, I-персона,...  "
            ],
            "text/html": [
              "\n",
              "  <div id=\"df-5bac33d7-4d5d-4742-9c55-b2d688c53777\" class=\"colab-df-container\">\n",
              "    <div>\n",
              "<style scoped>\n",
              "    .dataframe tbody tr th:only-of-type {\n",
              "        vertical-align: middle;\n",
              "    }\n",
              "\n",
              "    .dataframe tbody tr th {\n",
              "        vertical-align: top;\n",
              "    }\n",
              "\n",
              "    .dataframe thead th {\n",
              "        text-align: right;\n",
              "    }\n",
              "</style>\n",
              "<table border=\"1\" class=\"dataframe\">\n",
              "  <thead>\n",
              "    <tr style=\"text-align: right;\">\n",
              "      <th></th>\n",
              "      <th>tokens</th>\n",
              "      <th>tags</th>\n",
              "    </tr>\n",
              "  </thead>\n",
              "  <tbody>\n",
              "    <tr>\n",
              "      <th>5392</th>\n",
              "      <td>[&lt;, НАЗВАНИЕ, :, &gt;, Родители, в, законе, =, Фильм, 2023, (, Netflix, ), =, Русский, трейлер, в, рейтинге, &lt;, ОПИСАНИЕ, :, &gt;, #, kino, Простоватый, банковский, менеджер, собирается, жениться, на, любви, всей, своей, жизни, ,, но, всё, портит, тот, момент, ,, что, его, банк, грабят, неуловимые, ба...</td>\n",
              "      <td>[O, O, O, O, O, O, O, O, O, B-Дата, O, B-организация, O, O, O, O, O, O, O, O, O, O, O, O, O, O, O, O, O, O, O, O, O, O, O, O, O, O, O, O, O, O, O, O, O, O, O, O, O, O, O, O, O, O, O, O, O, O, O, O, O, O, O, O, O, O, O, O, O, O]</td>\n",
              "    </tr>\n",
              "    <tr>\n",
              "      <th>2301</th>\n",
              "      <td>[&lt;, НАЗВАНИЕ, :, &gt;, Замена, масла, в, двигателе, Mitsubishi, Outlander, 3, перешли, на, отечественного, производителя, &lt;, ОПИСАНИЕ, :, &gt;, Синтетическое, моторное, масло, ЛУКОЙЛ, Genesis, Armortech, JP, 5, W, 30, на, Яндекс, Маркет, &lt;, LINK, &gt;, &lt;, LINK, &gt;, Дзен, &lt;, LINK, &gt;, VK, &lt;, LINK, &gt;, OK, &lt;,...</td>\n",
              "      <td>[O, O, O, O, O, O, O, O, B-бренд, B-модель, I-модель, O, O, O, O, O, O, O, O, O, O, O, B-бренд, B-модель, I-модель, I-модель, I-модель, I-модель, I-модель, O, B-бренд, I-бренд, O, O, O, O, O, O, O, O, O, O, O, O, O, O, O, O, O, O, O, O, O, O, O, O, O, O, O, O, O, O, O, O, O, O, O, O, O, O, O, O,...</td>\n",
              "    </tr>\n",
              "    <tr>\n",
              "      <th>2643</th>\n",
              "      <td>[&lt;, НАЗВАНИЕ, :, &gt;, ⚡, Меняющие, реальность, ⚡, Фильм, 2011, года, ⚡, Русский, Трейлер, &lt;, ОПИСАНИЕ, :, &gt;, 📢, Русский, Трейлер, к, фильму, ►, Меняющие, реальность, 🎥, Фильм, 2011, года, 🚥, Жанр, ►, фантастика, ,, триллер, ,, мелодрама, ⚡, Возрастные, ограничения, ►, 12, +, 🎭, О, чем, ►, Случайно...</td>\n",
              "      <td>[O, O, O, O, O, B-название проекта, I-название проекта, O, O, B-Дата, O, O, O, O, O, O, O, O, O, O, O, O, O, O, B-название проекта, I-название проекта, O, O, B-Дата, I-Дата, O, O, O, O, O, O, O, O, O, O, O, O, O, O, O, O, O, O, O, B-персона, I-персона, I-персона, I-персона, B-персона, I-персона,...</td>\n",
              "    </tr>\n",
              "  </tbody>\n",
              "</table>\n",
              "</div>\n",
              "    <div class=\"colab-df-buttons\">\n",
              "\n",
              "  <div class=\"colab-df-container\">\n",
              "    <button class=\"colab-df-convert\" onclick=\"convertToInteractive('df-5bac33d7-4d5d-4742-9c55-b2d688c53777')\"\n",
              "            title=\"Convert this dataframe to an interactive table.\"\n",
              "            style=\"display:none;\">\n",
              "\n",
              "  <svg xmlns=\"http://www.w3.org/2000/svg\" height=\"24px\" viewBox=\"0 -960 960 960\">\n",
              "    <path d=\"M120-120v-720h720v720H120Zm60-500h600v-160H180v160Zm220 220h160v-160H400v160Zm0 220h160v-160H400v160ZM180-400h160v-160H180v160Zm440 0h160v-160H620v160ZM180-180h160v-160H180v160Zm440 0h160v-160H620v160Z\"/>\n",
              "  </svg>\n",
              "    </button>\n",
              "\n",
              "  <style>\n",
              "    .colab-df-container {\n",
              "      display:flex;\n",
              "      gap: 12px;\n",
              "    }\n",
              "\n",
              "    .colab-df-convert {\n",
              "      background-color: #E8F0FE;\n",
              "      border: none;\n",
              "      border-radius: 50%;\n",
              "      cursor: pointer;\n",
              "      display: none;\n",
              "      fill: #1967D2;\n",
              "      height: 32px;\n",
              "      padding: 0 0 0 0;\n",
              "      width: 32px;\n",
              "    }\n",
              "\n",
              "    .colab-df-convert:hover {\n",
              "      background-color: #E2EBFA;\n",
              "      box-shadow: 0px 1px 2px rgba(60, 64, 67, 0.3), 0px 1px 3px 1px rgba(60, 64, 67, 0.15);\n",
              "      fill: #174EA6;\n",
              "    }\n",
              "\n",
              "    .colab-df-buttons div {\n",
              "      margin-bottom: 4px;\n",
              "    }\n",
              "\n",
              "    [theme=dark] .colab-df-convert {\n",
              "      background-color: #3B4455;\n",
              "      fill: #D2E3FC;\n",
              "    }\n",
              "\n",
              "    [theme=dark] .colab-df-convert:hover {\n",
              "      background-color: #434B5C;\n",
              "      box-shadow: 0px 1px 3px 1px rgba(0, 0, 0, 0.15);\n",
              "      filter: drop-shadow(0px 1px 2px rgba(0, 0, 0, 0.3));\n",
              "      fill: #FFFFFF;\n",
              "    }\n",
              "  </style>\n",
              "\n",
              "    <script>\n",
              "      const buttonEl =\n",
              "        document.querySelector('#df-5bac33d7-4d5d-4742-9c55-b2d688c53777 button.colab-df-convert');\n",
              "      buttonEl.style.display =\n",
              "        google.colab.kernel.accessAllowed ? 'block' : 'none';\n",
              "\n",
              "      async function convertToInteractive(key) {\n",
              "        const element = document.querySelector('#df-5bac33d7-4d5d-4742-9c55-b2d688c53777');\n",
              "        const dataTable =\n",
              "          await google.colab.kernel.invokeFunction('convertToInteractive',\n",
              "                                                    [key], {});\n",
              "        if (!dataTable) return;\n",
              "\n",
              "        const docLinkHtml = 'Like what you see? Visit the ' +\n",
              "          '<a target=\"_blank\" href=https://colab.research.google.com/notebooks/data_table.ipynb>data table notebook</a>'\n",
              "          + ' to learn more about interactive tables.';\n",
              "        element.innerHTML = '';\n",
              "        dataTable['output_type'] = 'display_data';\n",
              "        await google.colab.output.renderOutput(dataTable, element);\n",
              "        const docLink = document.createElement('div');\n",
              "        docLink.innerHTML = docLinkHtml;\n",
              "        element.appendChild(docLink);\n",
              "      }\n",
              "    </script>\n",
              "  </div>\n",
              "\n",
              "\n",
              "<div id=\"df-1d667fc4-73b4-4edd-a175-551dfb532d10\">\n",
              "  <button class=\"colab-df-quickchart\" onclick=\"quickchart('df-1d667fc4-73b4-4edd-a175-551dfb532d10')\"\n",
              "            title=\"Suggest charts.\"\n",
              "            style=\"display:none;\">\n",
              "\n",
              "<svg xmlns=\"http://www.w3.org/2000/svg\" height=\"24px\"viewBox=\"0 0 24 24\"\n",
              "     width=\"24px\">\n",
              "    <g>\n",
              "        <path d=\"M19 3H5c-1.1 0-2 .9-2 2v14c0 1.1.9 2 2 2h14c1.1 0 2-.9 2-2V5c0-1.1-.9-2-2-2zM9 17H7v-7h2v7zm4 0h-2V7h2v10zm4 0h-2v-4h2v4z\"/>\n",
              "    </g>\n",
              "</svg>\n",
              "  </button>\n",
              "\n",
              "<style>\n",
              "  .colab-df-quickchart {\n",
              "      --bg-color: #E8F0FE;\n",
              "      --fill-color: #1967D2;\n",
              "      --hover-bg-color: #E2EBFA;\n",
              "      --hover-fill-color: #174EA6;\n",
              "      --disabled-fill-color: #AAA;\n",
              "      --disabled-bg-color: #DDD;\n",
              "  }\n",
              "\n",
              "  [theme=dark] .colab-df-quickchart {\n",
              "      --bg-color: #3B4455;\n",
              "      --fill-color: #D2E3FC;\n",
              "      --hover-bg-color: #434B5C;\n",
              "      --hover-fill-color: #FFFFFF;\n",
              "      --disabled-bg-color: #3B4455;\n",
              "      --disabled-fill-color: #666;\n",
              "  }\n",
              "\n",
              "  .colab-df-quickchart {\n",
              "    background-color: var(--bg-color);\n",
              "    border: none;\n",
              "    border-radius: 50%;\n",
              "    cursor: pointer;\n",
              "    display: none;\n",
              "    fill: var(--fill-color);\n",
              "    height: 32px;\n",
              "    padding: 0;\n",
              "    width: 32px;\n",
              "  }\n",
              "\n",
              "  .colab-df-quickchart:hover {\n",
              "    background-color: var(--hover-bg-color);\n",
              "    box-shadow: 0 1px 2px rgba(60, 64, 67, 0.3), 0 1px 3px 1px rgba(60, 64, 67, 0.15);\n",
              "    fill: var(--button-hover-fill-color);\n",
              "  }\n",
              "\n",
              "  .colab-df-quickchart-complete:disabled,\n",
              "  .colab-df-quickchart-complete:disabled:hover {\n",
              "    background-color: var(--disabled-bg-color);\n",
              "    fill: var(--disabled-fill-color);\n",
              "    box-shadow: none;\n",
              "  }\n",
              "\n",
              "  .colab-df-spinner {\n",
              "    border: 2px solid var(--fill-color);\n",
              "    border-color: transparent;\n",
              "    border-bottom-color: var(--fill-color);\n",
              "    animation:\n",
              "      spin 1s steps(1) infinite;\n",
              "  }\n",
              "\n",
              "  @keyframes spin {\n",
              "    0% {\n",
              "      border-color: transparent;\n",
              "      border-bottom-color: var(--fill-color);\n",
              "      border-left-color: var(--fill-color);\n",
              "    }\n",
              "    20% {\n",
              "      border-color: transparent;\n",
              "      border-left-color: var(--fill-color);\n",
              "      border-top-color: var(--fill-color);\n",
              "    }\n",
              "    30% {\n",
              "      border-color: transparent;\n",
              "      border-left-color: var(--fill-color);\n",
              "      border-top-color: var(--fill-color);\n",
              "      border-right-color: var(--fill-color);\n",
              "    }\n",
              "    40% {\n",
              "      border-color: transparent;\n",
              "      border-right-color: var(--fill-color);\n",
              "      border-top-color: var(--fill-color);\n",
              "    }\n",
              "    60% {\n",
              "      border-color: transparent;\n",
              "      border-right-color: var(--fill-color);\n",
              "    }\n",
              "    80% {\n",
              "      border-color: transparent;\n",
              "      border-right-color: var(--fill-color);\n",
              "      border-bottom-color: var(--fill-color);\n",
              "    }\n",
              "    90% {\n",
              "      border-color: transparent;\n",
              "      border-bottom-color: var(--fill-color);\n",
              "    }\n",
              "  }\n",
              "</style>\n",
              "\n",
              "  <script>\n",
              "    async function quickchart(key) {\n",
              "      const quickchartButtonEl =\n",
              "        document.querySelector('#' + key + ' button');\n",
              "      quickchartButtonEl.disabled = true;  // To prevent multiple clicks.\n",
              "      quickchartButtonEl.classList.add('colab-df-spinner');\n",
              "      try {\n",
              "        const charts = await google.colab.kernel.invokeFunction(\n",
              "            'suggestCharts', [key], {});\n",
              "      } catch (error) {\n",
              "        console.error('Error during call to suggestCharts:', error);\n",
              "      }\n",
              "      quickchartButtonEl.classList.remove('colab-df-spinner');\n",
              "      quickchartButtonEl.classList.add('colab-df-quickchart-complete');\n",
              "    }\n",
              "    (() => {\n",
              "      let quickchartButtonEl =\n",
              "        document.querySelector('#df-1d667fc4-73b4-4edd-a175-551dfb532d10 button');\n",
              "      quickchartButtonEl.style.display =\n",
              "        google.colab.kernel.accessAllowed ? 'block' : 'none';\n",
              "    })();\n",
              "  </script>\n",
              "</div>\n",
              "    </div>\n",
              "  </div>\n"
            ]
          },
          "metadata": {},
          "execution_count": 130
        }
      ]
    },
    {
      "cell_type": "code",
      "source": [],
      "metadata": {
        "id": "Ca7oIO2LMGLK"
      },
      "execution_count": 130,
      "outputs": []
    },
    {
      "cell_type": "markdown",
      "source": [
        "#Pipеline: dataset to prediction"
      ],
      "metadata": {
        "id": "RsWyICi_chDP"
      }
    },
    {
      "cell_type": "markdown",
      "source": [
        "берется датасет, состоящий только из video_info"
      ],
      "metadata": {
        "id": "98DSK4JG1ex_"
      }
    },
    {
      "cell_type": "code",
      "source": [
        "test_df=dataframe['video_info'][:20]"
      ],
      "metadata": {
        "id": "W9YwBVLVDfRt"
      },
      "execution_count": 131,
      "outputs": []
    },
    {
      "cell_type": "markdown",
      "source": [
        "Производится поиск NER"
      ],
      "metadata": {
        "id": "dY-_pBqx1sJX"
      }
    },
    {
      "cell_type": "code",
      "source": [
        "from tqdm import tqdm\n",
        "\n",
        "def analise_dataset(test_df):\n",
        "\n",
        "  video_infos=[]\n",
        "  analise_dicts=[]\n",
        "  for video_info in tqdm(test_df):\n",
        "    analise_dict=full_analise_dForm(video_info)\n",
        "    #удали потом clear_text, сейчас это для визуала\n",
        "    video_infos.append(clear_text(video_info))\n",
        "    analise_dicts.append(analise_dict)\n",
        "\n",
        "  submission = pd.DataFrame(list(zip(video_infos,analise_dicts)),columns=[['video_info', 'entities']])\n",
        "  return submission"
      ],
      "metadata": {
        "id": "3EWPpX1JnAAV"
      },
      "execution_count": 132,
      "outputs": []
    },
    {
      "cell_type": "code",
      "source": [
        "submission=analise_dataset(test_df)"
      ],
      "metadata": {
        "colab": {
          "base_uri": "https://localhost:8080/"
        },
        "id": "7L5Uu8DRBAq8",
        "outputId": "e8b0c9c4-9849-4de3-ac58-b4d46bfa3da5"
      },
      "execution_count": 133,
      "outputs": [
        {
          "output_type": "stream",
          "name": "stderr",
          "text": [
            "100%|██████████| 20/20 [00:01<00:00, 11.21it/s]\n"
          ]
        }
      ]
    },
    {
      "cell_type": "code",
      "source": [
        "submission.sample(3)"
      ],
      "metadata": {
        "colab": {
          "base_uri": "https://localhost:8080/",
          "height": 282
        },
        "id": "mfeJ8tRYMHt6",
        "outputId": "38cbca34-f7ca-44d6-8089-0d15cfe4685e"
      },
      "execution_count": 134,
      "outputs": [
        {
          "output_type": "execute_result",
          "data": {
            "text/plain": [
              "                                                                                                                                                                                                                                                                                                     video_info  \\\n",
              "2   ___________ ВЫЗОВ ДЕМОНА = Вызвал Серого Человека [Короткометражный фильм] #серыйчеловек, #короткометражныйфильм ___________ВЫЗОВ ДЕМОНА Вызвал Серого Человека [Короткометражный фильм] #серыйчеловек, #короткометражныйфильм Спасибо за просмотр. В качестве оплаты с вас лайк и подписка) Ссылки на м...   \n",
              "13  ___________ Что делать женщине, если у неё два любовника, а выбрать нужно одного (2022) 1,2,3,4,5,6,7,8 серия ___________Анна — успешный адвокат, которая не стесняясь говорит своей давней подруге Ларисе, что хочет выбрать «мужа на три месяца», так как у нее сложный проект и нужен громоотвод и по...   \n",
              "3   ___________ Довоенная немецкая кирха в Калининградской области. Посетили вместе с #Заброшки39! ___________Хочешь новых эмоций, побывать в необычных местах, тогда присоединяйся к нам <AT>! Автомобильные путешествия по заброшенным старинным сооружениям. Самые необычные места Калининградской област...   \n",
              "\n",
              "                                                                                                                                                                                                                                                                                                       entities  \n",
              "2                                                                                                                                                                                                                                   [{'label': 'организация', 'offset': 380, 'length': 6, 'segment': 'Rutube'}]  \n",
              "13  [{'label': 'персона', 'offset': 121, 'length': 4, 'segment': 'Анна'}, {'label': 'персона', 'offset': 196, 'length': 6, 'segment': 'Ларисе'}, {'label': 'персона', 'offset': 481, 'length': 4, 'segment': 'Анна'}, {'label': 'локация', 'offset': 604, 'length': 6, 'segment': 'Англии'}, {'label': 'перс...  \n",
              "3   [{'label': 'персона', 'offset': 12, 'length': 9, 'segment': 'Довоенная'}, {'label': 'локация', 'offset': 39, 'length': 23, 'segment': 'Калининградской области'}, {'label': 'локация', 'offset': 274, 'length': 23, 'segment': 'Калининградской области'}, {'label': 'локация', 'offset': 401, 'length':...  "
            ],
            "text/html": [
              "\n",
              "  <div id=\"df-1c4085e9-8b06-4045-84b2-faeee73177e3\" class=\"colab-df-container\">\n",
              "    <div>\n",
              "<style scoped>\n",
              "    .dataframe tbody tr th:only-of-type {\n",
              "        vertical-align: middle;\n",
              "    }\n",
              "\n",
              "    .dataframe tbody tr th {\n",
              "        vertical-align: top;\n",
              "    }\n",
              "\n",
              "    .dataframe thead tr th {\n",
              "        text-align: left;\n",
              "    }\n",
              "</style>\n",
              "<table border=\"1\" class=\"dataframe\">\n",
              "  <thead>\n",
              "    <tr>\n",
              "      <th></th>\n",
              "      <th>video_info</th>\n",
              "      <th>entities</th>\n",
              "    </tr>\n",
              "  </thead>\n",
              "  <tbody>\n",
              "    <tr>\n",
              "      <th>2</th>\n",
              "      <td>___________ ВЫЗОВ ДЕМОНА = Вызвал Серого Человека [Короткометражный фильм] #серыйчеловек, #короткометражныйфильм ___________ВЫЗОВ ДЕМОНА Вызвал Серого Человека [Короткометражный фильм] #серыйчеловек, #короткометражныйфильм Спасибо за просмотр. В качестве оплаты с вас лайк и подписка) Ссылки на м...</td>\n",
              "      <td>[{'label': 'организация', 'offset': 380, 'length': 6, 'segment': 'Rutube'}]</td>\n",
              "    </tr>\n",
              "    <tr>\n",
              "      <th>13</th>\n",
              "      <td>___________ Что делать женщине, если у неё два любовника, а выбрать нужно одного (2022) 1,2,3,4,5,6,7,8 серия ___________Анна — успешный адвокат, которая не стесняясь говорит своей давней подруге Ларисе, что хочет выбрать «мужа на три месяца», так как у нее сложный проект и нужен громоотвод и по...</td>\n",
              "      <td>[{'label': 'персона', 'offset': 121, 'length': 4, 'segment': 'Анна'}, {'label': 'персона', 'offset': 196, 'length': 6, 'segment': 'Ларисе'}, {'label': 'персона', 'offset': 481, 'length': 4, 'segment': 'Анна'}, {'label': 'локация', 'offset': 604, 'length': 6, 'segment': 'Англии'}, {'label': 'перс...</td>\n",
              "    </tr>\n",
              "    <tr>\n",
              "      <th>3</th>\n",
              "      <td>___________ Довоенная немецкая кирха в Калининградской области. Посетили вместе с #Заброшки39! ___________Хочешь новых эмоций, побывать в необычных местах, тогда присоединяйся к нам &lt;AT&gt;! Автомобильные путешествия по заброшенным старинным сооружениям. Самые необычные места Калининградской област...</td>\n",
              "      <td>[{'label': 'персона', 'offset': 12, 'length': 9, 'segment': 'Довоенная'}, {'label': 'локация', 'offset': 39, 'length': 23, 'segment': 'Калининградской области'}, {'label': 'локация', 'offset': 274, 'length': 23, 'segment': 'Калининградской области'}, {'label': 'локация', 'offset': 401, 'length':...</td>\n",
              "    </tr>\n",
              "  </tbody>\n",
              "</table>\n",
              "</div>\n",
              "    <div class=\"colab-df-buttons\">\n",
              "\n",
              "  <div class=\"colab-df-container\">\n",
              "    <button class=\"colab-df-convert\" onclick=\"convertToInteractive('df-1c4085e9-8b06-4045-84b2-faeee73177e3')\"\n",
              "            title=\"Convert this dataframe to an interactive table.\"\n",
              "            style=\"display:none;\">\n",
              "\n",
              "  <svg xmlns=\"http://www.w3.org/2000/svg\" height=\"24px\" viewBox=\"0 -960 960 960\">\n",
              "    <path d=\"M120-120v-720h720v720H120Zm60-500h600v-160H180v160Zm220 220h160v-160H400v160Zm0 220h160v-160H400v160ZM180-400h160v-160H180v160Zm440 0h160v-160H620v160ZM180-180h160v-160H180v160Zm440 0h160v-160H620v160Z\"/>\n",
              "  </svg>\n",
              "    </button>\n",
              "\n",
              "  <style>\n",
              "    .colab-df-container {\n",
              "      display:flex;\n",
              "      gap: 12px;\n",
              "    }\n",
              "\n",
              "    .colab-df-convert {\n",
              "      background-color: #E8F0FE;\n",
              "      border: none;\n",
              "      border-radius: 50%;\n",
              "      cursor: pointer;\n",
              "      display: none;\n",
              "      fill: #1967D2;\n",
              "      height: 32px;\n",
              "      padding: 0 0 0 0;\n",
              "      width: 32px;\n",
              "    }\n",
              "\n",
              "    .colab-df-convert:hover {\n",
              "      background-color: #E2EBFA;\n",
              "      box-shadow: 0px 1px 2px rgba(60, 64, 67, 0.3), 0px 1px 3px 1px rgba(60, 64, 67, 0.15);\n",
              "      fill: #174EA6;\n",
              "    }\n",
              "\n",
              "    .colab-df-buttons div {\n",
              "      margin-bottom: 4px;\n",
              "    }\n",
              "\n",
              "    [theme=dark] .colab-df-convert {\n",
              "      background-color: #3B4455;\n",
              "      fill: #D2E3FC;\n",
              "    }\n",
              "\n",
              "    [theme=dark] .colab-df-convert:hover {\n",
              "      background-color: #434B5C;\n",
              "      box-shadow: 0px 1px 3px 1px rgba(0, 0, 0, 0.15);\n",
              "      filter: drop-shadow(0px 1px 2px rgba(0, 0, 0, 0.3));\n",
              "      fill: #FFFFFF;\n",
              "    }\n",
              "  </style>\n",
              "\n",
              "    <script>\n",
              "      const buttonEl =\n",
              "        document.querySelector('#df-1c4085e9-8b06-4045-84b2-faeee73177e3 button.colab-df-convert');\n",
              "      buttonEl.style.display =\n",
              "        google.colab.kernel.accessAllowed ? 'block' : 'none';\n",
              "\n",
              "      async function convertToInteractive(key) {\n",
              "        const element = document.querySelector('#df-1c4085e9-8b06-4045-84b2-faeee73177e3');\n",
              "        const dataTable =\n",
              "          await google.colab.kernel.invokeFunction('convertToInteractive',\n",
              "                                                    [key], {});\n",
              "        if (!dataTable) return;\n",
              "\n",
              "        const docLinkHtml = 'Like what you see? Visit the ' +\n",
              "          '<a target=\"_blank\" href=https://colab.research.google.com/notebooks/data_table.ipynb>data table notebook</a>'\n",
              "          + ' to learn more about interactive tables.';\n",
              "        element.innerHTML = '';\n",
              "        dataTable['output_type'] = 'display_data';\n",
              "        await google.colab.output.renderOutput(dataTable, element);\n",
              "        const docLink = document.createElement('div');\n",
              "        docLink.innerHTML = docLinkHtml;\n",
              "        element.appendChild(docLink);\n",
              "      }\n",
              "    </script>\n",
              "  </div>\n",
              "\n",
              "\n",
              "<div id=\"df-bb281e8a-c6e2-40b2-a50f-09b2e751fb1f\">\n",
              "  <button class=\"colab-df-quickchart\" onclick=\"quickchart('df-bb281e8a-c6e2-40b2-a50f-09b2e751fb1f')\"\n",
              "            title=\"Suggest charts.\"\n",
              "            style=\"display:none;\">\n",
              "\n",
              "<svg xmlns=\"http://www.w3.org/2000/svg\" height=\"24px\"viewBox=\"0 0 24 24\"\n",
              "     width=\"24px\">\n",
              "    <g>\n",
              "        <path d=\"M19 3H5c-1.1 0-2 .9-2 2v14c0 1.1.9 2 2 2h14c1.1 0 2-.9 2-2V5c0-1.1-.9-2-2-2zM9 17H7v-7h2v7zm4 0h-2V7h2v10zm4 0h-2v-4h2v4z\"/>\n",
              "    </g>\n",
              "</svg>\n",
              "  </button>\n",
              "\n",
              "<style>\n",
              "  .colab-df-quickchart {\n",
              "      --bg-color: #E8F0FE;\n",
              "      --fill-color: #1967D2;\n",
              "      --hover-bg-color: #E2EBFA;\n",
              "      --hover-fill-color: #174EA6;\n",
              "      --disabled-fill-color: #AAA;\n",
              "      --disabled-bg-color: #DDD;\n",
              "  }\n",
              "\n",
              "  [theme=dark] .colab-df-quickchart {\n",
              "      --bg-color: #3B4455;\n",
              "      --fill-color: #D2E3FC;\n",
              "      --hover-bg-color: #434B5C;\n",
              "      --hover-fill-color: #FFFFFF;\n",
              "      --disabled-bg-color: #3B4455;\n",
              "      --disabled-fill-color: #666;\n",
              "  }\n",
              "\n",
              "  .colab-df-quickchart {\n",
              "    background-color: var(--bg-color);\n",
              "    border: none;\n",
              "    border-radius: 50%;\n",
              "    cursor: pointer;\n",
              "    display: none;\n",
              "    fill: var(--fill-color);\n",
              "    height: 32px;\n",
              "    padding: 0;\n",
              "    width: 32px;\n",
              "  }\n",
              "\n",
              "  .colab-df-quickchart:hover {\n",
              "    background-color: var(--hover-bg-color);\n",
              "    box-shadow: 0 1px 2px rgba(60, 64, 67, 0.3), 0 1px 3px 1px rgba(60, 64, 67, 0.15);\n",
              "    fill: var(--button-hover-fill-color);\n",
              "  }\n",
              "\n",
              "  .colab-df-quickchart-complete:disabled,\n",
              "  .colab-df-quickchart-complete:disabled:hover {\n",
              "    background-color: var(--disabled-bg-color);\n",
              "    fill: var(--disabled-fill-color);\n",
              "    box-shadow: none;\n",
              "  }\n",
              "\n",
              "  .colab-df-spinner {\n",
              "    border: 2px solid var(--fill-color);\n",
              "    border-color: transparent;\n",
              "    border-bottom-color: var(--fill-color);\n",
              "    animation:\n",
              "      spin 1s steps(1) infinite;\n",
              "  }\n",
              "\n",
              "  @keyframes spin {\n",
              "    0% {\n",
              "      border-color: transparent;\n",
              "      border-bottom-color: var(--fill-color);\n",
              "      border-left-color: var(--fill-color);\n",
              "    }\n",
              "    20% {\n",
              "      border-color: transparent;\n",
              "      border-left-color: var(--fill-color);\n",
              "      border-top-color: var(--fill-color);\n",
              "    }\n",
              "    30% {\n",
              "      border-color: transparent;\n",
              "      border-left-color: var(--fill-color);\n",
              "      border-top-color: var(--fill-color);\n",
              "      border-right-color: var(--fill-color);\n",
              "    }\n",
              "    40% {\n",
              "      border-color: transparent;\n",
              "      border-right-color: var(--fill-color);\n",
              "      border-top-color: var(--fill-color);\n",
              "    }\n",
              "    60% {\n",
              "      border-color: transparent;\n",
              "      border-right-color: var(--fill-color);\n",
              "    }\n",
              "    80% {\n",
              "      border-color: transparent;\n",
              "      border-right-color: var(--fill-color);\n",
              "      border-bottom-color: var(--fill-color);\n",
              "    }\n",
              "    90% {\n",
              "      border-color: transparent;\n",
              "      border-bottom-color: var(--fill-color);\n",
              "    }\n",
              "  }\n",
              "</style>\n",
              "\n",
              "  <script>\n",
              "    async function quickchart(key) {\n",
              "      const quickchartButtonEl =\n",
              "        document.querySelector('#' + key + ' button');\n",
              "      quickchartButtonEl.disabled = true;  // To prevent multiple clicks.\n",
              "      quickchartButtonEl.classList.add('colab-df-spinner');\n",
              "      try {\n",
              "        const charts = await google.colab.kernel.invokeFunction(\n",
              "            'suggestCharts', [key], {});\n",
              "      } catch (error) {\n",
              "        console.error('Error during call to suggestCharts:', error);\n",
              "      }\n",
              "      quickchartButtonEl.classList.remove('colab-df-spinner');\n",
              "      quickchartButtonEl.classList.add('colab-df-quickchart-complete');\n",
              "    }\n",
              "    (() => {\n",
              "      let quickchartButtonEl =\n",
              "        document.querySelector('#df-bb281e8a-c6e2-40b2-a50f-09b2e751fb1f button');\n",
              "      quickchartButtonEl.style.display =\n",
              "        google.colab.kernel.accessAllowed ? 'block' : 'none';\n",
              "    })();\n",
              "  </script>\n",
              "</div>\n",
              "    </div>\n",
              "  </div>\n"
            ]
          },
          "metadata": {},
          "execution_count": 134
        }
      ]
    },
    {
      "cell_type": "markdown",
      "source": [
        "Метки приводятся к формату BIO"
      ],
      "metadata": {
        "id": "TbTuvNWB1wXX"
      }
    },
    {
      "cell_type": "code",
      "source": [
        "prediction = [extract_labels(iitem1[1],iitem2) for iitem1, iitem2 in zip(submission.iterrows(),test_df.tolist())]\n",
        "prediction_BIO=pd.DataFrame(prediction)"
      ],
      "metadata": {
        "id": "kPJtHCbQtKwh"
      },
      "execution_count": 135,
      "outputs": []
    },
    {
      "cell_type": "code",
      "source": [
        "prediction_BIO.sample(3)"
      ],
      "metadata": {
        "colab": {
          "base_uri": "https://localhost:8080/",
          "height": 282
        },
        "id": "Dz8HAbT4410F",
        "outputId": "7c26a07d-03b2-4d8d-d08d-54a4f39e14e2"
      },
      "execution_count": 136,
      "outputs": [
        {
          "output_type": "execute_result",
          "data": {
            "text/plain": [
              "                                                                                                                                                                                                                                                                                                         tokens  \\\n",
              "10  [<, НАЗВАНИЕ, :, >, Космические, истории, ., Подготовка, космонавтов, для, работы, в, экстремальных, условиях, ., Выпуск, 09.03.2023, <, ОПИСАНИЕ, :, >, Ведущий, подкаста, ,, космонавт, Антон, Шкаплеров, ,, беседует, с, инструктором, испытателем, ЦПК, Анатолием, Забрусковым, ., Через, какие, экс...   \n",
              "9   [<, НАЗВАНИЕ, :, >, Подготовка, к, отопительному, сезону, :, в, Хабаровске, проверили, проблемные, многоквартирные, дома, <, ОПИСАНИЕ, :, >, Отопление, в, домах, хабаровчан, включат, 8, октября, ., Паспорта, готовности, управляющие, компании, получили, ещё, до, 15, сентября, ., Но, ,, как, показ...   \n",
              "4   [<, НАЗВАНИЕ, :, >, \", Спартаку, \", помогли, судьи, ?, Локомотив, засудили, ?, Стоило, ли, отменять, гол, ?, <, ОПИСАНИЕ, :, >, Спартак, #, Локомотив, #, обзор, #, обзорматча, #, всеголы, #, Локо, #, ЛокомотивМосква, #, голПруцева, #, ЛокомотивСпартакобзор, #, ЛокомотивСпартакполныйматч, #, Кубо...   \n",
              "\n",
              "                                                                                                                                                                                                                                                                                                           tags  \n",
              "10  [O, O, O, O, O, O, O, O, O, O, O, O, O, O, O, O, B-Дата, O, O, O, O, O, O, O, O, B-персона, I-персона, O, O, O, O, O, B-организация, B-персона, I-персона, O, O, O, O, O, O, O, O, O, O, O, O, O, O, O, O, O, O, O, O, O, O, O, O, O, O, O, O, O, O, O, O, O, O, O, O, O, O, O, O, O, O, O, O, O, O, O, ...  \n",
              "9   [O, O, O, O, O, O, O, O, O, O, B-локация, O, O, O, O, O, O, O, O, O, O, O, O, O, O, O, O, O, O, O, O, O, O, O, O, O, O, O, O, O, O, O, O, O, O, O, O, O, O, O, O, O, O, O, O, O, O, O, O, O, B-персона, I-персона, O, O, O, O, O, O, O, O, O, O, O, O, O, O, O, O, O, O, O, O, O, O, O, B-локация, O, O,...  \n",
              "4                                                                         [O, O, O, O, O, B-организация, O, O, O, O, O, O, O, O, O, O, O, O, O, O, O, O, B-организация, O, B-организация, O, O, O, O, O, O, O, O, O, O, O, O, O, O, O, O, O, O, O, B-локация, O, O, O, O, O, O, O, B-персона, O, B-организация]  "
            ],
            "text/html": [
              "\n",
              "  <div id=\"df-9723dc0b-5c63-4f09-bef1-96d737b141bf\" class=\"colab-df-container\">\n",
              "    <div>\n",
              "<style scoped>\n",
              "    .dataframe tbody tr th:only-of-type {\n",
              "        vertical-align: middle;\n",
              "    }\n",
              "\n",
              "    .dataframe tbody tr th {\n",
              "        vertical-align: top;\n",
              "    }\n",
              "\n",
              "    .dataframe thead th {\n",
              "        text-align: right;\n",
              "    }\n",
              "</style>\n",
              "<table border=\"1\" class=\"dataframe\">\n",
              "  <thead>\n",
              "    <tr style=\"text-align: right;\">\n",
              "      <th></th>\n",
              "      <th>tokens</th>\n",
              "      <th>tags</th>\n",
              "    </tr>\n",
              "  </thead>\n",
              "  <tbody>\n",
              "    <tr>\n",
              "      <th>10</th>\n",
              "      <td>[&lt;, НАЗВАНИЕ, :, &gt;, Космические, истории, ., Подготовка, космонавтов, для, работы, в, экстремальных, условиях, ., Выпуск, 09.03.2023, &lt;, ОПИСАНИЕ, :, &gt;, Ведущий, подкаста, ,, космонавт, Антон, Шкаплеров, ,, беседует, с, инструктором, испытателем, ЦПК, Анатолием, Забрусковым, ., Через, какие, экс...</td>\n",
              "      <td>[O, O, O, O, O, O, O, O, O, O, O, O, O, O, O, O, B-Дата, O, O, O, O, O, O, O, O, B-персона, I-персона, O, O, O, O, O, B-организация, B-персона, I-персона, O, O, O, O, O, O, O, O, O, O, O, O, O, O, O, O, O, O, O, O, O, O, O, O, O, O, O, O, O, O, O, O, O, O, O, O, O, O, O, O, O, O, O, O, O, O, O, ...</td>\n",
              "    </tr>\n",
              "    <tr>\n",
              "      <th>9</th>\n",
              "      <td>[&lt;, НАЗВАНИЕ, :, &gt;, Подготовка, к, отопительному, сезону, :, в, Хабаровске, проверили, проблемные, многоквартирные, дома, &lt;, ОПИСАНИЕ, :, &gt;, Отопление, в, домах, хабаровчан, включат, 8, октября, ., Паспорта, готовности, управляющие, компании, получили, ещё, до, 15, сентября, ., Но, ,, как, показ...</td>\n",
              "      <td>[O, O, O, O, O, O, O, O, O, O, B-локация, O, O, O, O, O, O, O, O, O, O, O, O, O, O, O, O, O, O, O, O, O, O, O, O, O, O, O, O, O, O, O, O, O, O, O, O, O, O, O, O, O, O, O, O, O, O, O, O, O, B-персона, I-персона, O, O, O, O, O, O, O, O, O, O, O, O, O, O, O, O, O, O, O, O, O, O, O, B-локация, O, O,...</td>\n",
              "    </tr>\n",
              "    <tr>\n",
              "      <th>4</th>\n",
              "      <td>[&lt;, НАЗВАНИЕ, :, &gt;, \", Спартаку, \", помогли, судьи, ?, Локомотив, засудили, ?, Стоило, ли, отменять, гол, ?, &lt;, ОПИСАНИЕ, :, &gt;, Спартак, #, Локомотив, #, обзор, #, обзорматча, #, всеголы, #, Локо, #, ЛокомотивМосква, #, голПруцева, #, ЛокомотивСпартакобзор, #, ЛокомотивСпартакполныйматч, #, Кубо...</td>\n",
              "      <td>[O, O, O, O, O, B-организация, O, O, O, O, O, O, O, O, O, O, O, O, O, O, O, O, B-организация, O, B-организация, O, O, O, O, O, O, O, O, O, O, O, O, O, O, O, O, O, O, O, B-локация, O, O, O, O, O, O, O, B-персона, O, B-организация]</td>\n",
              "    </tr>\n",
              "  </tbody>\n",
              "</table>\n",
              "</div>\n",
              "    <div class=\"colab-df-buttons\">\n",
              "\n",
              "  <div class=\"colab-df-container\">\n",
              "    <button class=\"colab-df-convert\" onclick=\"convertToInteractive('df-9723dc0b-5c63-4f09-bef1-96d737b141bf')\"\n",
              "            title=\"Convert this dataframe to an interactive table.\"\n",
              "            style=\"display:none;\">\n",
              "\n",
              "  <svg xmlns=\"http://www.w3.org/2000/svg\" height=\"24px\" viewBox=\"0 -960 960 960\">\n",
              "    <path d=\"M120-120v-720h720v720H120Zm60-500h600v-160H180v160Zm220 220h160v-160H400v160Zm0 220h160v-160H400v160ZM180-400h160v-160H180v160Zm440 0h160v-160H620v160ZM180-180h160v-160H180v160Zm440 0h160v-160H620v160Z\"/>\n",
              "  </svg>\n",
              "    </button>\n",
              "\n",
              "  <style>\n",
              "    .colab-df-container {\n",
              "      display:flex;\n",
              "      gap: 12px;\n",
              "    }\n",
              "\n",
              "    .colab-df-convert {\n",
              "      background-color: #E8F0FE;\n",
              "      border: none;\n",
              "      border-radius: 50%;\n",
              "      cursor: pointer;\n",
              "      display: none;\n",
              "      fill: #1967D2;\n",
              "      height: 32px;\n",
              "      padding: 0 0 0 0;\n",
              "      width: 32px;\n",
              "    }\n",
              "\n",
              "    .colab-df-convert:hover {\n",
              "      background-color: #E2EBFA;\n",
              "      box-shadow: 0px 1px 2px rgba(60, 64, 67, 0.3), 0px 1px 3px 1px rgba(60, 64, 67, 0.15);\n",
              "      fill: #174EA6;\n",
              "    }\n",
              "\n",
              "    .colab-df-buttons div {\n",
              "      margin-bottom: 4px;\n",
              "    }\n",
              "\n",
              "    [theme=dark] .colab-df-convert {\n",
              "      background-color: #3B4455;\n",
              "      fill: #D2E3FC;\n",
              "    }\n",
              "\n",
              "    [theme=dark] .colab-df-convert:hover {\n",
              "      background-color: #434B5C;\n",
              "      box-shadow: 0px 1px 3px 1px rgba(0, 0, 0, 0.15);\n",
              "      filter: drop-shadow(0px 1px 2px rgba(0, 0, 0, 0.3));\n",
              "      fill: #FFFFFF;\n",
              "    }\n",
              "  </style>\n",
              "\n",
              "    <script>\n",
              "      const buttonEl =\n",
              "        document.querySelector('#df-9723dc0b-5c63-4f09-bef1-96d737b141bf button.colab-df-convert');\n",
              "      buttonEl.style.display =\n",
              "        google.colab.kernel.accessAllowed ? 'block' : 'none';\n",
              "\n",
              "      async function convertToInteractive(key) {\n",
              "        const element = document.querySelector('#df-9723dc0b-5c63-4f09-bef1-96d737b141bf');\n",
              "        const dataTable =\n",
              "          await google.colab.kernel.invokeFunction('convertToInteractive',\n",
              "                                                    [key], {});\n",
              "        if (!dataTable) return;\n",
              "\n",
              "        const docLinkHtml = 'Like what you see? Visit the ' +\n",
              "          '<a target=\"_blank\" href=https://colab.research.google.com/notebooks/data_table.ipynb>data table notebook</a>'\n",
              "          + ' to learn more about interactive tables.';\n",
              "        element.innerHTML = '';\n",
              "        dataTable['output_type'] = 'display_data';\n",
              "        await google.colab.output.renderOutput(dataTable, element);\n",
              "        const docLink = document.createElement('div');\n",
              "        docLink.innerHTML = docLinkHtml;\n",
              "        element.appendChild(docLink);\n",
              "      }\n",
              "    </script>\n",
              "  </div>\n",
              "\n",
              "\n",
              "<div id=\"df-67c084e6-6b59-405c-8a12-6c5dd32d00d4\">\n",
              "  <button class=\"colab-df-quickchart\" onclick=\"quickchart('df-67c084e6-6b59-405c-8a12-6c5dd32d00d4')\"\n",
              "            title=\"Suggest charts.\"\n",
              "            style=\"display:none;\">\n",
              "\n",
              "<svg xmlns=\"http://www.w3.org/2000/svg\" height=\"24px\"viewBox=\"0 0 24 24\"\n",
              "     width=\"24px\">\n",
              "    <g>\n",
              "        <path d=\"M19 3H5c-1.1 0-2 .9-2 2v14c0 1.1.9 2 2 2h14c1.1 0 2-.9 2-2V5c0-1.1-.9-2-2-2zM9 17H7v-7h2v7zm4 0h-2V7h2v10zm4 0h-2v-4h2v4z\"/>\n",
              "    </g>\n",
              "</svg>\n",
              "  </button>\n",
              "\n",
              "<style>\n",
              "  .colab-df-quickchart {\n",
              "      --bg-color: #E8F0FE;\n",
              "      --fill-color: #1967D2;\n",
              "      --hover-bg-color: #E2EBFA;\n",
              "      --hover-fill-color: #174EA6;\n",
              "      --disabled-fill-color: #AAA;\n",
              "      --disabled-bg-color: #DDD;\n",
              "  }\n",
              "\n",
              "  [theme=dark] .colab-df-quickchart {\n",
              "      --bg-color: #3B4455;\n",
              "      --fill-color: #D2E3FC;\n",
              "      --hover-bg-color: #434B5C;\n",
              "      --hover-fill-color: #FFFFFF;\n",
              "      --disabled-bg-color: #3B4455;\n",
              "      --disabled-fill-color: #666;\n",
              "  }\n",
              "\n",
              "  .colab-df-quickchart {\n",
              "    background-color: var(--bg-color);\n",
              "    border: none;\n",
              "    border-radius: 50%;\n",
              "    cursor: pointer;\n",
              "    display: none;\n",
              "    fill: var(--fill-color);\n",
              "    height: 32px;\n",
              "    padding: 0;\n",
              "    width: 32px;\n",
              "  }\n",
              "\n",
              "  .colab-df-quickchart:hover {\n",
              "    background-color: var(--hover-bg-color);\n",
              "    box-shadow: 0 1px 2px rgba(60, 64, 67, 0.3), 0 1px 3px 1px rgba(60, 64, 67, 0.15);\n",
              "    fill: var(--button-hover-fill-color);\n",
              "  }\n",
              "\n",
              "  .colab-df-quickchart-complete:disabled,\n",
              "  .colab-df-quickchart-complete:disabled:hover {\n",
              "    background-color: var(--disabled-bg-color);\n",
              "    fill: var(--disabled-fill-color);\n",
              "    box-shadow: none;\n",
              "  }\n",
              "\n",
              "  .colab-df-spinner {\n",
              "    border: 2px solid var(--fill-color);\n",
              "    border-color: transparent;\n",
              "    border-bottom-color: var(--fill-color);\n",
              "    animation:\n",
              "      spin 1s steps(1) infinite;\n",
              "  }\n",
              "\n",
              "  @keyframes spin {\n",
              "    0% {\n",
              "      border-color: transparent;\n",
              "      border-bottom-color: var(--fill-color);\n",
              "      border-left-color: var(--fill-color);\n",
              "    }\n",
              "    20% {\n",
              "      border-color: transparent;\n",
              "      border-left-color: var(--fill-color);\n",
              "      border-top-color: var(--fill-color);\n",
              "    }\n",
              "    30% {\n",
              "      border-color: transparent;\n",
              "      border-left-color: var(--fill-color);\n",
              "      border-top-color: var(--fill-color);\n",
              "      border-right-color: var(--fill-color);\n",
              "    }\n",
              "    40% {\n",
              "      border-color: transparent;\n",
              "      border-right-color: var(--fill-color);\n",
              "      border-top-color: var(--fill-color);\n",
              "    }\n",
              "    60% {\n",
              "      border-color: transparent;\n",
              "      border-right-color: var(--fill-color);\n",
              "    }\n",
              "    80% {\n",
              "      border-color: transparent;\n",
              "      border-right-color: var(--fill-color);\n",
              "      border-bottom-color: var(--fill-color);\n",
              "    }\n",
              "    90% {\n",
              "      border-color: transparent;\n",
              "      border-bottom-color: var(--fill-color);\n",
              "    }\n",
              "  }\n",
              "</style>\n",
              "\n",
              "  <script>\n",
              "    async function quickchart(key) {\n",
              "      const quickchartButtonEl =\n",
              "        document.querySelector('#' + key + ' button');\n",
              "      quickchartButtonEl.disabled = true;  // To prevent multiple clicks.\n",
              "      quickchartButtonEl.classList.add('colab-df-spinner');\n",
              "      try {\n",
              "        const charts = await google.colab.kernel.invokeFunction(\n",
              "            'suggestCharts', [key], {});\n",
              "      } catch (error) {\n",
              "        console.error('Error during call to suggestCharts:', error);\n",
              "      }\n",
              "      quickchartButtonEl.classList.remove('colab-df-spinner');\n",
              "      quickchartButtonEl.classList.add('colab-df-quickchart-complete');\n",
              "    }\n",
              "    (() => {\n",
              "      let quickchartButtonEl =\n",
              "        document.querySelector('#df-67c084e6-6b59-405c-8a12-6c5dd32d00d4 button');\n",
              "      quickchartButtonEl.style.display =\n",
              "        google.colab.kernel.accessAllowed ? 'block' : 'none';\n",
              "    })();\n",
              "  </script>\n",
              "</div>\n",
              "    </div>\n",
              "  </div>\n"
            ]
          },
          "metadata": {},
          "execution_count": 136
        }
      ]
    },
    {
      "cell_type": "code",
      "source": [
        "def get_predict(test_df):\n",
        "  submission=analise_dataset(test_df)\n",
        "  prediction = [extract_labels(iitem1[1],iitem2) for iitem1, iitem2 in zip(submission.iterrows(),test_df.tolist())]\n",
        "\n",
        "  prediction_BIO=pd.DataFrame(prediction)\n",
        "  #predictions=[]\n",
        "  #for x in prediction:\n",
        "  #  predictions.append(x)\n",
        "\n",
        "  #prediction_BIO = pd.DataFrame(zip(test_df.tolist(),predictions))\n",
        "  #prediction = pd.DataFrame([extract_labels(item) for i, item in submission.iterrows()])\n",
        "  prediction_BIO=pd.DataFrame(list(zip(test_df.tolist(),prediction_BIO['tags'].tolist())),columns=['video_info','entities_prediction'])\n",
        "  #prediction_BIO=pd.DataFrame(zip(test_df,prediction),columns=['video_info','entities_prediction'])\n",
        "  return prediction_BIO"
      ],
      "metadata": {
        "id": "tzyII9ST4fcG"
      },
      "execution_count": 137,
      "outputs": []
    },
    {
      "cell_type": "code",
      "source": [
        "prediction=get_predict(test_df)"
      ],
      "metadata": {
        "colab": {
          "base_uri": "https://localhost:8080/"
        },
        "id": "LjvuEjBgPhuW",
        "outputId": "df056ef0-0d65-48ae-e822-63267001eea1"
      },
      "execution_count": 138,
      "outputs": [
        {
          "output_type": "stream",
          "name": "stderr",
          "text": [
            "100%|██████████| 20/20 [00:01<00:00, 11.76it/s]\n"
          ]
        }
      ]
    },
    {
      "cell_type": "code",
      "source": [
        "prediction"
      ],
      "metadata": {
        "colab": {
          "base_uri": "https://localhost:8080/",
          "height": 1000
        },
        "id": "ykmTd7ggy9dm",
        "outputId": "0f3c201e-70ef-4f0c-a50d-e1f23dc2d27f"
      },
      "execution_count": 139,
      "outputs": [
        {
          "output_type": "execute_result",
          "data": {
            "text/plain": [
              "                                                                                                                                                                                                                                                                                                     video_info  \\\n",
              "0   <НАЗВАНИЕ:> Агент 117: Из Африки с любовью — Русский тизер=трейлер (2021) <ОПИСАНИЕ:>Лучший Telegram канал о кино <LINK> Сотрудничество <LINK> Дата выхода 26 августа 2021 Оригинальное название: OSS 117: Alerte rouge en Afrique noire Страна: Франция Режиссер: Николя Бедос Жанр: боевик, комедия В ...   \n",
              "1   <НАЗВАНИЕ:> Коленвал Инфинити Ку икс 56= 5.6 VK56 VK56DE VK56=DE Коленный Вал Infiniti QX56= 5.6 стандартный <ОПИСАНИЕ:><LINK> kolenval infiniti iks.html Коленвал Инфинити Ку икс 56​ Коленный Вал Infiniti QX56​ Модель Двигателя: VK56, VK56DE, VK56 DE Рабочий объем двигателя: 5.6 Мощность в л.с. ...   \n",
              "2   <НАЗВАНИЕ:> ВЫЗОВ ДЕМОНА = Вызвал Серого Человека [Короткометражный фильм] #серыйчеловек, #короткометражныйфильм <ОПИСАНИЕ:>ВЫЗОВ ДЕМОНА Вызвал Серого Человека [Короткометражный фильм] #серыйчеловек, #короткометражныйфильм Спасибо за просмотр. В качестве оплаты с вас лайк и подписка) Ссылки на м...   \n",
              "3   <НАЗВАНИЕ:> Довоенная немецкая кирха в Калининградской области. Посетили вместе с #Заброшки39! <ОПИСАНИЕ:>Хочешь новых эмоций, побывать в необычных местах, тогда присоединяйся к нам <AT>! Автомобильные путешествия по заброшенным старинным сооружениям. Самые необычные места Калининградской област...   \n",
              "4   <НАЗВАНИЕ:> \"Спартаку\" помогли судьи? Локомотив засудили? Стоило ли отменять гол? <ОПИСАНИЕ:>Спартак #Локомотив #обзор #обзорматча #всеголы #Локо #ЛокомотивМосква #голПруцева #ЛокомотивСпартакобзор #ЛокомотивСпартакполныйматч #Кубок #КубокРоссии #ЛокомотивСпартаксудья #отмененныйгол #ЛокомотивСп...   \n",
              "5   <НАЗВАНИЕ:> Анекдот = В вашем борще моя курочка))) Смешные анекдоты от Таливерга ))) Юмор Смех Позитив! <ОПИСАНИЕ:>Анекдот как еврей подошел к своей соседке и предложил ей на её масле пожарить себе яичницу...Смешные анекдоты от Таливерга)))Всем приятного просмотра #Анекдоты #смешныеАнекдты #смеш...   \n",
              "6   <НАЗВАНИЕ:> Павшим в боях за оборону своей родины = посвящается: 35=я бронебашенная батарея <ОПИСАНИЕ:>Мой личный блог о Путешествиях: <LINK> #блог #тревл #путешествия #заработок ►Поддержать канал (донат): <LINK> ►Мой канал в Яндекс Дзен: zen.yandex.ru/alexandr_rodiaev ►Инстаграм<LINK>... ►ВКонт...   \n",
              "7   <НАЗВАНИЕ:> 6 марта 2022 г. Каратэ шотокан. Краевые соревнования по всестилевому каратэ. Кумитэ сёбу=санбон = 09 <ОПИСАНИЕ:>Краевые соревнования по всестилевому каратэ. Каратэ шотокан. Сёбу санбон девочки 8 9 лет. 6 марта 2022 года. город Краснодар. 🙏🏻Поддержать автора <LINK> ... 🥋Мы в YouTube <...   \n",
              "8   <НАЗВАНИЕ:> Международный Проект «Победа без границ». \"На братских могилах\". <ОПИСАНИЕ:>НА БРАТСКИХ МОГИЛАХ Автор Владимир Высоцкий Исполняет Инна Субботина Международный Проект «Победа без границ» Шымкент Алматы Балхаш Караганда Астана Петропавловск Курган Челябинск Екатеринбург Казань Магнитог...   \n",
              "9   <НАЗВАНИЕ:> Подготовка к отопительному сезону: в Хабаровске проверили проблемные многоквартирные дома <ОПИСАНИЕ:>Отопление в домах хабаровчан включат 8 октября. Паспорта готовности управляющие компании получили ещё до 15 сентября. Но, как показывает практика, иногда слово расходится с делом и ре...   \n",
              "10  <НАЗВАНИЕ:> Космические истории. Подготовка космонавтов для работы в экстремальных условиях. Выпуск 09.03.2023 <ОПИСАНИЕ:>Ведущий подкаста, космонавт Антон Шкаплеров, беседует с инструктором испытателем ЦПК Анатолием Забрусковым. Через какие экстремальные виды подготовки надо пройти членам отряд...   \n",
              "11  <НАЗВАНИЕ:> ТЕСТ НА ПСИХИКУ, КТО ЗАСМЕЁТСЯ ИЛИ УЛЫБНЕТСЯ = лайк и подписка! (5) <ОПИСАНИЕ:>Приятного просмотра и хорошего настроения! Подпишитесь на канал, с нами интересно! <LINK> Палец в верх) AliExpress товары по карману каждого), более пятидесяти миллионов самых разнообразных товаров по самы...   \n",
              "12  <НАЗВАНИЕ:> \"Пайғамбар қасиеттері\" бағдарламасы. КИІНУ ӘДЕБІ. Асыл арна <ОПИСАНИЕ:>\"Пайғамбар қасиеттері\" бағдарламасы. КИІНУ ӘДЕБІ. Асыл арна Бұл хабарда Пайғамбарымыздың (ол кісіге Алланың игілігі мен сәлемі болсын) киім кию әдебі, жақсы көрген киімдері, киінуге қатысты әдептер, ұнататын мата ...   \n",
              "13  <НАЗВАНИЕ:> Что делать женщине, если у неё два любовника, а выбрать нужно одного (2022) 1,2,3,4,5,6,7,8 серия <ОПИСАНИЕ:>Анна — успешный адвокат, которая не стесняясь говорит своей давней подруге Ларисе, что хочет выбрать «мужа на три месяца», так как у нее сложный проект и нужен громоотвод и по...   \n",
              "14  <НАЗВАНИЕ:> ИНТЕР = БАВАРИЯ. НАПОЛИ = ЛИВЕРПУЛЬ. АТЛЕТИКО МАДРИД = ПОРТУ. ПРОГНОЗ И СТАВКА. ЛИГА ЧЕМПИОНОВ <ОПИСАНИЕ:>Мой Телеграм: <LINK> Добавляйся в чат ставочников: <LINK> Мой канал в YouTube: goo.gl/PWAV1m Мой канал на Яндекс.Дзен: <LINK> Всё о ВПН: <LINK> flow.ru/features/vsyo chto vy hote...   \n",
              "15  <НАЗВАНИЕ:> Мания/Русский трейлер/2022/Спорт/Драма/Фильм/Новинка/Кино/Премьера/ <ОПИСАНИЕ:>Русский трейлер фильма \"Мания\" 2022 года Дата выхода в РФ – 24 марта 2022 О фильме: Студентка Алекс одержима желанием стать лучшей во всём. Она записывается в университетскую команду по гребле, и вскоре де...   \n",
              "16  <НАЗВАНИЕ:> Летние шины Nokian Powerproof SUV = спокойствие в крутых виражах на 4 точки. Шины и диски 4точки <ОПИСАНИЕ:>Летние шины Nokian Powerproof SUV спокойствие в крутых виражах на 4 точки. Шины и диски 4точки Wheels & Tyres Летняя шина Nokian Powerproof SUV представляет собой летнюю UHP ши...   \n",
              "17  <НАЗВАНИЕ:> МИСХОР=КОРЕИЗ/СТОИТ ЛИ ТУДА ЕХАТЬ?/ПРЕКРАСНЫЙ ПАРК И УЖАСНЫЕ ПЛЯЖИ. <ОПИСАНИЕ:>Кореиз/Мисхор/Крым и Разочарование. Почему мы не хотим отдыхать в Кореизе? Смотрите видео, может у вас сложится другое мнение? ★Поселок Кореиз находится на южном берегу Крыма, в 11 км от Ялты в сторону Алу...   \n",
              "18  <НАЗВАНИЕ:> Клип на дораму ❣ \"Цветочная команда: Брачное агентство Чосона\" ❣ (Гэ Дон и Ма Хун) <ОПИСАНИЕ:>16 серий по 60мин (2019г) Южная Корея Ли Су (Со Чжи Хун) был обычным кузнецом в сельской местности, но в 23 года неожиданно стал королем. Теперь он не может жениться на Гэ Дон (Гон Сын Ён), ...   \n",
              "19  <НАЗВАНИЕ:> НОВОСТИ OZON ЗАГРУЖАЕМ TOYOTA 0W20 5W30 HONDA 0W20 ОТПРАВКА НА #OZON 05_08_22 #ANTON_MYGT.mp4 <ОПИСАНИЕ:>Мы на OZON <LINK> avto nsk 332506 ДРУЗЬЯ!!! ПОДПИШИТЕСЬ НА МОЙ КАНАЛ НА ZEN!!! СЕЙЧАС ЭТО ВАЖНО!!! ВОТ ССЫЛКА!!! Наш канал на ZEN: <LINK> Мой блог на DRIVE2 <LINK>/ МОЙ VK <LINK> ...   \n",
              "\n",
              "                                                                                                                                                                                                                                                                                            entities_prediction  \n",
              "0   [O, O, O, O, O, O, O, O, O, O, O, O, O, O, O, O, O, O, O, O, O, O, O, O, B-организация, O, O, O, O, O, O, O, O, B-организация, O, O, O, B-Дата, I-Дата, I-Дата, O, O, O, O, O, O, O, O, O, O, O, O, O, B-локация, O, O, B-персона, I-персона, I-персона, O, O, O, O, O, O, O, O, B-персона, I-персона, O...  \n",
              "1        [O, O, O, O, O, O, O, O, O, O, O, O, O, O, O, O, O, O, O, O, O, O, O, O, O, O, O, O, O, O, O, O, O, O, O, O, O, O, O, O, O, O, O, O, O, O, O, O, O, O, O, O, O, O, O, O, O, O, B-организация, I-организация, I-организация, O, O, O, O, O, O, O, O, O, O, O, O, O, O, O, O, O, O, O, O, O, O, O, O, O]  \n",
              "2        [O, O, O, O, O, O, O, O, O, O, O, O, O, O, O, O, O, O, O, O, O, O, O, O, O, O, O, O, O, O, O, O, O, O, O, O, O, O, O, O, O, O, O, O, O, O, O, O, O, O, O, O, O, O, O, O, O, O, O, O, O, O, O, O, O, O, O, O, O, O, O, O, O, O, O, O, B-организация, O, O, O, O, O, O, O, O, O, O, O, O, O, O, O, O, O]  \n",
              "3   [O, O, O, O, B-персона, O, O, O, B-локация, I-локация, O, O, O, O, O, O, O, O, O, O, O, O, O, O, O, O, O, O, O, O, O, O, O, O, O, O, O, O, O, O, O, O, O, O, O, O, O, O, O, B-локация, I-локация, O, O, O, O, O, O, O, O, O, O, O, O, O, O, O, O, O, O, O, O, O, O, O, O, O, O, O, O, O, O, O, B-локация...  \n",
              "4                                                                         [O, O, O, O, O, B-организация, O, O, O, O, O, O, O, O, O, O, O, O, O, O, O, O, B-организация, O, B-организация, O, O, O, O, O, O, O, O, O, O, O, O, O, O, O, O, O, O, O, B-локация, O, O, O, O, O, O, O, B-персона, O, B-организация]  \n",
              "5                                                                [O, O, O, O, O, O, O, O, O, O, O, O, O, O, O, O, O, B-персона, O, O, O, O, O, O, O, O, O, O, O, O, O, O, O, O, O, O, O, O, O, O, O, O, O, O, O, O, O, O, O, B-персона, O, O, O, O, O, O, O, O, O, O, O, O, O, O, O, O, O, O, O, O, O, O, O, O]  \n",
              "6   [O, O, O, O, O, O, O, O, O, O, O, O, O, O, O, O, O, O, O, O, O, O, O, O, O, O, O, O, O, O, O, O, O, O, O, O, O, O, O, O, O, O, O, O, O, O, O, O, O, O, O, O, B-организация, I-организация, O, O, O, O, O, O, O, O, O, O, O, O, O, O, O, O, O, O, O, O, O, O, O, O, O, O, O, O, O, O, O, O, O, O, O, O, O...  \n",
              "7   [O, O, O, O, B-Дата, I-Дата, I-Дата, O, O, O, O, O, O, O, O, O, O, O, O, O, O, O, O, O, O, O, O, O, O, O, O, O, O, O, O, O, O, O, O, O, O, O, O, O, O, O, O, O, O, O, B-локация, O, O, O, O, O, O, O, O, O, B-организация, O, O, O, O, O, O, O, O, B-организация, O, O, O, O, O, O, O, O, O, B-организац...  \n",
              "8   [O, O, O, O, O, O, O, O, O, O, O, O, O, O, O, O, O, O, O, O, O, O, O, O, O, O, B-персона, I-персона, O, B-персона, I-персона, O, O, O, O, O, O, O, B-локация, I-локация, I-локация, I-локация, I-локация, O, O, O, O, O, O, O, O, O, O, O, O, O, O, O, O, O, O, O, O, O, B-локация, B-локация, I-локация...  \n",
              "9   [O, O, O, O, O, O, O, O, O, O, B-локация, O, O, O, O, O, O, O, O, O, O, O, O, O, O, O, O, O, O, O, O, O, O, O, O, O, O, O, O, O, O, O, O, O, O, O, O, O, O, O, O, O, O, O, O, O, O, O, O, O, B-персона, I-персона, O, O, O, O, O, O, O, O, O, O, O, O, O, O, O, O, O, O, O, O, O, O, O, B-локация, O, O,...  \n",
              "10  [O, O, O, O, O, O, O, O, O, O, O, O, O, O, O, O, B-Дата, O, O, O, O, O, O, O, O, B-персона, I-персона, O, O, O, O, O, B-организация, B-персона, I-персона, O, O, O, O, O, O, O, O, O, O, O, O, O, O, O, O, O, O, O, O, O, O, O, O, O, O, O, O, O, O, O, O, O, O, O, O, O, O, O, O, O, O, O, O, O, O, O, ...  \n",
              "11                                                 [O, O, O, O, O, O, O, O, O, O, O, O, O, O, O, O, O, O, O, O, O, O, O, O, O, O, O, O, O, O, O, O, O, O, O, O, O, O, O, O, O, O, O, O, O, B-организация, O, O, O, O, O, O, O, O, O, O, O, O, O, O, O, O, O, O, O, O, O, O, O, O, O, O, O, O, O, O, O, O, O, O]  \n",
              "12                                                                                [O, O, O, O, O, O, O, O, O, O, O, O, O, O, O, O, O, O, O, O, O, O, O, O, O, O, O, O, O, O, B-персона, I-персона, I-персона, O, O, O, B-персона, O, O, O, O, O, O, O, O, O, O, O, O, O, O, O, O, O, O, O, O, O, O, O, O, O, O]  \n",
              "13  [O, O, O, O, O, O, O, O, O, O, O, O, O, O, O, O, O, O, O, O, O, O, O, O, O, O, O, B-персона, O, O, O, O, O, O, O, O, O, O, O, B-персона, O, O, O, O, O, O, O, O, O, O, O, O, O, O, O, O, O, O, O, O, O, O, O, O, O, O, O, O, O, O, O, O, O, O, O, O, O, O, O, O, O, O, O, O, O, O, O, O, O, O, O, O, O, ...  \n",
              "14  [O, O, O, O, B-организация, O, B-организация, O, B-организация, O, B-организация, O, B-организация, B-локация, O, B-организация, O, O, O, O, O, O, O, O, O, O, O, O, O, O, O, O, O, O, O, O, O, O, O, B-организация, O, O, O, O, B-организация, O, O, O, O, O, O, O, O, O, O, O, B-организация, I-органи...  \n",
              "15  [O, O, O, O, O, O, O, O, O, O, O, O, O, O, O, O, O, O, O, O, O, O, O, O, O, O, O, O, O, O, O, O, O, O, O, O, O, O, B-локация, O, B-Дата, I-Дата, I-Дата, O, O, O, O, B-персона, O, O, O, O, O, O, O, O, O, O, O, O, O, O, O, O, O, O, O, O, O, O, O, O, O, O, O, O, O, O, B-локация, O, O, O, O, O, O, B...  \n",
              "16  [O, O, O, O, O, O, O, O, O, O, O, O, O, O, O, O, O, O, O, O, O, O, O, O, O, O, O, O, O, O, O, O, O, O, O, O, O, O, O, O, O, O, O, O, O, O, O, O, O, O, O, O, O, O, O, O, O, O, O, O, O, O, O, O, O, O, O, O, O, O, O, O, O, O, O, O, O, O, O, O, O, O, O, O, O, O, O, O, O, O, O, O, O, O, O, O, O, O, O...  \n",
              "17  [O, O, O, O, O, O, O, O, O, O, O, O, O, O, O, O, O, O, O, O, O, O, O, O, O, O, B-локация, I-локация, I-локация, O, B-локация, O, O, O, O, O, O, O, B-локация, O, O, O, O, O, O, O, O, O, O, O, O, B-локация, O, O, O, O, B-локация, O, O, O, O, O, B-локация, O, O, B-локация, O, O, B-локация, O, O, O,...  \n",
              "18  [O, O, O, O, O, O, O, O, O, O, O, O, B-организация, I-организация, I-организация, O, O, O, B-персона, I-персона, O, B-персона, I-персона, O, O, O, O, O, O, O, O, O, O, O, O, O, O, B-локация, I-локация, B-персона, I-персона, O, B-персона, I-персона, I-персона, O, O, O, O, O, O, O, O, O, O, O, O, ...  \n",
              "19  [O, O, O, O, B-организация, I-организация, O, O, O, O, O, O, O, O, O, O, O, O, O, O, O, B-организация, O, O, B-организация, O, O, O, O, O, O, O, O, O, B-организация, O, O, O, O, O, O, O, O, O, O, O, O, O, O, O, O, O, O, O, O, O, O, O, O, O, O, O, O, O, O, O, O, O, O, O, O, O, O, O, O, O, O, O, O...  "
            ],
            "text/html": [
              "\n",
              "  <div id=\"df-c26a3976-00e4-492e-88ae-ff332833e58c\" class=\"colab-df-container\">\n",
              "    <div>\n",
              "<style scoped>\n",
              "    .dataframe tbody tr th:only-of-type {\n",
              "        vertical-align: middle;\n",
              "    }\n",
              "\n",
              "    .dataframe tbody tr th {\n",
              "        vertical-align: top;\n",
              "    }\n",
              "\n",
              "    .dataframe thead th {\n",
              "        text-align: right;\n",
              "    }\n",
              "</style>\n",
              "<table border=\"1\" class=\"dataframe\">\n",
              "  <thead>\n",
              "    <tr style=\"text-align: right;\">\n",
              "      <th></th>\n",
              "      <th>video_info</th>\n",
              "      <th>entities_prediction</th>\n",
              "    </tr>\n",
              "  </thead>\n",
              "  <tbody>\n",
              "    <tr>\n",
              "      <th>0</th>\n",
              "      <td>&lt;НАЗВАНИЕ:&gt; Агент 117: Из Африки с любовью — Русский тизер=трейлер (2021) &lt;ОПИСАНИЕ:&gt;Лучший Telegram канал о кино &lt;LINK&gt; Сотрудничество &lt;LINK&gt; Дата выхода 26 августа 2021 Оригинальное название: OSS 117: Alerte rouge en Afrique noire Страна: Франция Режиссер: Николя Бедос Жанр: боевик, комедия В ...</td>\n",
              "      <td>[O, O, O, O, O, O, O, O, O, O, O, O, O, O, O, O, O, O, O, O, O, O, O, O, B-организация, O, O, O, O, O, O, O, O, B-организация, O, O, O, B-Дата, I-Дата, I-Дата, O, O, O, O, O, O, O, O, O, O, O, O, O, B-локация, O, O, B-персона, I-персона, I-персона, O, O, O, O, O, O, O, O, B-персона, I-персона, O...</td>\n",
              "    </tr>\n",
              "    <tr>\n",
              "      <th>1</th>\n",
              "      <td>&lt;НАЗВАНИЕ:&gt; Коленвал Инфинити Ку икс 56= 5.6 VK56 VK56DE VK56=DE Коленный Вал Infiniti QX56= 5.6 стандартный &lt;ОПИСАНИЕ:&gt;&lt;LINK&gt; kolenval infiniti iks.html Коленвал Инфинити Ку икс 56​ Коленный Вал Infiniti QX56​ Модель Двигателя: VK56, VK56DE, VK56 DE Рабочий объем двигателя: 5.6 Мощность в л.с. ...</td>\n",
              "      <td>[O, O, O, O, O, O, O, O, O, O, O, O, O, O, O, O, O, O, O, O, O, O, O, O, O, O, O, O, O, O, O, O, O, O, O, O, O, O, O, O, O, O, O, O, O, O, O, O, O, O, O, O, O, O, O, O, O, O, B-организация, I-организация, I-организация, O, O, O, O, O, O, O, O, O, O, O, O, O, O, O, O, O, O, O, O, O, O, O, O, O]</td>\n",
              "    </tr>\n",
              "    <tr>\n",
              "      <th>2</th>\n",
              "      <td>&lt;НАЗВАНИЕ:&gt; ВЫЗОВ ДЕМОНА = Вызвал Серого Человека [Короткометражный фильм] #серыйчеловек, #короткометражныйфильм &lt;ОПИСАНИЕ:&gt;ВЫЗОВ ДЕМОНА Вызвал Серого Человека [Короткометражный фильм] #серыйчеловек, #короткометражныйфильм Спасибо за просмотр. В качестве оплаты с вас лайк и подписка) Ссылки на м...</td>\n",
              "      <td>[O, O, O, O, O, O, O, O, O, O, O, O, O, O, O, O, O, O, O, O, O, O, O, O, O, O, O, O, O, O, O, O, O, O, O, O, O, O, O, O, O, O, O, O, O, O, O, O, O, O, O, O, O, O, O, O, O, O, O, O, O, O, O, O, O, O, O, O, O, O, O, O, O, O, O, O, B-организация, O, O, O, O, O, O, O, O, O, O, O, O, O, O, O, O, O]</td>\n",
              "    </tr>\n",
              "    <tr>\n",
              "      <th>3</th>\n",
              "      <td>&lt;НАЗВАНИЕ:&gt; Довоенная немецкая кирха в Калининградской области. Посетили вместе с #Заброшки39! &lt;ОПИСАНИЕ:&gt;Хочешь новых эмоций, побывать в необычных местах, тогда присоединяйся к нам &lt;AT&gt;! Автомобильные путешествия по заброшенным старинным сооружениям. Самые необычные места Калининградской област...</td>\n",
              "      <td>[O, O, O, O, B-персона, O, O, O, B-локация, I-локация, O, O, O, O, O, O, O, O, O, O, O, O, O, O, O, O, O, O, O, O, O, O, O, O, O, O, O, O, O, O, O, O, O, O, O, O, O, O, O, B-локация, I-локация, O, O, O, O, O, O, O, O, O, O, O, O, O, O, O, O, O, O, O, O, O, O, O, O, O, O, O, O, O, O, O, B-локация...</td>\n",
              "    </tr>\n",
              "    <tr>\n",
              "      <th>4</th>\n",
              "      <td>&lt;НАЗВАНИЕ:&gt; \"Спартаку\" помогли судьи? Локомотив засудили? Стоило ли отменять гол? &lt;ОПИСАНИЕ:&gt;Спартак #Локомотив #обзор #обзорматча #всеголы #Локо #ЛокомотивМосква #голПруцева #ЛокомотивСпартакобзор #ЛокомотивСпартакполныйматч #Кубок #КубокРоссии #ЛокомотивСпартаксудья #отмененныйгол #ЛокомотивСп...</td>\n",
              "      <td>[O, O, O, O, O, B-организация, O, O, O, O, O, O, O, O, O, O, O, O, O, O, O, O, B-организация, O, B-организация, O, O, O, O, O, O, O, O, O, O, O, O, O, O, O, O, O, O, O, B-локация, O, O, O, O, O, O, O, B-персона, O, B-организация]</td>\n",
              "    </tr>\n",
              "    <tr>\n",
              "      <th>5</th>\n",
              "      <td>&lt;НАЗВАНИЕ:&gt; Анекдот = В вашем борще моя курочка))) Смешные анекдоты от Таливерга ))) Юмор Смех Позитив! &lt;ОПИСАНИЕ:&gt;Анекдот как еврей подошел к своей соседке и предложил ей на её масле пожарить себе яичницу...Смешные анекдоты от Таливерга)))Всем приятного просмотра #Анекдоты #смешныеАнекдты #смеш...</td>\n",
              "      <td>[O, O, O, O, O, O, O, O, O, O, O, O, O, O, O, O, O, B-персона, O, O, O, O, O, O, O, O, O, O, O, O, O, O, O, O, O, O, O, O, O, O, O, O, O, O, O, O, O, O, O, B-персона, O, O, O, O, O, O, O, O, O, O, O, O, O, O, O, O, O, O, O, O, O, O, O, O]</td>\n",
              "    </tr>\n",
              "    <tr>\n",
              "      <th>6</th>\n",
              "      <td>&lt;НАЗВАНИЕ:&gt; Павшим в боях за оборону своей родины = посвящается: 35=я бронебашенная батарея &lt;ОПИСАНИЕ:&gt;Мой личный блог о Путешествиях: &lt;LINK&gt; #блог #тревл #путешествия #заработок ►Поддержать канал (донат): &lt;LINK&gt; ►Мой канал в Яндекс Дзен: zen.yandex.ru/alexandr_rodiaev ►Инстаграм&lt;LINK&gt;... ►ВКонт...</td>\n",
              "      <td>[O, O, O, O, O, O, O, O, O, O, O, O, O, O, O, O, O, O, O, O, O, O, O, O, O, O, O, O, O, O, O, O, O, O, O, O, O, O, O, O, O, O, O, O, O, O, O, O, O, O, O, O, B-организация, I-организация, O, O, O, O, O, O, O, O, O, O, O, O, O, O, O, O, O, O, O, O, O, O, O, O, O, O, O, O, O, O, O, O, O, O, O, O, O...</td>\n",
              "    </tr>\n",
              "    <tr>\n",
              "      <th>7</th>\n",
              "      <td>&lt;НАЗВАНИЕ:&gt; 6 марта 2022 г. Каратэ шотокан. Краевые соревнования по всестилевому каратэ. Кумитэ сёбу=санбон = 09 &lt;ОПИСАНИЕ:&gt;Краевые соревнования по всестилевому каратэ. Каратэ шотокан. Сёбу санбон девочки 8 9 лет. 6 марта 2022 года. город Краснодар. 🙏🏻Поддержать автора &lt;LINK&gt; ... 🥋Мы в YouTube &lt;...</td>\n",
              "      <td>[O, O, O, O, B-Дата, I-Дата, I-Дата, O, O, O, O, O, O, O, O, O, O, O, O, O, O, O, O, O, O, O, O, O, O, O, O, O, O, O, O, O, O, O, O, O, O, O, O, O, O, O, O, O, O, O, B-локация, O, O, O, O, O, O, O, O, O, B-организация, O, O, O, O, O, O, O, O, B-организация, O, O, O, O, O, O, O, O, O, B-организац...</td>\n",
              "    </tr>\n",
              "    <tr>\n",
              "      <th>8</th>\n",
              "      <td>&lt;НАЗВАНИЕ:&gt; Международный Проект «Победа без границ». \"На братских могилах\". &lt;ОПИСАНИЕ:&gt;НА БРАТСКИХ МОГИЛАХ Автор Владимир Высоцкий Исполняет Инна Субботина Международный Проект «Победа без границ» Шымкент Алматы Балхаш Караганда Астана Петропавловск Курган Челябинск Екатеринбург Казань Магнитог...</td>\n",
              "      <td>[O, O, O, O, O, O, O, O, O, O, O, O, O, O, O, O, O, O, O, O, O, O, O, O, O, O, B-персона, I-персона, O, B-персона, I-персона, O, O, O, O, O, O, O, B-локация, I-локация, I-локация, I-локация, I-локация, O, O, O, O, O, O, O, O, O, O, O, O, O, O, O, O, O, O, O, O, O, B-локация, B-локация, I-локация...</td>\n",
              "    </tr>\n",
              "    <tr>\n",
              "      <th>9</th>\n",
              "      <td>&lt;НАЗВАНИЕ:&gt; Подготовка к отопительному сезону: в Хабаровске проверили проблемные многоквартирные дома &lt;ОПИСАНИЕ:&gt;Отопление в домах хабаровчан включат 8 октября. Паспорта готовности управляющие компании получили ещё до 15 сентября. Но, как показывает практика, иногда слово расходится с делом и ре...</td>\n",
              "      <td>[O, O, O, O, O, O, O, O, O, O, B-локация, O, O, O, O, O, O, O, O, O, O, O, O, O, O, O, O, O, O, O, O, O, O, O, O, O, O, O, O, O, O, O, O, O, O, O, O, O, O, O, O, O, O, O, O, O, O, O, O, O, B-персона, I-персона, O, O, O, O, O, O, O, O, O, O, O, O, O, O, O, O, O, O, O, O, O, O, O, B-локация, O, O,...</td>\n",
              "    </tr>\n",
              "    <tr>\n",
              "      <th>10</th>\n",
              "      <td>&lt;НАЗВАНИЕ:&gt; Космические истории. Подготовка космонавтов для работы в экстремальных условиях. Выпуск 09.03.2023 &lt;ОПИСАНИЕ:&gt;Ведущий подкаста, космонавт Антон Шкаплеров, беседует с инструктором испытателем ЦПК Анатолием Забрусковым. Через какие экстремальные виды подготовки надо пройти членам отряд...</td>\n",
              "      <td>[O, O, O, O, O, O, O, O, O, O, O, O, O, O, O, O, B-Дата, O, O, O, O, O, O, O, O, B-персона, I-персона, O, O, O, O, O, B-организация, B-персона, I-персона, O, O, O, O, O, O, O, O, O, O, O, O, O, O, O, O, O, O, O, O, O, O, O, O, O, O, O, O, O, O, O, O, O, O, O, O, O, O, O, O, O, O, O, O, O, O, O, ...</td>\n",
              "    </tr>\n",
              "    <tr>\n",
              "      <th>11</th>\n",
              "      <td>&lt;НАЗВАНИЕ:&gt; ТЕСТ НА ПСИХИКУ, КТО ЗАСМЕЁТСЯ ИЛИ УЛЫБНЕТСЯ = лайк и подписка! (5) &lt;ОПИСАНИЕ:&gt;Приятного просмотра и хорошего настроения! Подпишитесь на канал, с нами интересно! &lt;LINK&gt; Палец в верх) AliExpress товары по карману каждого), более пятидесяти миллионов самых разнообразных товаров по самы...</td>\n",
              "      <td>[O, O, O, O, O, O, O, O, O, O, O, O, O, O, O, O, O, O, O, O, O, O, O, O, O, O, O, O, O, O, O, O, O, O, O, O, O, O, O, O, O, O, O, O, O, B-организация, O, O, O, O, O, O, O, O, O, O, O, O, O, O, O, O, O, O, O, O, O, O, O, O, O, O, O, O, O, O, O, O, O, O]</td>\n",
              "    </tr>\n",
              "    <tr>\n",
              "      <th>12</th>\n",
              "      <td>&lt;НАЗВАНИЕ:&gt; \"Пайғамбар қасиеттері\" бағдарламасы. КИІНУ ӘДЕБІ. Асыл арна &lt;ОПИСАНИЕ:&gt;\"Пайғамбар қасиеттері\" бағдарламасы. КИІНУ ӘДЕБІ. Асыл арна Бұл хабарда Пайғамбарымыздың (ол кісіге Алланың игілігі мен сәлемі болсын) киім кию әдебі, жақсы көрген киімдері, киінуге қатысты әдептер, ұнататын мата ...</td>\n",
              "      <td>[O, O, O, O, O, O, O, O, O, O, O, O, O, O, O, O, O, O, O, O, O, O, O, O, O, O, O, O, O, O, B-персона, I-персона, I-персона, O, O, O, B-персона, O, O, O, O, O, O, O, O, O, O, O, O, O, O, O, O, O, O, O, O, O, O, O, O, O, O]</td>\n",
              "    </tr>\n",
              "    <tr>\n",
              "      <th>13</th>\n",
              "      <td>&lt;НАЗВАНИЕ:&gt; Что делать женщине, если у неё два любовника, а выбрать нужно одного (2022) 1,2,3,4,5,6,7,8 серия &lt;ОПИСАНИЕ:&gt;Анна — успешный адвокат, которая не стесняясь говорит своей давней подруге Ларисе, что хочет выбрать «мужа на три месяца», так как у нее сложный проект и нужен громоотвод и по...</td>\n",
              "      <td>[O, O, O, O, O, O, O, O, O, O, O, O, O, O, O, O, O, O, O, O, O, O, O, O, O, O, O, B-персона, O, O, O, O, O, O, O, O, O, O, O, B-персона, O, O, O, O, O, O, O, O, O, O, O, O, O, O, O, O, O, O, O, O, O, O, O, O, O, O, O, O, O, O, O, O, O, O, O, O, O, O, O, O, O, O, O, O, O, O, O, O, O, O, O, O, O, ...</td>\n",
              "    </tr>\n",
              "    <tr>\n",
              "      <th>14</th>\n",
              "      <td>&lt;НАЗВАНИЕ:&gt; ИНТЕР = БАВАРИЯ. НАПОЛИ = ЛИВЕРПУЛЬ. АТЛЕТИКО МАДРИД = ПОРТУ. ПРОГНОЗ И СТАВКА. ЛИГА ЧЕМПИОНОВ &lt;ОПИСАНИЕ:&gt;Мой Телеграм: &lt;LINK&gt; Добавляйся в чат ставочников: &lt;LINK&gt; Мой канал в YouTube: goo.gl/PWAV1m Мой канал на Яндекс.Дзен: &lt;LINK&gt; Всё о ВПН: &lt;LINK&gt; flow.ru/features/vsyo chto vy hote...</td>\n",
              "      <td>[O, O, O, O, B-организация, O, B-организация, O, B-организация, O, B-организация, O, B-организация, B-локация, O, B-организация, O, O, O, O, O, O, O, O, O, O, O, O, O, O, O, O, O, O, O, O, O, O, O, B-организация, O, O, O, O, B-организация, O, O, O, O, O, O, O, O, O, O, O, B-организация, I-органи...</td>\n",
              "    </tr>\n",
              "    <tr>\n",
              "      <th>15</th>\n",
              "      <td>&lt;НАЗВАНИЕ:&gt; Мания/Русский трейлер/2022/Спорт/Драма/Фильм/Новинка/Кино/Премьера/ &lt;ОПИСАНИЕ:&gt;Русский трейлер фильма \"Мания\" 2022 года Дата выхода в РФ – 24 марта 2022 О фильме: Студентка Алекс одержима желанием стать лучшей во всём. Она записывается в университетскую команду по гребле, и вскоре де...</td>\n",
              "      <td>[O, O, O, O, O, O, O, O, O, O, O, O, O, O, O, O, O, O, O, O, O, O, O, O, O, O, O, O, O, O, O, O, O, O, O, O, O, O, B-локация, O, B-Дата, I-Дата, I-Дата, O, O, O, O, B-персона, O, O, O, O, O, O, O, O, O, O, O, O, O, O, O, O, O, O, O, O, O, O, O, O, O, O, O, O, O, O, B-локация, O, O, O, O, O, O, B...</td>\n",
              "    </tr>\n",
              "    <tr>\n",
              "      <th>16</th>\n",
              "      <td>&lt;НАЗВАНИЕ:&gt; Летние шины Nokian Powerproof SUV = спокойствие в крутых виражах на 4 точки. Шины и диски 4точки &lt;ОПИСАНИЕ:&gt;Летние шины Nokian Powerproof SUV спокойствие в крутых виражах на 4 точки. Шины и диски 4точки Wheels &amp; Tyres Летняя шина Nokian Powerproof SUV представляет собой летнюю UHP ши...</td>\n",
              "      <td>[O, O, O, O, O, O, O, O, O, O, O, O, O, O, O, O, O, O, O, O, O, O, O, O, O, O, O, O, O, O, O, O, O, O, O, O, O, O, O, O, O, O, O, O, O, O, O, O, O, O, O, O, O, O, O, O, O, O, O, O, O, O, O, O, O, O, O, O, O, O, O, O, O, O, O, O, O, O, O, O, O, O, O, O, O, O, O, O, O, O, O, O, O, O, O, O, O, O, O...</td>\n",
              "    </tr>\n",
              "    <tr>\n",
              "      <th>17</th>\n",
              "      <td>&lt;НАЗВАНИЕ:&gt; МИСХОР=КОРЕИЗ/СТОИТ ЛИ ТУДА ЕХАТЬ?/ПРЕКРАСНЫЙ ПАРК И УЖАСНЫЕ ПЛЯЖИ. &lt;ОПИСАНИЕ:&gt;Кореиз/Мисхор/Крым и Разочарование. Почему мы не хотим отдыхать в Кореизе? Смотрите видео, может у вас сложится другое мнение? ★Поселок Кореиз находится на южном берегу Крыма, в 11 км от Ялты в сторону Алу...</td>\n",
              "      <td>[O, O, O, O, O, O, O, O, O, O, O, O, O, O, O, O, O, O, O, O, O, O, O, O, O, O, B-локация, I-локация, I-локация, O, B-локация, O, O, O, O, O, O, O, B-локация, O, O, O, O, O, O, O, O, O, O, O, O, B-локация, O, O, O, O, B-локация, O, O, O, O, O, B-локация, O, O, B-локация, O, O, B-локация, O, O, O,...</td>\n",
              "    </tr>\n",
              "    <tr>\n",
              "      <th>18</th>\n",
              "      <td>&lt;НАЗВАНИЕ:&gt; Клип на дораму ❣ \"Цветочная команда: Брачное агентство Чосона\" ❣ (Гэ Дон и Ма Хун) &lt;ОПИСАНИЕ:&gt;16 серий по 60мин (2019г) Южная Корея Ли Су (Со Чжи Хун) был обычным кузнецом в сельской местности, но в 23 года неожиданно стал королем. Теперь он не может жениться на Гэ Дон (Гон Сын Ён), ...</td>\n",
              "      <td>[O, O, O, O, O, O, O, O, O, O, O, O, B-организация, I-организация, I-организация, O, O, O, B-персона, I-персона, O, B-персона, I-персона, O, O, O, O, O, O, O, O, O, O, O, O, O, O, B-локация, I-локация, B-персона, I-персона, O, B-персона, I-персона, I-персона, O, O, O, O, O, O, O, O, O, O, O, O, ...</td>\n",
              "    </tr>\n",
              "    <tr>\n",
              "      <th>19</th>\n",
              "      <td>&lt;НАЗВАНИЕ:&gt; НОВОСТИ OZON ЗАГРУЖАЕМ TOYOTA 0W20 5W30 HONDA 0W20 ОТПРАВКА НА #OZON 05_08_22 #ANTON_MYGT.mp4 &lt;ОПИСАНИЕ:&gt;Мы на OZON &lt;LINK&gt; avto nsk 332506 ДРУЗЬЯ!!! ПОДПИШИТЕСЬ НА МОЙ КАНАЛ НА ZEN!!! СЕЙЧАС ЭТО ВАЖНО!!! ВОТ ССЫЛКА!!! Наш канал на ZEN: &lt;LINK&gt; Мой блог на DRIVE2 &lt;LINK&gt;/ МОЙ VK &lt;LINK&gt; ...</td>\n",
              "      <td>[O, O, O, O, B-организация, I-организация, O, O, O, O, O, O, O, O, O, O, O, O, O, O, O, B-организация, O, O, B-организация, O, O, O, O, O, O, O, O, O, B-организация, O, O, O, O, O, O, O, O, O, O, O, O, O, O, O, O, O, O, O, O, O, O, O, O, O, O, O, O, O, O, O, O, O, O, O, O, O, O, O, O, O, O, O, O...</td>\n",
              "    </tr>\n",
              "  </tbody>\n",
              "</table>\n",
              "</div>\n",
              "    <div class=\"colab-df-buttons\">\n",
              "\n",
              "  <div class=\"colab-df-container\">\n",
              "    <button class=\"colab-df-convert\" onclick=\"convertToInteractive('df-c26a3976-00e4-492e-88ae-ff332833e58c')\"\n",
              "            title=\"Convert this dataframe to an interactive table.\"\n",
              "            style=\"display:none;\">\n",
              "\n",
              "  <svg xmlns=\"http://www.w3.org/2000/svg\" height=\"24px\" viewBox=\"0 -960 960 960\">\n",
              "    <path d=\"M120-120v-720h720v720H120Zm60-500h600v-160H180v160Zm220 220h160v-160H400v160Zm0 220h160v-160H400v160ZM180-400h160v-160H180v160Zm440 0h160v-160H620v160ZM180-180h160v-160H180v160Zm440 0h160v-160H620v160Z\"/>\n",
              "  </svg>\n",
              "    </button>\n",
              "\n",
              "  <style>\n",
              "    .colab-df-container {\n",
              "      display:flex;\n",
              "      gap: 12px;\n",
              "    }\n",
              "\n",
              "    .colab-df-convert {\n",
              "      background-color: #E8F0FE;\n",
              "      border: none;\n",
              "      border-radius: 50%;\n",
              "      cursor: pointer;\n",
              "      display: none;\n",
              "      fill: #1967D2;\n",
              "      height: 32px;\n",
              "      padding: 0 0 0 0;\n",
              "      width: 32px;\n",
              "    }\n",
              "\n",
              "    .colab-df-convert:hover {\n",
              "      background-color: #E2EBFA;\n",
              "      box-shadow: 0px 1px 2px rgba(60, 64, 67, 0.3), 0px 1px 3px 1px rgba(60, 64, 67, 0.15);\n",
              "      fill: #174EA6;\n",
              "    }\n",
              "\n",
              "    .colab-df-buttons div {\n",
              "      margin-bottom: 4px;\n",
              "    }\n",
              "\n",
              "    [theme=dark] .colab-df-convert {\n",
              "      background-color: #3B4455;\n",
              "      fill: #D2E3FC;\n",
              "    }\n",
              "\n",
              "    [theme=dark] .colab-df-convert:hover {\n",
              "      background-color: #434B5C;\n",
              "      box-shadow: 0px 1px 3px 1px rgba(0, 0, 0, 0.15);\n",
              "      filter: drop-shadow(0px 1px 2px rgba(0, 0, 0, 0.3));\n",
              "      fill: #FFFFFF;\n",
              "    }\n",
              "  </style>\n",
              "\n",
              "    <script>\n",
              "      const buttonEl =\n",
              "        document.querySelector('#df-c26a3976-00e4-492e-88ae-ff332833e58c button.colab-df-convert');\n",
              "      buttonEl.style.display =\n",
              "        google.colab.kernel.accessAllowed ? 'block' : 'none';\n",
              "\n",
              "      async function convertToInteractive(key) {\n",
              "        const element = document.querySelector('#df-c26a3976-00e4-492e-88ae-ff332833e58c');\n",
              "        const dataTable =\n",
              "          await google.colab.kernel.invokeFunction('convertToInteractive',\n",
              "                                                    [key], {});\n",
              "        if (!dataTable) return;\n",
              "\n",
              "        const docLinkHtml = 'Like what you see? Visit the ' +\n",
              "          '<a target=\"_blank\" href=https://colab.research.google.com/notebooks/data_table.ipynb>data table notebook</a>'\n",
              "          + ' to learn more about interactive tables.';\n",
              "        element.innerHTML = '';\n",
              "        dataTable['output_type'] = 'display_data';\n",
              "        await google.colab.output.renderOutput(dataTable, element);\n",
              "        const docLink = document.createElement('div');\n",
              "        docLink.innerHTML = docLinkHtml;\n",
              "        element.appendChild(docLink);\n",
              "      }\n",
              "    </script>\n",
              "  </div>\n",
              "\n",
              "\n",
              "<div id=\"df-b4dc5464-ca16-4aa1-ac04-467800987a5d\">\n",
              "  <button class=\"colab-df-quickchart\" onclick=\"quickchart('df-b4dc5464-ca16-4aa1-ac04-467800987a5d')\"\n",
              "            title=\"Suggest charts.\"\n",
              "            style=\"display:none;\">\n",
              "\n",
              "<svg xmlns=\"http://www.w3.org/2000/svg\" height=\"24px\"viewBox=\"0 0 24 24\"\n",
              "     width=\"24px\">\n",
              "    <g>\n",
              "        <path d=\"M19 3H5c-1.1 0-2 .9-2 2v14c0 1.1.9 2 2 2h14c1.1 0 2-.9 2-2V5c0-1.1-.9-2-2-2zM9 17H7v-7h2v7zm4 0h-2V7h2v10zm4 0h-2v-4h2v4z\"/>\n",
              "    </g>\n",
              "</svg>\n",
              "  </button>\n",
              "\n",
              "<style>\n",
              "  .colab-df-quickchart {\n",
              "      --bg-color: #E8F0FE;\n",
              "      --fill-color: #1967D2;\n",
              "      --hover-bg-color: #E2EBFA;\n",
              "      --hover-fill-color: #174EA6;\n",
              "      --disabled-fill-color: #AAA;\n",
              "      --disabled-bg-color: #DDD;\n",
              "  }\n",
              "\n",
              "  [theme=dark] .colab-df-quickchart {\n",
              "      --bg-color: #3B4455;\n",
              "      --fill-color: #D2E3FC;\n",
              "      --hover-bg-color: #434B5C;\n",
              "      --hover-fill-color: #FFFFFF;\n",
              "      --disabled-bg-color: #3B4455;\n",
              "      --disabled-fill-color: #666;\n",
              "  }\n",
              "\n",
              "  .colab-df-quickchart {\n",
              "    background-color: var(--bg-color);\n",
              "    border: none;\n",
              "    border-radius: 50%;\n",
              "    cursor: pointer;\n",
              "    display: none;\n",
              "    fill: var(--fill-color);\n",
              "    height: 32px;\n",
              "    padding: 0;\n",
              "    width: 32px;\n",
              "  }\n",
              "\n",
              "  .colab-df-quickchart:hover {\n",
              "    background-color: var(--hover-bg-color);\n",
              "    box-shadow: 0 1px 2px rgba(60, 64, 67, 0.3), 0 1px 3px 1px rgba(60, 64, 67, 0.15);\n",
              "    fill: var(--button-hover-fill-color);\n",
              "  }\n",
              "\n",
              "  .colab-df-quickchart-complete:disabled,\n",
              "  .colab-df-quickchart-complete:disabled:hover {\n",
              "    background-color: var(--disabled-bg-color);\n",
              "    fill: var(--disabled-fill-color);\n",
              "    box-shadow: none;\n",
              "  }\n",
              "\n",
              "  .colab-df-spinner {\n",
              "    border: 2px solid var(--fill-color);\n",
              "    border-color: transparent;\n",
              "    border-bottom-color: var(--fill-color);\n",
              "    animation:\n",
              "      spin 1s steps(1) infinite;\n",
              "  }\n",
              "\n",
              "  @keyframes spin {\n",
              "    0% {\n",
              "      border-color: transparent;\n",
              "      border-bottom-color: var(--fill-color);\n",
              "      border-left-color: var(--fill-color);\n",
              "    }\n",
              "    20% {\n",
              "      border-color: transparent;\n",
              "      border-left-color: var(--fill-color);\n",
              "      border-top-color: var(--fill-color);\n",
              "    }\n",
              "    30% {\n",
              "      border-color: transparent;\n",
              "      border-left-color: var(--fill-color);\n",
              "      border-top-color: var(--fill-color);\n",
              "      border-right-color: var(--fill-color);\n",
              "    }\n",
              "    40% {\n",
              "      border-color: transparent;\n",
              "      border-right-color: var(--fill-color);\n",
              "      border-top-color: var(--fill-color);\n",
              "    }\n",
              "    60% {\n",
              "      border-color: transparent;\n",
              "      border-right-color: var(--fill-color);\n",
              "    }\n",
              "    80% {\n",
              "      border-color: transparent;\n",
              "      border-right-color: var(--fill-color);\n",
              "      border-bottom-color: var(--fill-color);\n",
              "    }\n",
              "    90% {\n",
              "      border-color: transparent;\n",
              "      border-bottom-color: var(--fill-color);\n",
              "    }\n",
              "  }\n",
              "</style>\n",
              "\n",
              "  <script>\n",
              "    async function quickchart(key) {\n",
              "      const quickchartButtonEl =\n",
              "        document.querySelector('#' + key + ' button');\n",
              "      quickchartButtonEl.disabled = true;  // To prevent multiple clicks.\n",
              "      quickchartButtonEl.classList.add('colab-df-spinner');\n",
              "      try {\n",
              "        const charts = await google.colab.kernel.invokeFunction(\n",
              "            'suggestCharts', [key], {});\n",
              "      } catch (error) {\n",
              "        console.error('Error during call to suggestCharts:', error);\n",
              "      }\n",
              "      quickchartButtonEl.classList.remove('colab-df-spinner');\n",
              "      quickchartButtonEl.classList.add('colab-df-quickchart-complete');\n",
              "    }\n",
              "    (() => {\n",
              "      let quickchartButtonEl =\n",
              "        document.querySelector('#df-b4dc5464-ca16-4aa1-ac04-467800987a5d button');\n",
              "      quickchartButtonEl.style.display =\n",
              "        google.colab.kernel.accessAllowed ? 'block' : 'none';\n",
              "    })();\n",
              "  </script>\n",
              "</div>\n",
              "    </div>\n",
              "  </div>\n"
            ]
          },
          "metadata": {},
          "execution_count": 139
        }
      ]
    },
    {
      "cell_type": "markdown",
      "source": [
        "#<h1>Подсчет метрик</h1>"
      ],
      "metadata": {
        "id": "Y5toiCqDUU-v"
      }
    },
    {
      "cell_type": "code",
      "source": [
        "import numpy as np"
      ],
      "metadata": {
        "id": "wBstd46Vig_K"
      },
      "execution_count": 140,
      "outputs": []
    },
    {
      "cell_type": "code",
      "source": [
        "from datasets import load_dataset, load_metric\n",
        "metric = load_metric(\"seqeval\")\n",
        "def calculate_matric(dataframe):\n",
        "\n",
        "  ner_data = [extract_labels(iitem1[1],iitem2) for iitem1, iitem2 in zip(dataframe.iterrows(),dataframe['video_info'].tolist())]\n",
        "  dataframe_BIO=pd.DataFrame(ner_data)\n",
        "  y_true=dataframe_BIO['tags'].tolist()\n",
        "\n",
        "  y_predict=get_predict(dataframe['video_info'])['entities_prediction'].tolist()\n",
        "\n",
        "\n",
        "  arr=metric.compute(predictions=y_predict, references=y_true)\n",
        "\n",
        "  return arr\n",
        "\n"
      ],
      "metadata": {
        "id": "HfA-CMo6Uj_F"
      },
      "execution_count": 141,
      "outputs": []
    },
    {
      "cell_type": "code",
      "source": [
        "mertics=calculate_matric(df)"
      ],
      "metadata": {
        "colab": {
          "base_uri": "https://localhost:8080/"
        },
        "id": "0nj5aO4PZdI3",
        "outputId": "c1e210e6-47e1-49dd-83f8-c0cf35cfd032"
      },
      "execution_count": 142,
      "outputs": [
        {
          "output_type": "stream",
          "name": "stderr",
          "text": [
            "100%|██████████| 6042/6042 [04:12<00:00, 23.94it/s]\n",
            "/usr/local/lib/python3.10/dist-packages/seqeval/metrics/v1.py:57: UndefinedMetricWarning: Precision and F-score are ill-defined and being set to 0.0 in labels with no predicted samples. Use `zero_division` parameter to control this behavior.\n",
            "  _warn_prf(average, modifier, msg_start, len(result))\n"
          ]
        }
      ]
    },
    {
      "cell_type": "code",
      "source": [
        "mertics"
      ],
      "metadata": {
        "colab": {
          "base_uri": "https://localhost:8080/"
        },
        "id": "HeI_nex3Hg52",
        "outputId": "4beed96b-9d68-4c3a-9cea-36c69c17c3a7"
      },
      "execution_count": 143,
      "outputs": [
        {
          "output_type": "execute_result",
          "data": {
            "text/plain": [
              "{'Дата': {'precision': 0.5825545171339563,\n",
              "  'recall': 0.16912873078082605,\n",
              "  'f1': 0.26214953271028035,\n",
              "  'number': 3317},\n",
              " 'бренд': {'precision': 0.0, 'recall': 0.0, 'f1': 0.0, 'number': 1492},\n",
              " 'вид спорта': {'precision': 0.0, 'recall': 0.0, 'f1': 0.0, 'number': 467},\n",
              " 'видеоигра': {'precision': 0.0, 'recall': 0.0, 'f1': 0.0, 'number': 1288},\n",
              " 'команда': {'precision': 0.0, 'recall': 0.0, 'f1': 0.0, 'number': 713},\n",
              " 'лига': {'precision': 0.0, 'recall': 0.0, 'f1': 0.0, 'number': 450},\n",
              " 'локация': {'precision': 0.5000587751263665,\n",
              "  'recall': 0.6439600363306085,\n",
              "  'f1': 0.5629590418844704,\n",
              "  'number': 6606},\n",
              " 'модель': {'precision': 0.0, 'recall': 0.0, 'f1': 0.0, 'number': 1156},\n",
              " 'название проекта': {'precision': 0.0,\n",
              "  'recall': 0.0,\n",
              "  'f1': 0.0,\n",
              "  'number': 5394},\n",
              " 'организация': {'precision': 0.10604598810098087,\n",
              "  'recall': 0.4210022342802426,\n",
              "  'f1': 0.16941750690385976,\n",
              "  'number': 3133},\n",
              " 'персона': {'precision': 0.5581782637028455,\n",
              "  'recall': 0.7232385777277418,\n",
              "  'f1': 0.6300776460972619,\n",
              "  'number': 10659},\n",
              " 'сезон': {'precision': 0.14204545454545456,\n",
              "  'recall': 0.052854122621564484,\n",
              "  'f1': 0.07704160246533127,\n",
              "  'number': 473},\n",
              " 'серия': {'precision': 0.014084507042253521,\n",
              "  'recall': 0.002061855670103093,\n",
              "  'f1': 0.003597122302158273,\n",
              "  'number': 970},\n",
              " 'overall_precision': 0.38488220440103227,\n",
              " 'overall_recall': 0.38401904867379144,\n",
              " 'overall_f1': 0.3844501420552976,\n",
              " 'overall_accuracy': 0.8975021861203448}"
            ]
          },
          "metadata": {},
          "execution_count": 143
        }
      ]
    },
    {
      "cell_type": "code",
      "source": [],
      "metadata": {
        "id": "itVMp-uOopta"
      },
      "execution_count": 143,
      "outputs": []
    },
    {
      "cell_type": "code",
      "source": [],
      "metadata": {
        "id": "jymBXTy2opwa"
      },
      "execution_count": 143,
      "outputs": []
    },
    {
      "cell_type": "code",
      "source": [],
      "metadata": {
        "id": "xSeY7Xgbop2J"
      },
      "execution_count": 143,
      "outputs": []
    },
    {
      "cell_type": "markdown",
      "source": [
        "#<h1>playground</h1>"
      ],
      "metadata": {
        "id": "06VihDsTZ1fI"
      }
    },
    {
      "cell_type": "code",
      "source": [
        "#модифицированный get_predict для удобново ввода со стороны пользователя\n",
        "def get_predict_modify(text):\n",
        "  data=pd.DataFrame([[text]])\n",
        "  y_pred=get_predict(data[0])\n",
        "  return y_pred"
      ],
      "metadata": {
        "id": "8n7gseJ_Z-ln"
      },
      "execution_count": 97,
      "outputs": []
    },
    {
      "cell_type": "code",
      "source": [
        "text=\"\"\"Кинозал ДК приглашает на мультфильм \"Потеряшки и Тайна волшебной пирамиды\", 6+, 80 мин. #кинозалДКям <ОПИСАНИЕ:>Кинозал ДК Гаврилов Ямского МР приглашает с 31 марта на мультфильм \"Потеряшки и Тайна волшебной пирамиды\", 6+, 80 мин. Стоимость билетов 100 220 руб.\"\"\""
      ],
      "metadata": {
        "id": "9qNIGo2myufQ"
      },
      "execution_count": 102,
      "outputs": []
    },
    {
      "cell_type": "code",
      "source": [
        "get_predict_modify(text)"
      ],
      "metadata": {
        "colab": {
          "base_uri": "https://localhost:8080/",
          "height": 133
        },
        "id": "HLkp9v4lZ-mX",
        "outputId": "537d118e-49dd-4650-f1d9-c8fcd31c2b7a"
      },
      "execution_count": 103,
      "outputs": [
        {
          "output_type": "stream",
          "name": "stderr",
          "text": [
            "100%|██████████| 1/1 [00:00<00:00, 41.48it/s]\n"
          ]
        },
        {
          "output_type": "execute_result",
          "data": {
            "text/plain": [
              "                                                                                                                                                                                                                                                              video_info  \\\n",
              "0  Кинозал ДК приглашает на мультфильм \"Потеряшки и Тайна волшебной пирамиды\", 6+, 80 мин. #кинозалДКям <ОПИСАНИЕ:>Кинозал ДК Гаврилов Ямского МР приглашает с 31 марта на мультфильм \"Потеряшки и Тайна волшебной пирамиды\", 6+, 80 мин. Стоимость билетов 100 220 руб.   \n",
              "\n",
              "                                                                                                                                                                                                            entities_prediction  \n",
              "0  [B-организация, I-организация, O, O, O, O, O, O, O, O, O, O, O, O, O, O, O, O, O, O, O, O, O, O, O, O, B-организация, B-персона, I-персона, O, O, O, O, O, O, O, O, O, O, O, O, O, O, O, O, O, O, O, O, O, O, O, O, O, O, O]  "
            ],
            "text/html": [
              "\n",
              "  <div id=\"df-535fc57f-e279-4a5b-933f-fb5f1f19ed36\" class=\"colab-df-container\">\n",
              "    <div>\n",
              "<style scoped>\n",
              "    .dataframe tbody tr th:only-of-type {\n",
              "        vertical-align: middle;\n",
              "    }\n",
              "\n",
              "    .dataframe tbody tr th {\n",
              "        vertical-align: top;\n",
              "    }\n",
              "\n",
              "    .dataframe thead th {\n",
              "        text-align: right;\n",
              "    }\n",
              "</style>\n",
              "<table border=\"1\" class=\"dataframe\">\n",
              "  <thead>\n",
              "    <tr style=\"text-align: right;\">\n",
              "      <th></th>\n",
              "      <th>video_info</th>\n",
              "      <th>entities_prediction</th>\n",
              "    </tr>\n",
              "  </thead>\n",
              "  <tbody>\n",
              "    <tr>\n",
              "      <th>0</th>\n",
              "      <td>Кинозал ДК приглашает на мультфильм \"Потеряшки и Тайна волшебной пирамиды\", 6+, 80 мин. #кинозалДКям &lt;ОПИСАНИЕ:&gt;Кинозал ДК Гаврилов Ямского МР приглашает с 31 марта на мультфильм \"Потеряшки и Тайна волшебной пирамиды\", 6+, 80 мин. Стоимость билетов 100 220 руб.</td>\n",
              "      <td>[B-организация, I-организация, O, O, O, O, O, O, O, O, O, O, O, O, O, O, O, O, O, O, O, O, O, O, O, O, B-организация, B-персона, I-персона, O, O, O, O, O, O, O, O, O, O, O, O, O, O, O, O, O, O, O, O, O, O, O, O, O, O, O]</td>\n",
              "    </tr>\n",
              "  </tbody>\n",
              "</table>\n",
              "</div>\n",
              "    <div class=\"colab-df-buttons\">\n",
              "\n",
              "  <div class=\"colab-df-container\">\n",
              "    <button class=\"colab-df-convert\" onclick=\"convertToInteractive('df-535fc57f-e279-4a5b-933f-fb5f1f19ed36')\"\n",
              "            title=\"Convert this dataframe to an interactive table.\"\n",
              "            style=\"display:none;\">\n",
              "\n",
              "  <svg xmlns=\"http://www.w3.org/2000/svg\" height=\"24px\" viewBox=\"0 -960 960 960\">\n",
              "    <path d=\"M120-120v-720h720v720H120Zm60-500h600v-160H180v160Zm220 220h160v-160H400v160Zm0 220h160v-160H400v160ZM180-400h160v-160H180v160Zm440 0h160v-160H620v160ZM180-180h160v-160H180v160Zm440 0h160v-160H620v160Z\"/>\n",
              "  </svg>\n",
              "    </button>\n",
              "\n",
              "  <style>\n",
              "    .colab-df-container {\n",
              "      display:flex;\n",
              "      gap: 12px;\n",
              "    }\n",
              "\n",
              "    .colab-df-convert {\n",
              "      background-color: #E8F0FE;\n",
              "      border: none;\n",
              "      border-radius: 50%;\n",
              "      cursor: pointer;\n",
              "      display: none;\n",
              "      fill: #1967D2;\n",
              "      height: 32px;\n",
              "      padding: 0 0 0 0;\n",
              "      width: 32px;\n",
              "    }\n",
              "\n",
              "    .colab-df-convert:hover {\n",
              "      background-color: #E2EBFA;\n",
              "      box-shadow: 0px 1px 2px rgba(60, 64, 67, 0.3), 0px 1px 3px 1px rgba(60, 64, 67, 0.15);\n",
              "      fill: #174EA6;\n",
              "    }\n",
              "\n",
              "    .colab-df-buttons div {\n",
              "      margin-bottom: 4px;\n",
              "    }\n",
              "\n",
              "    [theme=dark] .colab-df-convert {\n",
              "      background-color: #3B4455;\n",
              "      fill: #D2E3FC;\n",
              "    }\n",
              "\n",
              "    [theme=dark] .colab-df-convert:hover {\n",
              "      background-color: #434B5C;\n",
              "      box-shadow: 0px 1px 3px 1px rgba(0, 0, 0, 0.15);\n",
              "      filter: drop-shadow(0px 1px 2px rgba(0, 0, 0, 0.3));\n",
              "      fill: #FFFFFF;\n",
              "    }\n",
              "  </style>\n",
              "\n",
              "    <script>\n",
              "      const buttonEl =\n",
              "        document.querySelector('#df-535fc57f-e279-4a5b-933f-fb5f1f19ed36 button.colab-df-convert');\n",
              "      buttonEl.style.display =\n",
              "        google.colab.kernel.accessAllowed ? 'block' : 'none';\n",
              "\n",
              "      async function convertToInteractive(key) {\n",
              "        const element = document.querySelector('#df-535fc57f-e279-4a5b-933f-fb5f1f19ed36');\n",
              "        const dataTable =\n",
              "          await google.colab.kernel.invokeFunction('convertToInteractive',\n",
              "                                                    [key], {});\n",
              "        if (!dataTable) return;\n",
              "\n",
              "        const docLinkHtml = 'Like what you see? Visit the ' +\n",
              "          '<a target=\"_blank\" href=https://colab.research.google.com/notebooks/data_table.ipynb>data table notebook</a>'\n",
              "          + ' to learn more about interactive tables.';\n",
              "        element.innerHTML = '';\n",
              "        dataTable['output_type'] = 'display_data';\n",
              "        await google.colab.output.renderOutput(dataTable, element);\n",
              "        const docLink = document.createElement('div');\n",
              "        docLink.innerHTML = docLinkHtml;\n",
              "        element.appendChild(docLink);\n",
              "      }\n",
              "    </script>\n",
              "  </div>\n",
              "\n",
              "    </div>\n",
              "  </div>\n"
            ]
          },
          "metadata": {},
          "execution_count": 103
        }
      ]
    },
    {
      "cell_type": "code",
      "source": [],
      "metadata": {
        "id": "Hnl8Q65Dor1p"
      },
      "execution_count": null,
      "outputs": []
    },
    {
      "cell_type": "markdown",
      "source": [
        "#<h1>Дополнительно<h2>"
      ],
      "metadata": {
        "id": "dLYo-ixrzQDu"
      }
    },
    {
      "cell_type": "markdown",
      "source": [],
      "metadata": {
        "id": "LFL4XgiEcY3Y"
      }
    },
    {
      "cell_type": "markdown",
      "source": [
        "Сравнение разных моделей для NER"
      ],
      "metadata": {
        "id": "ny8uLdHNa52T"
      }
    },
    {
      "cell_type": "code",
      "source": [
        "text=\"Шоу «Ярче звёзд» соберет самых талантливых вокалистов и прирожденных артистов из народа на одной сцене. Все они будут перевоплощаться в своих любимых исполнителей, а тот, кто сделает это убедительнее остальных, получит внушительный денежный приз и, конечно, всероссийскую славу и признание звёзд эстрады.\""
      ],
      "metadata": {
        "id": "7lx3mqS8zF-3"
      },
      "execution_count": null,
      "outputs": []
    },
    {
      "cell_type": "code",
      "source": [
        "import spacy\n",
        "\n",
        "nlp = spacy.load(\"ru_core_news_sm\")\n",
        "doc = nlp(text)\n",
        "for ent in doc.ents:\n",
        "    print(ent.text, ent.label_)"
      ],
      "metadata": {
        "id": "tDl7aud4sZqj"
      },
      "execution_count": null,
      "outputs": []
    },
    {
      "cell_type": "code",
      "source": [
        "exctract_NER(text)"
      ],
      "metadata": {
        "id": "wAe7U2QatJB8",
        "colab": {
          "base_uri": "https://localhost:8080/"
        },
        "outputId": "c6b57fd8-8fa3-45a8-b7f3-82c7fc87c296"
      },
      "execution_count": null,
      "outputs": [
        {
          "output_type": "execute_result",
          "data": {
            "text/plain": [
              "[]"
            ]
          },
          "metadata": {},
          "execution_count": 80
        }
      ]
    },
    {
      "cell_type": "markdown",
      "source": [
        "Сравнение y_true и y_pred"
      ],
      "metadata": {
        "id": "SUtEmMYniqFC"
      }
    },
    {
      "cell_type": "code",
      "source": [
        "def contrast_entites(df):\n",
        "  y_pred=analise_dataset(df['video_info'])\n",
        "  #y_pred=get_predict(df['video_info'])\n",
        "  y_pred['start entities']=df['entities'].tolist()\n",
        "  return y_pred"
      ],
      "metadata": {
        "id": "v0BbHTMVfrR9"
      },
      "execution_count": null,
      "outputs": []
    },
    {
      "cell_type": "code",
      "source": [
        "y_pred=contrast_entites(df.loc[2000:3000])"
      ],
      "metadata": {
        "colab": {
          "base_uri": "https://localhost:8080/"
        },
        "id": "WQEuxNNhgyrZ",
        "outputId": "a20d102c-867c-42d7-fef4-7fdf0d6f2745"
      },
      "execution_count": null,
      "outputs": [
        {
          "output_type": "stream",
          "name": "stderr",
          "text": [
            "100%|██████████| 1001/1001 [00:46<00:00, 21.59it/s]\n"
          ]
        }
      ]
    },
    {
      "cell_type": "code",
      "source": [
        "y_pred.to_csv('./test.csv', index=False, encoding='utf-8',sep=';')"
      ],
      "metadata": {
        "id": "wGGL74N2ick8"
      },
      "execution_count": null,
      "outputs": []
    },
    {
      "cell_type": "code",
      "source": [],
      "metadata": {
        "id": "Jx1pNK6m-elr"
      },
      "execution_count": null,
      "outputs": []
    },
    {
      "cell_type": "markdown",
      "source": [
        "TO DO"
      ],
      "metadata": {
        "id": "yS9wYuuvU56N"
      }
    },
    {
      "cell_type": "code",
      "source": [
        "\"\"\"\n",
        " {'Дата', +\n",
        " 'бренд',\n",
        " 'вид спорта',+\n",
        " 'видеоигра',\n",
        " 'команда',\n",
        " 'лига',\n",
        " 'локация', +\n",
        " 'модель',\n",
        " 'название проекта',\n",
        " 'организация', +\n",
        " 'персона', +\n",
        " 'сезон', +\n",
        " 'серия'} +\n",
        " \"\"\""
      ],
      "metadata": {
        "colab": {
          "base_uri": "https://localhost:8080/",
          "height": 53
        },
        "id": "ms4vrUYodxl7",
        "outputId": "f3a1a6eb-531a-4fe6-92b5-7c421734fa3e"
      },
      "execution_count": null,
      "outputs": [
        {
          "output_type": "execute_result",
          "data": {
            "text/plain": [
              "\"\\n {'Дата', +\\n 'бренд',\\n 'вид спорта',\\n 'видеоигра',\\n 'команда',\\n 'лига',\\n 'локация', +\\n 'модель',\\n 'название проекта',\\n 'организация', +\\n 'персона', +\\n 'сезон', +\\n 'серия'} +\\n \""
            ],
            "application/vnd.google.colaboratory.intrinsic+json": {
              "type": "string"
            }
          },
          "metadata": {},
          "execution_count": 84
        }
      ]
    },
    {
      "cell_type": "code",
      "source": [],
      "metadata": {
        "id": "znMASelMfA1l"
      },
      "execution_count": null,
      "outputs": []
    },
    {
      "cell_type": "markdown",
      "source": [
        "Функции отладки"
      ],
      "metadata": {
        "id": "FCsHCHItoYKw"
      }
    },
    {
      "cell_type": "code",
      "source": [
        "text=\"\"\n",
        "data=pd.DataFrame([[text]],columns=['video_info'])\n",
        "\n",
        "#фунция отладки для поиска смещений при маркировки BIO\n",
        "def get_predict_detect_shift(df):\n",
        "  prediction_BIO=get_predict(df['video_info'])\n",
        "  words_for_all_rows=[]\n",
        "  for i, item in df.iterrows():\n",
        "    raw_toks = list(tokenize(item['video_info']))\n",
        "    words = [tok.text for tok in raw_toks]\n",
        "    words_for_all_rows.append(words)\n",
        "\n",
        "  prediction_BIO['video_info']=words_for_all_rows\n",
        "  return prediction_BIO"
      ],
      "metadata": {
        "id": "qMz2oidYoMcB"
      },
      "execution_count": null,
      "outputs": []
    },
    {
      "cell_type": "code",
      "source": [
        "bb=get_predict_detect_shift(df.loc[:10])"
      ],
      "metadata": {
        "colab": {
          "base_uri": "https://localhost:8080/"
        },
        "id": "h4gyHD79oSxA",
        "outputId": "b7f43914-6e00-4328-f827-6f0008219a62"
      },
      "execution_count": null,
      "outputs": [
        {
          "output_type": "stream",
          "name": "stderr",
          "text": [
            "100%|██████████| 11/11 [00:00<00:00, 16.16it/s]\n"
          ]
        }
      ]
    },
    {
      "cell_type": "code",
      "source": [
        "bb.to_csv('jj.csv', sep=';')"
      ],
      "metadata": {
        "id": "IAboTNZLpYfd"
      },
      "execution_count": null,
      "outputs": []
    },
    {
      "cell_type": "code",
      "source": [
        "b1=bb['video_info'].tolist()[0]\n",
        "b2=bb['entities_prediction'].tolist()[0]"
      ],
      "metadata": {
        "id": "DhgtIFJYqM47"
      },
      "execution_count": null,
      "outputs": []
    },
    {
      "cell_type": "code",
      "source": [
        "for b1b,b2b in zip(b1,b2):\n",
        "  print(b1b,'\\t\\t\\t',b2b)"
      ],
      "metadata": {
        "colab": {
          "base_uri": "https://localhost:8080/"
        },
        "id": "BvKIXKU-qckD",
        "outputId": "cfec01e2-1f75-4efe-a062-7db836069a0f"
      },
      "execution_count": null,
      "outputs": [
        {
          "output_type": "stream",
          "name": "stdout",
          "text": [
            "< \t\t\t O\n",
            "НАЗВАНИЕ \t\t\t O\n",
            ": \t\t\t O\n",
            "> \t\t\t O\n",
            "Агент \t\t\t O\n",
            "117 \t\t\t O\n",
            ": \t\t\t O\n",
            "Из \t\t\t O\n",
            "Африки \t\t\t O\n",
            "с \t\t\t O\n",
            "любовью \t\t\t O\n",
            "— \t\t\t O\n",
            "Русский \t\t\t O\n",
            "тизер \t\t\t O\n",
            "= \t\t\t O\n",
            "трейлер \t\t\t O\n",
            "( \t\t\t O\n",
            "2021 \t\t\t O\n",
            ") \t\t\t O\n",
            "< \t\t\t O\n",
            "ОПИСАНИЕ \t\t\t O\n",
            ": \t\t\t O\n",
            "> \t\t\t O\n",
            "Лучший \t\t\t O\n",
            "Telegram \t\t\t B-организация\n",
            "канал \t\t\t O\n",
            "о \t\t\t O\n",
            "кино \t\t\t O\n",
            "< \t\t\t O\n",
            "LINK \t\t\t O\n",
            "> \t\t\t O\n",
            "Сотрудничество \t\t\t O\n",
            "< \t\t\t O\n",
            "LINK \t\t\t B-организация\n",
            "> \t\t\t O\n",
            "Дата \t\t\t O\n",
            "выхода \t\t\t O\n",
            "26 \t\t\t B-Дата\n",
            "августа \t\t\t I-Дата\n",
            "2021 \t\t\t I-Дата\n",
            "Оригинальное \t\t\t O\n",
            "название \t\t\t O\n",
            ": \t\t\t O\n",
            "OSS \t\t\t O\n",
            "117 \t\t\t O\n",
            ": \t\t\t O\n",
            "Alerte \t\t\t O\n",
            "rouge \t\t\t O\n",
            "en \t\t\t O\n",
            "Afrique \t\t\t O\n",
            "noire \t\t\t O\n",
            "Страна \t\t\t O\n",
            ": \t\t\t O\n",
            "Франция \t\t\t B-локация\n",
            "Режиссер \t\t\t O\n",
            ": \t\t\t O\n",
            "Николя \t\t\t B-персона\n",
            "Бедос \t\t\t I-персона\n",
            "Жанр \t\t\t I-персона\n",
            ": \t\t\t O\n",
            "боевик \t\t\t O\n",
            ", \t\t\t O\n",
            "комедия \t\t\t O\n",
            "В \t\t\t O\n",
            "главных \t\t\t O\n",
            "ролях \t\t\t O\n",
            ": \t\t\t O\n",
            "Жан \t\t\t B-персона\n",
            "Дюжарден \t\t\t I-персона\n",
            ", \t\t\t O\n",
            "Пьер \t\t\t B-персона\n",
            "Нинэ \t\t\t I-персона\n",
            ", \t\t\t O\n",
            "Мелоди \t\t\t B-персона\n",
            "Каста \t\t\t I-персона\n",
            ", \t\t\t O\n",
            "Наташа \t\t\t B-персона\n",
            "Линдинжер \t\t\t I-персона\n",
            ", \t\t\t O\n",
            "Владимир \t\t\t B-персона\n",
            "Иорданов \t\t\t I-персона\n",
            ", \t\t\t O\n",
            "Фату \t\t\t B-персона\n",
            "Н \t\t\t I-персона\n",
            "’ \t\t\t I-персона\n",
            "Диайе \t\t\t I-персона\n",
            ", \t\t\t O\n",
            "Пол \t\t\t B-персона\n",
            "Уайт \t\t\t I-персона\n",
            "Мир \t\t\t I-персона\n",
            "изменился \t\t\t O\n",
            ". \t\t\t O\n",
            "Он \t\t\t O\n",
            "нет \t\t\t O\n",
            ". \t\t\t O\n",
            "Судьба \t\t\t O\n",
            "заносит \t\t\t O\n",
            "легендарного \t\t\t O\n",
            "Агента \t\t\t B-персона\n",
            "117 \t\t\t I-персона\n",
            "в \t\t\t O\n",
            "Африку \t\t\t B-локация\n",
            ", \t\t\t O\n",
            "где \t\t\t O\n",
            "горячее \t\t\t O\n",
            "пустыни \t\t\t O\n",
            "только \t\t\t O\n",
            "женщины \t\t\t O\n",
            ". \t\t\t O\n",
            "Вооруженный \t\t\t O\n",
            "неиссякаемой \t\t\t O\n",
            "уверенностью \t\t\t O\n",
            "в \t\t\t O\n",
            "себе \t\t\t O\n",
            "и \t\t\t O\n",
            "убийственной \t\t\t O\n",
            "харизмой \t\t\t O\n",
            ", \t\t\t O\n",
            "он \t\t\t O\n",
            "может \t\t\t O\n",
            "справиться \t\t\t O\n",
            "со \t\t\t O\n",
            "всеми \t\t\t O\n",
            "врагами \t\t\t O\n",
            ", \t\t\t O\n",
            "кроме \t\t\t O\n",
            "самого \t\t\t O\n",
            "себя \t\t\t O\n",
            ". \t\t\t O\n",
            "По \t\t\t O\n",
            "вопросам \t\t\t O\n",
            "авторского \t\t\t O\n",
            "права \t\t\t O\n",
            ", \t\t\t O\n",
            "пожалуйста \t\t\t O\n",
            ", \t\t\t O\n",
            "свяжитесь \t\t\t O\n",
            "с \t\t\t O\n",
            "нами \t\t\t O\n",
            "по \t\t\t O\n",
            "адресу \t\t\t O\n",
            ": \t\t\t O\n",
            "< \t\t\t O\n",
            "AT \t\t\t B-организация\n",
            "> \t\t\t O\n"
          ]
        }
      ]
    },
    {
      "cell_type": "markdown",
      "source": [
        "#тестовый датасет"
      ],
      "metadata": {
        "id": "j4F1Ongpcd5Q"
      }
    },
    {
      "cell_type": "code",
      "source": [
        "dataframe=pd.read_csv('./ner_data_test.csv')\n",
        "y_predict=get_predict(dataframe['video_info'])"
      ],
      "metadata": {
        "colab": {
          "base_uri": "https://localhost:8080/"
        },
        "id": "ryaayZpPcjNY",
        "outputId": "2bad9ffa-4372-4e2a-aaa1-2e4694023a05"
      },
      "execution_count": 144,
      "outputs": [
        {
          "output_type": "stream",
          "name": "stderr",
          "text": [
            "100%|██████████| 1606/1606 [01:13<00:00, 21.72it/s]\n"
          ]
        }
      ]
    },
    {
      "cell_type": "code",
      "source": [
        "y_predict.to_csv('test.csv')"
      ],
      "metadata": {
        "id": "RxEZFXYVcuv4"
      },
      "execution_count": 147,
      "outputs": []
    }
  ]
}